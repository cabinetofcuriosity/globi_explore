{
 "cells": [
  {
   "cell_type": "markdown",
   "metadata": {},
   "source": [
    "I am Yikang Li, an international student from Tianjin, China. I just graduated from UC Berkeley with BA degree in statistics. I have long been interested in data science and therefore seized every possible means to be part of projects to improve my practical ability in data mining. During this research experience, I, together with other interns, studied different natural history databases and revised each other’s work using Github.\n",
    "\n",
    "I explored Global Biotic Interactions (GLoBI), a natural history database. I was intitially interested in the GloBI database because it provides data in the format of interactions, which is different from other biodiversity databases. Instead of focusing on one species at a time, it connects different species by describing interactions between them. My work will be posted in two parts 1. Accessing and understanding the data 2. Exploring the data with network visualizations. Hope you enjoy!"
   ]
  },
  {
   "cell_type": "markdown",
   "metadata": {},
   "source": [
    "<img src=\"https://www.globalbioticinteractions.org/assets/globi.svg\" alt=\"GloBI logo\" width=\"500\" height=\"600\">\n",
    "\n",
    "GloBI does a fantastic job of explaining itself: \n",
    ">Global Biotic Interactions (GloBI) provides open access to species interaction data (e.g., predator-prey, pollinator-plant, pathogen-host, parasite-host) by combining existing open datasets using open source software. By providing an infrastructure to capture and share interaction data, individual biologists can focus on gathering new interaction data and analyzing existing datasets without having to spend resources on (re-) building a cyberinfrastructure to do so.\n",
    "\n",
    "><p>GloBI is made possible by a community of software engineers, bioinformaticists and biologists. Software engineers\n",
    "        such as <a href=\"http://linkedin.com/in/jhpoelen\">Jorrit Poelen</a>, <a href=\"https://github.com/coding46\">Göran\n",
    "            Bodenschatz</a>, and <a href=\"https://github.com/reiz\">Robert Reiz</a> collaborate with bioinformaticists\n",
    "        like <a href=\"http://www.mendeley.com/profiles/chris-mungall/\">Chris Mungall</a>, data managers like <a href=\"http://github.com/millerse\">Sarah E. Miller</a> and biologists like <a\n",
    "                href=\"http://ccs.tamucc.edu/people/dr-james-d-simons/\">Jim Simons</a>, <a\n",
    "                href=\"http://ronininstitute.org/research-scholars/anne-thessen/\">Anne Thessen</a>, <a href=\"https://orcid.org/0000-0002-9943-2342\">Jen Hammock</a> and <a\n",
    "                href=\"https://sites.google.com/site/haydenresearch/\">Brian Hayden</a> to capture, provide access to and use interaction data\n",
    "        that is provided by <a href=\"/references.html\">biologists and citizen scientists around the world</a>. <b>GloBI is sustained by an intricate network of  thriving open source, open data and open science communities</b> in addition to receiving donations, grants, awards or being written into grants, including, but not limited to, EOL's <a href=\"http://eol.org/info/485\">EOL Rubenstein Fellows Program</a> (CRDF EOL-33066-13/F33066, 2013) and the David M. Rubenstein Grant (FOCX-14-60988-1, 2014), and the Smithsonian Institution (SI) (T15CC10297-002, 2016).\n"
   ]
  },
  {
   "cell_type": "markdown",
   "metadata": {},
   "source": [
    "## How to access GloBi\n",
    "\n",
    "To start, we must get the access the data! I will discuss a few options that I tried. \n",
    "\n",
    "### 1. The R package `rglobi`\n",
    "\n",
    "There is a package called [rglobi](https://cran.r-project.org/web/packages/rglobi/index.html) in R which allows us to access the database on Global Biotic Interactions (GloBI).  \n",
    "  \n",
    "Here is a description from the documentation of the package:\n",
    "\n",
    "> A programmatic interface to the web service methods provided by Global Biotic Interactions (GloBI). GloBI provides access to spatial-temporal species interaction records from sources all over the world. rglobi provides methods to search species interactions by location, interaction type, and taxonomic name. In addition, it supports Cypher, a graph query language, to allow for executing custom queries on the GloBI aggregate species interaction data set.\"  \n",
    "\n",
    "To use its methods and functions, we need to install and load the package \"rglobi\" in R.\n",
    "\n",
    "```r\n",
    "install.packages(\"rglobi\")\n",
    "library(rglobi)\n",
    "```\n",
    "\n",
    "Users are able to search data on species interactions by location, interaction type, taxonomic names and so on. Please check out the [rglobi vignette](https://cran.r-project.org/web/packages/rglobi/vignettes/rglobi_vignette.html) to learn more about the use of this package.\n",
    "\n",
    "While the R package provides built in methods and functions, it has limitation on the maximum amount of data displayed.  Look into Pagination options to understand the limitations: [https://github.com/ropensci/rglobi/blob/master/vignettes/rglobi_vignette.Rmd#L410](https://github.com/ropensci/rglobi/blob/master/vignettes/rglobi_vignette.Rmd#L410)\n",
    "\n",
    "\"By default, the amount of results are limited. If you'd like to retrieve all results, you can used pagination. For instance, to retrieve parasitic interactions using pagination, you can use:\n",
    "\n",
    "\n",
    "```r\n",
    "otherkeys = list(\"limit\"=10, \"skip\"=0)\n",
    "first_page_of_ten <- get_interactions_by_type(interactiontype = c(\"hasParasite\"), otherkeys = otherkeys)\n",
    "otherkeys = list(\"limit\"=10, \"skip\"=10)\n",
    "second_page_of_ten <- get_interactions_by_type(interactiontype = c(\"hasParasite\"), otherkeys = otherkeys)\n",
    "```\n",
    "\n",
    "Basically you have to exhaust all available interactions, you can keep paging results until the size of the page is less than the limit (e.g., ```nrows(interactions) < limit```).\"\n"
   ]
  },
  {
   "cell_type": "markdown",
   "metadata": {},
   "source": [
    "### 2. GloBI API\n",
    "Through the API: https://github.com/jhpoelen/eol-globi-data/wiki/API  \n",
    "The link above contains the API which provide access to interaction data for the purpose of integrating the data into wikis, custom webpages or other interaction exploration tools."
   ]
  },
  {
   "cell_type": "markdown",
   "metadata": {},
   "source": [
    "### 3. Download Everything\n",
    "Download the whole dataset directly at https://www.globalbioticinteractions.org/data  \n",
    "Datasets are available to download in different formats including tsv, csv and N-Quads/RDF. I chose the `.tsv` version. "
   ]
  },
  {
   "cell_type": "markdown",
   "metadata": {},
   "source": [
    "## Basic data exploration and characteristics"
   ]
  },
  {
   "cell_type": "markdown",
   "metadata": {},
   "source": [
    "I ended up choosing Choice 3 and explored the dataset with Python in the Jupyter notebook enviroment. One of the reasons is that I don't want to be limited by the built-in functions in `rglobi` package. Importing the whole dataset allows me to explore in whatever ways I want to. Also, by Choice 3, I have the same dataset everytime so the results can be fully reproducible. \n",
    "\n",
    "If you would like to follow along to follow along in a Jupyter notebook, please checkout the notebook here: [Notebook](https://github.com/cabinetofcuriosity/globi_explore/blob/master/notebook/part1_globi_access.ipynb). You will first need to download the interactions.tsv file here: [interactions.tsv.gz](https://depot.globalbioticinteractions.org/snapshot/target/data/tsv/interactions.tsv.gz). "
   ]
  },
  {
   "cell_type": "code",
   "execution_count": 19,
   "metadata": {},
   "outputs": [],
   "source": [
    "%matplotlib inline\n",
    "import pandas as pd"
   ]
  },
  {
   "cell_type": "code",
   "execution_count": 20,
   "metadata": {},
   "outputs": [
    {
     "name": "stderr",
     "output_type": "stream",
     "text": [
      "/anaconda3/lib/python3.7/site-packages/IPython/core/interactiveshell.py:3020: DtypeWarning: Columns (21,22,23,24,25,26,27,28,29,30,41,42,43,44,45,46,47,48,49,50,55,58,59,60,61,62,63,64,65,68,69,72,73,78) have mixed types. Specify dtype option on import or set low_memory=False.\n",
      "  interactivity=interactivity, compiler=compiler, result=result)\n"
     ]
    }
   ],
   "source": [
    "# Takes a few mintutes to load.\n",
    "# If following along please download and unzip interactions.tsv.gz from \n",
    "# https://depot.globalbioticinteractions.org/snapshot/target/data/tsv/interactions.tsv.gz\n",
    "# Unziping the file is ~6.5 GB\n",
    "# Don't forget to change path to the file on your computer\n",
    "\n",
    "data = pd.read_csv('~/Desktop/interactions.tsv', delimiter='\\t', encoding='utf-8')"
   ]
  },
  {
   "cell_type": "code",
   "execution_count": 21,
   "metadata": {},
   "outputs": [
    {
     "data": {
      "text/html": [
       "<div>\n",
       "<style scoped>\n",
       "    .dataframe tbody tr th:only-of-type {\n",
       "        vertical-align: middle;\n",
       "    }\n",
       "\n",
       "    .dataframe tbody tr th {\n",
       "        vertical-align: top;\n",
       "    }\n",
       "\n",
       "    .dataframe thead th {\n",
       "        text-align: right;\n",
       "    }\n",
       "</style>\n",
       "<table border=\"1\" class=\"dataframe\">\n",
       "  <thead>\n",
       "    <tr style=\"text-align: right;\">\n",
       "      <th></th>\n",
       "      <th>sourceTaxonId</th>\n",
       "      <th>sourceTaxonIds</th>\n",
       "      <th>sourceTaxonName</th>\n",
       "      <th>sourceTaxonRank</th>\n",
       "      <th>sourceTaxonPathNames</th>\n",
       "      <th>sourceTaxonPathIds</th>\n",
       "      <th>sourceTaxonPathRankNames</th>\n",
       "      <th>sourceTaxonSpeciesName</th>\n",
       "      <th>sourceTaxonSpeciesId</th>\n",
       "      <th>sourceTaxonGenusName</th>\n",
       "      <th>...</th>\n",
       "      <th>eventDateUnixEpoch</th>\n",
       "      <th>argumentTypeId</th>\n",
       "      <th>referenceCitation</th>\n",
       "      <th>referenceDoi</th>\n",
       "      <th>referenceUrl</th>\n",
       "      <th>sourceCitation</th>\n",
       "      <th>sourceNamespace</th>\n",
       "      <th>sourceArchiveURI</th>\n",
       "      <th>sourceDOI</th>\n",
       "      <th>sourceLastSeenAtUnixEpoch</th>\n",
       "    </tr>\n",
       "  </thead>\n",
       "  <tbody>\n",
       "    <tr>\n",
       "      <th>0</th>\n",
       "      <td>EOL:4472733</td>\n",
       "      <td>EOL:4472733 | EOL:4472733</td>\n",
       "      <td>Deinosuchus</td>\n",
       "      <td>genus</td>\n",
       "      <td>Deinosuchus</td>\n",
       "      <td>EOL:4472733</td>\n",
       "      <td>genus</td>\n",
       "      <td>NaN</td>\n",
       "      <td>NaN</td>\n",
       "      <td>Deinosuchus</td>\n",
       "      <td>...</td>\n",
       "      <td>NaN</td>\n",
       "      <td>https://en.wiktionary.org/wiki/support</td>\n",
       "      <td>Rivera-Sylva H.E., E. Frey and J.R. Guzmán-Gui...</td>\n",
       "      <td>10.4267/2042/28152</td>\n",
       "      <td>NaN</td>\n",
       "      <td>Katja Schulz. 2015. Information about dinosaur...</td>\n",
       "      <td>KatjaSchulz/dinosaur-biotic-interactions</td>\n",
       "      <td>https://github.com/KatjaSchulz/dinosaur-biotic...</td>\n",
       "      <td>NaN</td>\n",
       "      <td>2018-12-14T23:59:22.189Z</td>\n",
       "    </tr>\n",
       "    <tr>\n",
       "      <th>1</th>\n",
       "      <td>EOL:4433651</td>\n",
       "      <td>EOL:4433651 | EOL:4433651</td>\n",
       "      <td>Daspletosaurus</td>\n",
       "      <td>genus</td>\n",
       "      <td>Daspletosaurus</td>\n",
       "      <td>EOL:4433651</td>\n",
       "      <td>genus</td>\n",
       "      <td>NaN</td>\n",
       "      <td>NaN</td>\n",
       "      <td>Daspletosaurus</td>\n",
       "      <td>...</td>\n",
       "      <td>NaN</td>\n",
       "      <td>https://en.wiktionary.org/wiki/support</td>\n",
       "      <td>doi:10.1666/0022-3360(2001)075&lt;0401:GCFACT&gt;2.0...</td>\n",
       "      <td>10.1666/0022-3360(2001)075&lt;0401:GCFACT&gt;2.0.CO;2</td>\n",
       "      <td>NaN</td>\n",
       "      <td>Katja Schulz. 2015. Information about dinosaur...</td>\n",
       "      <td>KatjaSchulz/dinosaur-biotic-interactions</td>\n",
       "      <td>https://github.com/KatjaSchulz/dinosaur-biotic...</td>\n",
       "      <td>NaN</td>\n",
       "      <td>2018-12-14T23:59:22.189Z</td>\n",
       "    </tr>\n",
       "    <tr>\n",
       "      <th>2</th>\n",
       "      <td>EOL_V2:24210058</td>\n",
       "      <td>EOL_V2:24210058 | OTT:3617018 | GBIF:4975216 |...</td>\n",
       "      <td>Repenomamus robustus</td>\n",
       "      <td>species</td>\n",
       "      <td>Eucarya | Opisthokonta | Metazoa | Eumetazoa |...</td>\n",
       "      <td>EOL:5610326 | EOL:2910700 | EOL:42196910 | EOL...</td>\n",
       "      <td>|  | subkingdom |  |  |  |  |  |  |  |  | supe...</td>\n",
       "      <td>Repenomamus robustus</td>\n",
       "      <td>EOL_V2:24210058</td>\n",
       "      <td>Repenomamus</td>\n",
       "      <td>...</td>\n",
       "      <td>NaN</td>\n",
       "      <td>https://en.wiktionary.org/wiki/support</td>\n",
       "      <td>doi:10.1038/nature03102</td>\n",
       "      <td>10.1038/nature03102</td>\n",
       "      <td>NaN</td>\n",
       "      <td>Katja Schulz. 2015. Information about dinosaur...</td>\n",
       "      <td>KatjaSchulz/dinosaur-biotic-interactions</td>\n",
       "      <td>https://github.com/KatjaSchulz/dinosaur-biotic...</td>\n",
       "      <td>NaN</td>\n",
       "      <td>2018-12-14T23:59:22.189Z</td>\n",
       "    </tr>\n",
       "    <tr>\n",
       "      <th>3</th>\n",
       "      <td>EOL:4433892</td>\n",
       "      <td>EOL:4433892 | EOL:4433892</td>\n",
       "      <td>Sinocalliopteryx gigas</td>\n",
       "      <td>species</td>\n",
       "      <td>Sinocalliopteryx gigas</td>\n",
       "      <td>EOL:4433892</td>\n",
       "      <td>species</td>\n",
       "      <td>Sinocalliopteryx gigas</td>\n",
       "      <td>EOL:4433892</td>\n",
       "      <td>NaN</td>\n",
       "      <td>...</td>\n",
       "      <td>NaN</td>\n",
       "      <td>https://en.wiktionary.org/wiki/support</td>\n",
       "      <td>doi:10.1371/journal.pone.0044012</td>\n",
       "      <td>10.1371/journal.pone.0044012</td>\n",
       "      <td>NaN</td>\n",
       "      <td>Katja Schulz. 2015. Information about dinosaur...</td>\n",
       "      <td>KatjaSchulz/dinosaur-biotic-interactions</td>\n",
       "      <td>https://github.com/KatjaSchulz/dinosaur-biotic...</td>\n",
       "      <td>NaN</td>\n",
       "      <td>2018-12-14T23:59:22.189Z</td>\n",
       "    </tr>\n",
       "    <tr>\n",
       "      <th>4</th>\n",
       "      <td>EOL:4433892</td>\n",
       "      <td>EOL:4433892 | EOL:4433892</td>\n",
       "      <td>Sinocalliopteryx gigas</td>\n",
       "      <td>species</td>\n",
       "      <td>Sinocalliopteryx gigas</td>\n",
       "      <td>EOL:4433892</td>\n",
       "      <td>species</td>\n",
       "      <td>Sinocalliopteryx gigas</td>\n",
       "      <td>EOL:4433892</td>\n",
       "      <td>NaN</td>\n",
       "      <td>...</td>\n",
       "      <td>NaN</td>\n",
       "      <td>https://en.wiktionary.org/wiki/support</td>\n",
       "      <td>doi:10.1371/journal.pone.0044012</td>\n",
       "      <td>10.1371/journal.pone.0044012</td>\n",
       "      <td>NaN</td>\n",
       "      <td>Katja Schulz. 2015. Information about dinosaur...</td>\n",
       "      <td>KatjaSchulz/dinosaur-biotic-interactions</td>\n",
       "      <td>https://github.com/KatjaSchulz/dinosaur-biotic...</td>\n",
       "      <td>NaN</td>\n",
       "      <td>2018-12-14T23:59:22.189Z</td>\n",
       "    </tr>\n",
       "  </tbody>\n",
       "</table>\n",
       "<p>5 rows × 80 columns</p>\n",
       "</div>"
      ],
      "text/plain": [
       "     sourceTaxonId                                     sourceTaxonIds  \\\n",
       "0      EOL:4472733                          EOL:4472733 | EOL:4472733   \n",
       "1      EOL:4433651                          EOL:4433651 | EOL:4433651   \n",
       "2  EOL_V2:24210058  EOL_V2:24210058 | OTT:3617018 | GBIF:4975216 |...   \n",
       "3      EOL:4433892                          EOL:4433892 | EOL:4433892   \n",
       "4      EOL:4433892                          EOL:4433892 | EOL:4433892   \n",
       "\n",
       "          sourceTaxonName sourceTaxonRank  \\\n",
       "0             Deinosuchus           genus   \n",
       "1          Daspletosaurus           genus   \n",
       "2    Repenomamus robustus         species   \n",
       "3  Sinocalliopteryx gigas         species   \n",
       "4  Sinocalliopteryx gigas         species   \n",
       "\n",
       "                                sourceTaxonPathNames  \\\n",
       "0                                        Deinosuchus   \n",
       "1                                     Daspletosaurus   \n",
       "2  Eucarya | Opisthokonta | Metazoa | Eumetazoa |...   \n",
       "3                             Sinocalliopteryx gigas   \n",
       "4                             Sinocalliopteryx gigas   \n",
       "\n",
       "                                  sourceTaxonPathIds  \\\n",
       "0                                        EOL:4472733   \n",
       "1                                        EOL:4433651   \n",
       "2  EOL:5610326 | EOL:2910700 | EOL:42196910 | EOL...   \n",
       "3                                        EOL:4433892   \n",
       "4                                        EOL:4433892   \n",
       "\n",
       "                            sourceTaxonPathRankNames  sourceTaxonSpeciesName  \\\n",
       "0                                              genus                     NaN   \n",
       "1                                              genus                     NaN   \n",
       "2  |  | subkingdom |  |  |  |  |  |  |  |  | supe...    Repenomamus robustus   \n",
       "3                                            species  Sinocalliopteryx gigas   \n",
       "4                                            species  Sinocalliopteryx gigas   \n",
       "\n",
       "  sourceTaxonSpeciesId sourceTaxonGenusName            ...             \\\n",
       "0                  NaN          Deinosuchus            ...              \n",
       "1                  NaN       Daspletosaurus            ...              \n",
       "2      EOL_V2:24210058          Repenomamus            ...              \n",
       "3          EOL:4433892                  NaN            ...              \n",
       "4          EOL:4433892                  NaN            ...              \n",
       "\n",
       "  eventDateUnixEpoch                          argumentTypeId  \\\n",
       "0                NaN  https://en.wiktionary.org/wiki/support   \n",
       "1                NaN  https://en.wiktionary.org/wiki/support   \n",
       "2                NaN  https://en.wiktionary.org/wiki/support   \n",
       "3                NaN  https://en.wiktionary.org/wiki/support   \n",
       "4                NaN  https://en.wiktionary.org/wiki/support   \n",
       "\n",
       "                                   referenceCitation  \\\n",
       "0  Rivera-Sylva H.E., E. Frey and J.R. Guzmán-Gui...   \n",
       "1  doi:10.1666/0022-3360(2001)075<0401:GCFACT>2.0...   \n",
       "2                            doi:10.1038/nature03102   \n",
       "3                   doi:10.1371/journal.pone.0044012   \n",
       "4                   doi:10.1371/journal.pone.0044012   \n",
       "\n",
       "                                      referenceDoi referenceUrl  \\\n",
       "0                               10.4267/2042/28152          NaN   \n",
       "1  10.1666/0022-3360(2001)075<0401:GCFACT>2.0.CO;2          NaN   \n",
       "2                              10.1038/nature03102          NaN   \n",
       "3                     10.1371/journal.pone.0044012          NaN   \n",
       "4                     10.1371/journal.pone.0044012          NaN   \n",
       "\n",
       "                                      sourceCitation  \\\n",
       "0  Katja Schulz. 2015. Information about dinosaur...   \n",
       "1  Katja Schulz. 2015. Information about dinosaur...   \n",
       "2  Katja Schulz. 2015. Information about dinosaur...   \n",
       "3  Katja Schulz. 2015. Information about dinosaur...   \n",
       "4  Katja Schulz. 2015. Information about dinosaur...   \n",
       "\n",
       "                            sourceNamespace  \\\n",
       "0  KatjaSchulz/dinosaur-biotic-interactions   \n",
       "1  KatjaSchulz/dinosaur-biotic-interactions   \n",
       "2  KatjaSchulz/dinosaur-biotic-interactions   \n",
       "3  KatjaSchulz/dinosaur-biotic-interactions   \n",
       "4  KatjaSchulz/dinosaur-biotic-interactions   \n",
       "\n",
       "                                    sourceArchiveURI sourceDOI  \\\n",
       "0  https://github.com/KatjaSchulz/dinosaur-biotic...       NaN   \n",
       "1  https://github.com/KatjaSchulz/dinosaur-biotic...       NaN   \n",
       "2  https://github.com/KatjaSchulz/dinosaur-biotic...       NaN   \n",
       "3  https://github.com/KatjaSchulz/dinosaur-biotic...       NaN   \n",
       "4  https://github.com/KatjaSchulz/dinosaur-biotic...       NaN   \n",
       "\n",
       "  sourceLastSeenAtUnixEpoch  \n",
       "0  2018-12-14T23:59:22.189Z  \n",
       "1  2018-12-14T23:59:22.189Z  \n",
       "2  2018-12-14T23:59:22.189Z  \n",
       "3  2018-12-14T23:59:22.189Z  \n",
       "4  2018-12-14T23:59:22.189Z  \n",
       "\n",
       "[5 rows x 80 columns]"
      ]
     },
     "execution_count": 21,
     "metadata": {},
     "output_type": "execute_result"
    }
   ],
   "source": [
    "# See the first few rows\n",
    "data.head()"
   ]
  },
  {
   "cell_type": "code",
   "execution_count": 22,
   "metadata": {},
   "outputs": [
    {
     "data": {
      "text/plain": [
       "3456395"
      ]
     },
     "execution_count": 22,
     "metadata": {},
     "output_type": "execute_result"
    }
   ],
   "source": [
    "# Check the number of rows\n",
    "len(data)"
   ]
  },
  {
   "cell_type": "code",
   "execution_count": 23,
   "metadata": {},
   "outputs": [
    {
     "data": {
      "text/plain": [
       "80"
      ]
     },
     "execution_count": 23,
     "metadata": {},
     "output_type": "execute_result"
    }
   ],
   "source": [
    "# How many columns?\n",
    "len(data.columns)"
   ]
  },
  {
   "cell_type": "code",
   "execution_count": 24,
   "metadata": {},
   "outputs": [
    {
     "data": {
      "text/plain": [
       "Index(['sourceTaxonId', 'sourceTaxonIds', 'sourceTaxonName', 'sourceTaxonRank',\n",
       "       'sourceTaxonPathNames', 'sourceTaxonPathIds',\n",
       "       'sourceTaxonPathRankNames', 'sourceTaxonSpeciesName',\n",
       "       'sourceTaxonSpeciesId', 'sourceTaxonGenusName', 'sourceTaxonGenusId',\n",
       "       'sourceTaxonFamilyName', 'sourceTaxonFamilyId', 'sourceTaxonOrderName',\n",
       "       'sourceTaxonOrderId', 'sourceTaxonClassName', 'sourceTaxonClassId',\n",
       "       'sourceTaxonPhylumName', 'sourceTaxonPhylumId',\n",
       "       'sourceTaxonKingdomName', 'sourceTaxonKingdomId', 'sourceId',\n",
       "       'sourceOccurrenceId', 'sourceCatalogNumber', 'sourceBasisOfRecordId',\n",
       "       'sourceBasisOfRecordName', 'sourceLifeStageId', 'sourceLifeStageName',\n",
       "       'sourceBodyPartId', 'sourceBodyPartName', 'sourcePhysiologicalStateId',\n",
       "       'sourcePhysiologicalStateName', 'interactionTypeName',\n",
       "       'interactionTypeId', 'targetTaxonId', 'targetTaxonIds',\n",
       "       'targetTaxonName', 'targetTaxonRank', 'targetTaxonPathNames',\n",
       "       'targetTaxonPathIds', 'targetTaxonPathRankNames',\n",
       "       'targetTaxonSpeciesName', 'targetTaxonSpeciesId',\n",
       "       'targetTaxonGenusName', 'targetTaxonGenusId', 'targetTaxonFamilyName',\n",
       "       'targetTaxonFamilyId', 'targetTaxonOrderName', 'targetTaxonOrderId',\n",
       "       'targetTaxonClassName', 'targetTaxonClassId', 'targetTaxonPhylumName',\n",
       "       'targetTaxonPhylumId', 'targetTaxonKingdomName', 'targetTaxonKingdomId',\n",
       "       'targetId', 'targetOccurrenceId', 'targetCatalogNumber',\n",
       "       'targetBasisOfRecordId', 'targetBasisOfRecordName', 'targetLifeStageId',\n",
       "       'targetLifeStageName', 'targetBodyPartId', 'targetBodyPartName',\n",
       "       'targetPhysiologicalStateId', 'targetPhysiologicalStateName',\n",
       "       'decimalLatitude', 'decimalLongitude', 'localityId', 'localityName',\n",
       "       'eventDateUnixEpoch', 'argumentTypeId', 'referenceCitation',\n",
       "       'referenceDoi', 'referenceUrl', 'sourceCitation', 'sourceNamespace',\n",
       "       'sourceArchiveURI', 'sourceDOI', 'sourceLastSeenAtUnixEpoch'],\n",
       "      dtype='object')"
      ]
     },
     "execution_count": 24,
     "metadata": {},
     "output_type": "execute_result"
    }
   ],
   "source": [
    "# What are the 80 columns of this dataset?\n",
    "data.columns"
   ]
  },
  {
   "cell_type": "markdown",
   "metadata": {},
   "source": [
    "#### How many different types of taxons as sources & target? \n",
    "\n",
    "You can see that many of the columns start with either \"source\", \"target\".  Columns in which start with \"source\" describe the organisms or group of organisms that act upon the \"target\" organism. These columns are different ways to describe those organisms. The TaxonIDs columns are columns that link the organisms to an established database of organisms such as the [Encyclopedia of Life](https://eol.org/). The great part of these columns is that they are unique IDs. \n",
    "\n",
    "Let's check out how many unique organims or organims groups there are in GloBi."
   ]
  },
  {
   "cell_type": "code",
   "execution_count": 25,
   "metadata": {},
   "outputs": [
    {
     "data": {
      "text/plain": [
       "147510"
      ]
     },
     "execution_count": 25,
     "metadata": {},
     "output_type": "execute_result"
    }
   ],
   "source": [
    "# Source taxon\n",
    "len(data['sourceTaxonId'].unique())"
   ]
  },
  {
   "cell_type": "code",
   "execution_count": 26,
   "metadata": {},
   "outputs": [
    {
     "data": {
      "text/plain": [
       "106613"
      ]
     },
     "execution_count": 26,
     "metadata": {},
     "output_type": "execute_result"
    }
   ],
   "source": [
    "#Target taxon\n",
    "len(data['targetTaxonId'].unique())"
   ]
  },
  {
   "cell_type": "markdown",
   "metadata": {},
   "source": [
    "### What interaction types are there?\n",
    "\n",
    "The source and target organisms are connected by the action in which they interact and are described by the interaction columns which must fit into 37 interaction types. "
   ]
  },
  {
   "cell_type": "code",
   "execution_count": 27,
   "metadata": {},
   "outputs": [
    {
     "data": {
      "text/plain": [
       "array(['eats', 'preysOn', 'interactsWith', 'pollinates', 'parasiteOf',\n",
       "       'pathogenOf', 'visitsFlowersOf', 'adjacentTo', 'dispersalVectorOf',\n",
       "       'hasHost', 'endoparasitoidOf', 'symbiontOf', 'endoparasiteOf',\n",
       "       'hasVector', 'ectoParasiteOf', 'vectorOf', 'livesOn', 'livesNear',\n",
       "       'parasitoidOf', 'guestOf', 'livesInsideOf', 'farms',\n",
       "       'ectoParasitoid', 'inhabits', 'kills', 'hasDispersalVector',\n",
       "       'livesUnder', 'kleptoparasiteOf', 'hostOf', 'eatenBy',\n",
       "       'flowersVisitedBy', 'preyedUponBy', 'hasParasite', 'pollinatedBy',\n",
       "       'visits', 'commensalistOf', 'hasPathogen'], dtype=object)"
      ]
     },
     "execution_count": 27,
     "metadata": {},
     "output_type": "execute_result"
    }
   ],
   "source": [
    "data['interactionTypeName'].unique()"
   ]
  },
  {
   "cell_type": "code",
   "execution_count": 28,
   "metadata": {},
   "outputs": [
    {
     "data": {
      "text/plain": [
       "37"
      ]
     },
     "execution_count": 28,
     "metadata": {},
     "output_type": "execute_result"
    }
   ],
   "source": [
    "# number of different types of interaction\n",
    "len(data['interactionTypeName'].unique())"
   ]
  },
  {
   "cell_type": "markdown",
   "metadata": {},
   "source": [
    "Each record in GloBI comes from a specific dataset. One of the great parts of GloBI is the transparency on *exactly* where that data is coming from.  GloBI has a system set up that continually gathers the information from its sources on a daily basis. Because of this, the database can fix a mistake on their end and without intervention GloBi will incorporate those changes into their data set.  You can tell the source of the data from a few columns, but what is especially interesting is the `sourceNamespace` column which displays the exact place on GitHub where the data is coming from."
   ]
  },
  {
   "cell_type": "code",
   "execution_count": 29,
   "metadata": {},
   "outputs": [
    {
     "data": {
      "text/plain": [
       "globalbioticinteractions/fishbase                                            504260\n",
       "globalbioticinteractions/arthropodEasyCaptureAMNH                            350213\n",
       "millerse/Wardeh-et-al.-2015                                                  271904\n",
       "globalbioticinteractions/natural-history-museum-london-interactions-bank     242429\n",
       "millerse/Dapstrom-integrated-database-and-portal-for-fish-stomach-records    225564\n",
       "globalbioticinteractions/ices                                                183935\n",
       "EOL/pseudonitzchia                                                           183773\n",
       "globalbioticinteractions/noaa-reem                                           122328\n",
       "millerse/US-National-Parasite-Collection                                      99713\n",
       "globalbioticinteractions/roopnarine                                           96647\n",
       "Name: sourceNamespace, dtype: int64"
      ]
     },
     "execution_count": 29,
     "metadata": {},
     "output_type": "execute_result"
    }
   ],
   "source": [
    "# Top 10 data sources ranked by amount of records contributed to GloBI\n",
    "data['sourceNamespace'].value_counts().head(10)"
   ]
  },
  {
   "cell_type": "markdown",
   "metadata": {},
   "source": [
    "To look at where GloBI is getting this data from simply add the first column to `github.com/`. \n",
    "\n",
    "Example: The largest contributer appears to be Fishbase [github.com/globalbioticinteractions/fishbase](github.com/globalbioticinteractions/fishbase). You can also get the status of GloBi's interaction with the data sources here: [https://www.globalbioticinteractions.org/status.html](https://www.globalbioticinteractions.org/status.html).\n",
    "\n",
    "Many of the columns are related to the type of organism being described and the most intersting\n",
    "\n",
    "I'm interested in how many unique interaction type records are found in GloBi.  The most interesting columns and really the heart of the database is `sourceTaxonId`, `interactionTypeName`, and `targetTaxonId`. With these three columns you can see what an animal interacts with and how."
   ]
  },
  {
   "cell_type": "code",
   "execution_count": 53,
   "metadata": {},
   "outputs": [
    {
     "data": {
      "text/html": [
       "<div>\n",
       "<style scoped>\n",
       "    .dataframe tbody tr th:only-of-type {\n",
       "        vertical-align: middle;\n",
       "    }\n",
       "\n",
       "    .dataframe tbody tr th {\n",
       "        vertical-align: top;\n",
       "    }\n",
       "\n",
       "    .dataframe thead th {\n",
       "        text-align: right;\n",
       "    }\n",
       "</style>\n",
       "<table border=\"1\" class=\"dataframe\">\n",
       "  <thead>\n",
       "    <tr style=\"text-align: right;\">\n",
       "      <th></th>\n",
       "      <th>sourceTaxonId</th>\n",
       "      <th>interactionTypeName</th>\n",
       "      <th>targetTaxonId</th>\n",
       "      <th>sourceTaxonName</th>\n",
       "    </tr>\n",
       "  </thead>\n",
       "  <tbody>\n",
       "    <tr>\n",
       "      <th>0</th>\n",
       "      <td>EOL:4472733</td>\n",
       "      <td>eats</td>\n",
       "      <td>EOL_V2:42417811</td>\n",
       "      <td>Deinosuchus</td>\n",
       "    </tr>\n",
       "    <tr>\n",
       "      <th>1</th>\n",
       "      <td>EOL:4433651</td>\n",
       "      <td>eats</td>\n",
       "      <td>EOL_V2:42417811</td>\n",
       "      <td>Daspletosaurus</td>\n",
       "    </tr>\n",
       "    <tr>\n",
       "      <th>2</th>\n",
       "      <td>EOL_V2:24210058</td>\n",
       "      <td>eats</td>\n",
       "      <td>EOL:4532049</td>\n",
       "      <td>Repenomamus robustus</td>\n",
       "    </tr>\n",
       "    <tr>\n",
       "      <th>3</th>\n",
       "      <td>EOL:4433892</td>\n",
       "      <td>eats</td>\n",
       "      <td>EOL_V2:4433896</td>\n",
       "      <td>Sinocalliopteryx gigas</td>\n",
       "    </tr>\n",
       "    <tr>\n",
       "      <th>4</th>\n",
       "      <td>EOL:4433892</td>\n",
       "      <td>eats</td>\n",
       "      <td>EOL:4433563</td>\n",
       "      <td>Sinocalliopteryx gigas</td>\n",
       "    </tr>\n",
       "    <tr>\n",
       "      <th>5</th>\n",
       "      <td>EOL:4433551</td>\n",
       "      <td>eats</td>\n",
       "      <td>EOL:42331729</td>\n",
       "      <td>Microraptor gui</td>\n",
       "    </tr>\n",
       "    <tr>\n",
       "      <th>6</th>\n",
       "      <td>EOL:4531246</td>\n",
       "      <td>eats</td>\n",
       "      <td>EOL_V2:4530741</td>\n",
       "      <td>Baryonyx walkeri</td>\n",
       "    </tr>\n",
       "    <tr>\n",
       "      <th>7</th>\n",
       "      <td>EOL:4531246</td>\n",
       "      <td>eats</td>\n",
       "      <td>EOL:4653801</td>\n",
       "      <td>Baryonyx walkeri</td>\n",
       "    </tr>\n",
       "    <tr>\n",
       "      <th>8</th>\n",
       "      <td>EOL:4433582</td>\n",
       "      <td>eats</td>\n",
       "      <td>EOL_V2:4531936</td>\n",
       "      <td>Deinonychus antirrhopus</td>\n",
       "    </tr>\n",
       "    <tr>\n",
       "      <th>9</th>\n",
       "      <td>EOL:4433881</td>\n",
       "      <td>preysOn</td>\n",
       "      <td>EOL:4518630</td>\n",
       "      <td>Compsognathus longipes</td>\n",
       "    </tr>\n",
       "  </tbody>\n",
       "</table>\n",
       "</div>"
      ],
      "text/plain": [
       "     sourceTaxonId interactionTypeName    targetTaxonId  \\\n",
       "0      EOL:4472733                eats  EOL_V2:42417811   \n",
       "1      EOL:4433651                eats  EOL_V2:42417811   \n",
       "2  EOL_V2:24210058                eats      EOL:4532049   \n",
       "3      EOL:4433892                eats   EOL_V2:4433896   \n",
       "4      EOL:4433892                eats      EOL:4433563   \n",
       "5      EOL:4433551                eats     EOL:42331729   \n",
       "6      EOL:4531246                eats   EOL_V2:4530741   \n",
       "7      EOL:4531246                eats      EOL:4653801   \n",
       "8      EOL:4433582                eats   EOL_V2:4531936   \n",
       "9      EOL:4433881             preysOn      EOL:4518630   \n",
       "\n",
       "           sourceTaxonName  \n",
       "0              Deinosuchus  \n",
       "1           Daspletosaurus  \n",
       "2     Repenomamus robustus  \n",
       "3   Sinocalliopteryx gigas  \n",
       "4   Sinocalliopteryx gigas  \n",
       "5          Microraptor gui  \n",
       "6         Baryonyx walkeri  \n",
       "7         Baryonyx walkeri  \n",
       "8  Deinonychus antirrhopus  \n",
       "9   Compsognathus longipes  "
      ]
     },
     "execution_count": 53,
     "metadata": {},
     "output_type": "execute_result"
    }
   ],
   "source": [
    "data[['sourceTaxonId', 'interactionTypeName', 'targetTaxonId', 'sourceTaxonName']].head(10)"
   ]
  },
  {
   "cell_type": "markdown",
   "metadata": {},
   "source": [
    "## How to search by Organism - Sanity check with bats\n",
    "<img src=\"https://pbs.twimg.com/media/Dqb5IIsXgAEqgJK.jpg\" alt=\"vampire bat\">\n",
    "\n",
    "\n",
    "There are many columns that describe the species or order, you can search by any of the columns. One of the main ways in which researchers would want to use this data is to find the data corresponding to the species or taxa they are interested in. If you want to search for a specific taxa, you can just search using a organism string. I explored this feature a bit to try and understand if the data is making sense i.e. sanity check. \n",
    "\n",
    "I choose to search a few types of bats and just browse the results to see if they made sense.  First off I choose to see what [Carollia](https://en.wikipedia.org/wiki/Carollia), a genus of short tail fruit bats, eats."
   ]
  },
  {
   "cell_type": "code",
   "execution_count": 50,
   "metadata": {},
   "outputs": [
    {
     "data": {
      "text/html": [
       "<div>\n",
       "<style scoped>\n",
       "    .dataframe tbody tr th:only-of-type {\n",
       "        vertical-align: middle;\n",
       "    }\n",
       "\n",
       "    .dataframe tbody tr th {\n",
       "        vertical-align: top;\n",
       "    }\n",
       "\n",
       "    .dataframe thead th {\n",
       "        text-align: right;\n",
       "    }\n",
       "</style>\n",
       "<table border=\"1\" class=\"dataframe\">\n",
       "  <thead>\n",
       "    <tr style=\"text-align: right;\">\n",
       "      <th></th>\n",
       "      <th>sourceTaxonName</th>\n",
       "      <th>sourceTaxonId</th>\n",
       "      <th>interactionTypeName</th>\n",
       "      <th>targetTaxonName</th>\n",
       "      <th>targetTaxonId</th>\n",
       "    </tr>\n",
       "  </thead>\n",
       "  <tbody>\n",
       "    <tr>\n",
       "      <th>785626</th>\n",
       "      <td>Carollia perspicillata</td>\n",
       "      <td>EOL:327438</td>\n",
       "      <td>eats</td>\n",
       "      <td>Terminalia catappa</td>\n",
       "      <td>GBIF:3189394</td>\n",
       "    </tr>\n",
       "    <tr>\n",
       "      <th>785631</th>\n",
       "      <td>Carollia perspicillata</td>\n",
       "      <td>EOL:327438</td>\n",
       "      <td>eats</td>\n",
       "      <td>Terminalia catappa</td>\n",
       "      <td>GBIF:3189394</td>\n",
       "    </tr>\n",
       "    <tr>\n",
       "      <th>785683</th>\n",
       "      <td>Carollia perspicillata</td>\n",
       "      <td>EOL:327438</td>\n",
       "      <td>eats</td>\n",
       "      <td>Syzygium malaccense</td>\n",
       "      <td>EOL:2508662</td>\n",
       "    </tr>\n",
       "    <tr>\n",
       "      <th>785688</th>\n",
       "      <td>Carollia perspicillata</td>\n",
       "      <td>EOL:327438</td>\n",
       "      <td>eats</td>\n",
       "      <td>Syzygium jambos</td>\n",
       "      <td>EOL:2508661</td>\n",
       "    </tr>\n",
       "    <tr>\n",
       "      <th>785693</th>\n",
       "      <td>Carollia perspicillata</td>\n",
       "      <td>EOL:327438</td>\n",
       "      <td>eats</td>\n",
       "      <td>Syzygium jambos</td>\n",
       "      <td>EOL:2508661</td>\n",
       "    </tr>\n",
       "    <tr>\n",
       "      <th>785727</th>\n",
       "      <td>Carollia perspicillata</td>\n",
       "      <td>EOL:327438</td>\n",
       "      <td>eats</td>\n",
       "      <td>Syzygium cumini</td>\n",
       "      <td>EOL:2508660</td>\n",
       "    </tr>\n",
       "    <tr>\n",
       "      <th>785900</th>\n",
       "      <td>Carollia perspicillata</td>\n",
       "      <td>EOL:327438</td>\n",
       "      <td>eats</td>\n",
       "      <td>Spondias</td>\n",
       "      <td>EOL:61097</td>\n",
       "    </tr>\n",
       "    <tr>\n",
       "      <th>785963</th>\n",
       "      <td>Carollia perspicillata</td>\n",
       "      <td>EOL:327438</td>\n",
       "      <td>eats</td>\n",
       "      <td>Solanum</td>\n",
       "      <td>EOL:590245</td>\n",
       "    </tr>\n",
       "    <tr>\n",
       "      <th>785968</th>\n",
       "      <td>Carollia perspicillata</td>\n",
       "      <td>EOL:327438</td>\n",
       "      <td>eats</td>\n",
       "      <td>Solanum</td>\n",
       "      <td>EOL:590245</td>\n",
       "    </tr>\n",
       "    <tr>\n",
       "      <th>785970</th>\n",
       "      <td>Carollia perspicillata</td>\n",
       "      <td>EOL:327438</td>\n",
       "      <td>eats</td>\n",
       "      <td>Solanum</td>\n",
       "      <td>EOL:590245</td>\n",
       "    </tr>\n",
       "  </tbody>\n",
       "</table>\n",
       "</div>"
      ],
      "text/plain": [
       "               sourceTaxonName sourceTaxonId interactionTypeName  \\\n",
       "785626  Carollia perspicillata    EOL:327438                eats   \n",
       "785631  Carollia perspicillata    EOL:327438                eats   \n",
       "785683  Carollia perspicillata    EOL:327438                eats   \n",
       "785688  Carollia perspicillata    EOL:327438                eats   \n",
       "785693  Carollia perspicillata    EOL:327438                eats   \n",
       "785727  Carollia perspicillata    EOL:327438                eats   \n",
       "785900  Carollia perspicillata    EOL:327438                eats   \n",
       "785963  Carollia perspicillata    EOL:327438                eats   \n",
       "785968  Carollia perspicillata    EOL:327438                eats   \n",
       "785970  Carollia perspicillata    EOL:327438                eats   \n",
       "\n",
       "            targetTaxonName targetTaxonId  \n",
       "785626   Terminalia catappa  GBIF:3189394  \n",
       "785631   Terminalia catappa  GBIF:3189394  \n",
       "785683  Syzygium malaccense   EOL:2508662  \n",
       "785688      Syzygium jambos   EOL:2508661  \n",
       "785693      Syzygium jambos   EOL:2508661  \n",
       "785727      Syzygium cumini   EOL:2508660  \n",
       "785900             Spondias     EOL:61097  \n",
       "785963              Solanum    EOL:590245  \n",
       "785968              Solanum    EOL:590245  \n",
       "785970              Solanum    EOL:590245  "
      ]
     },
     "execution_count": 50,
     "metadata": {},
     "output_type": "execute_result"
    }
   ],
   "source": [
    "# Subset by the term Carollia\n",
    "corollia = data[data['sourceTaxonName'].str.contains('Carollia', na=False)]\n",
    "\n",
    "#subset by only what Carollia eats\n",
    "corollia = corollia.loc[corollia.interactionTypeName == 'eats']\n",
    "\n",
    "# Show only relevant columns\n",
    "corollia[['sourceTaxonName','sourceTaxonId', 'interactionTypeName', 'targetTaxonName','targetTaxonId']].head(10)"
   ]
  },
  {
   "cell_type": "markdown",
   "metadata": {},
   "source": [
    "From above you can see that [Carollia perspicillata](https://en.wikipedia.org/wiki/Seba%27s_short-tailed_bat) eats yummy things like [Terminalia catappa](https://en.wikipedia.org/wiki/Terminalia_catappa) which is some type of nut and [Syzygium malaccense](https://en.wikipedia.org/wiki/Syzygium_malaccense) some apple-like fruit. Seems right.\n",
    "\n",
    "<img src=\"https://upload.wikimedia.org/wikipedia/commons/c/c1/Indian_almond_%28Terminalia_catappa_L.%29%3B_leaves%2C_tree%2C_fruit%2C_Wellcome_V0042599.jpg\" alt=\"Fruit\">\n",
    "\n"
   ]
  },
  {
   "cell_type": "markdown",
   "metadata": {},
   "source": [
    "Now lets try another type of bat, [Desmodus](https://en.wikipedia.org/wiki/Desmodus) - the Vampire Bats! "
   ]
  },
  {
   "cell_type": "code",
   "execution_count": 52,
   "metadata": {},
   "outputs": [
    {
     "data": {
      "text/html": [
       "<div>\n",
       "<style scoped>\n",
       "    .dataframe tbody tr th:only-of-type {\n",
       "        vertical-align: middle;\n",
       "    }\n",
       "\n",
       "    .dataframe tbody tr th {\n",
       "        vertical-align: top;\n",
       "    }\n",
       "\n",
       "    .dataframe thead th {\n",
       "        text-align: right;\n",
       "    }\n",
       "</style>\n",
       "<table border=\"1\" class=\"dataframe\">\n",
       "  <thead>\n",
       "    <tr style=\"text-align: right;\">\n",
       "      <th></th>\n",
       "      <th>sourceTaxonName</th>\n",
       "      <th>sourceTaxonId</th>\n",
       "      <th>interactionTypeName</th>\n",
       "      <th>targetTaxonName</th>\n",
       "      <th>targetTaxonId</th>\n",
       "    </tr>\n",
       "  </thead>\n",
       "  <tbody>\n",
       "    <tr>\n",
       "      <th>1542376</th>\n",
       "      <td>Desmodus rotundus</td>\n",
       "      <td>GBIF:2433298</td>\n",
       "      <td>eats</td>\n",
       "      <td>Bos taurus</td>\n",
       "      <td>GBIF:2441022</td>\n",
       "    </tr>\n",
       "  </tbody>\n",
       "</table>\n",
       "</div>"
      ],
      "text/plain": [
       "           sourceTaxonName sourceTaxonId interactionTypeName targetTaxonName  \\\n",
       "1542376  Desmodus rotundus  GBIF:2433298                eats      Bos taurus   \n",
       "\n",
       "        targetTaxonId  \n",
       "1542376  GBIF:2441022  "
      ]
     },
     "execution_count": 52,
     "metadata": {},
     "output_type": "execute_result"
    }
   ],
   "source": [
    "# Subset by the term Desmodus\n",
    "Desmodus = data[data['sourceTaxonName'].str.contains('Desmodus', na=False)]\n",
    "\n",
    "#subset by only what Carollia eats or preysOn\n",
    "Desmodus = Desmodus.loc[(Desmodus.interactionTypeName == 'eats') | (Desmodus.interactionTypeName == 'preysOn')]\n",
    "\n",
    "# Show only relevant columns\n",
    "Desmodus[['sourceTaxonName','sourceTaxonId', 'interactionTypeName', 'targetTaxonName','targetTaxonId']].head(10)"
   ]
  },
  {
   "cell_type": "markdown",
   "metadata": {},
   "source": [
    "So if you look up [Bos taurus](https://en.wikipedia.org/wiki/Cattle), you see that this animal is \"cattle\". A mammal with blood. So creepy. So cool. I highly recommend just trying the above code with \n",
    "\n",
    "## Conclusions\n",
    "\n",
    "Now that I have a handle on the data I see a few different ways in which to explore the data. If you are like me, and need to google every species or taxa that is in the dataset, you should read next weeks post on automation of hyperlinking species names directly into a Jupyter Notebook, which makes exploring this GLoBI data really intuitive. Also, in the next post I will be creating tools that wrap the interaction data into informative network visualizations. Below is a sneak peak into the type of visualizations I will be creating. \n",
    "\n",
    "![](\"../img/network_example.png\")"
   ]
  },
  {
   "cell_type": "code",
   "execution_count": null,
   "metadata": {},
   "outputs": [],
   "source": []
  }
 ],
 "metadata": {
  "kernelspec": {
   "display_name": "Python 3",
   "language": "python",
   "name": "python3"
  },
  "language_info": {
   "codemirror_mode": {
    "name": "ipython",
    "version": 3
   },
   "file_extension": ".py",
   "mimetype": "text/x-python",
   "name": "python",
   "nbconvert_exporter": "python",
   "pygments_lexer": "ipython3",
   "version": "3.7.1"
  }
 },
 "nbformat": 4,
 "nbformat_minor": 2
}
