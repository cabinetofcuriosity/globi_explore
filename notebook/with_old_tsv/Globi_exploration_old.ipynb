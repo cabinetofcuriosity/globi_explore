{
 "cells": [
  {
   "cell_type": "markdown",
   "metadata": {},
   "source": [
    "# Globi database exploration:"
   ]
  },
  {
   "cell_type": "markdown",
   "metadata": {},
   "source": [
    "### Author: Yikang Li  \n",
    "### Date: Nov, 5th, 2018"
   ]
  },
  {
   "cell_type": "code",
   "execution_count": 43,
   "metadata": {
    "collapsed": true
   },
   "outputs": [],
   "source": [
    "import pandas as pd\n",
    "import pytaxize\n",
    "import re\n",
    "import matplotlib.pyplot as plt"
   ]
  },
  {
   "cell_type": "markdown",
   "metadata": {},
   "source": [
    "#### Load the interaction data:"
   ]
  },
  {
   "cell_type": "code",
   "execution_count": 234,
   "metadata": {},
   "outputs": [
    {
     "name": "stderr",
     "output_type": "stream",
     "text": [
      "/Users/glance/anaconda3/lib/python3.6/site-packages/IPython/core/interactiveshell.py:3020: DtypeWarning: Columns (7,8,9,10,11,12,13,14,15,16,27,30,31,32,33,34,35,36,37,40,41,43,44,49) have mixed types. Specify dtype option on import or set low_memory=False.\n",
      "  interactivity=interactivity, compiler=compiler, result=result)\n"
     ]
    }
   ],
   "source": [
    "data =pd.read_csv('interactions.tsv', delimiter='\\t', encoding='utf-8')"
   ]
  },
  {
   "cell_type": "code",
   "execution_count": 291,
   "metadata": {},
   "outputs": [
    {
     "data": {
      "text/html": [
       "<div>\n",
       "<style scoped>\n",
       "    .dataframe tbody tr th:only-of-type {\n",
       "        vertical-align: middle;\n",
       "    }\n",
       "\n",
       "    .dataframe tbody tr th {\n",
       "        vertical-align: top;\n",
       "    }\n",
       "\n",
       "    .dataframe thead th {\n",
       "        text-align: right;\n",
       "    }\n",
       "</style>\n",
       "<table border=\"1\" class=\"dataframe\">\n",
       "  <thead>\n",
       "    <tr style=\"text-align: right;\">\n",
       "      <th></th>\n",
       "      <th>sourceTaxonId</th>\n",
       "      <th>sourceTaxonIds</th>\n",
       "      <th>sourceTaxonName</th>\n",
       "      <th>sourceTaxonRank</th>\n",
       "      <th>sourceTaxonPathNames</th>\n",
       "      <th>sourceTaxonPathIds</th>\n",
       "      <th>sourceTaxonPathRankNames</th>\n",
       "      <th>sourceId</th>\n",
       "      <th>sourceOccurrenceId</th>\n",
       "      <th>sourceCatalogNumber</th>\n",
       "      <th>...</th>\n",
       "      <th>localityName</th>\n",
       "      <th>eventDateUnixEpoch</th>\n",
       "      <th>referenceCitation</th>\n",
       "      <th>referenceDoi</th>\n",
       "      <th>referenceUrl</th>\n",
       "      <th>sourceCitation</th>\n",
       "      <th>sourceNamespace</th>\n",
       "      <th>sourceArchiveURI</th>\n",
       "      <th>sourceDOI</th>\n",
       "      <th>sourceLastSeenAtUnixEpoch</th>\n",
       "    </tr>\n",
       "  </thead>\n",
       "  <tbody>\n",
       "    <tr>\n",
       "      <th>0</th>\n",
       "      <td>EOL:4472733</td>\n",
       "      <td>EOL:4472733 | EOL:4472733</td>\n",
       "      <td>Deinosuchus</td>\n",
       "      <td>genus</td>\n",
       "      <td>Deinosuchus</td>\n",
       "      <td>EOL:4472733</td>\n",
       "      <td>genus</td>\n",
       "      <td>NaN</td>\n",
       "      <td>NaN</td>\n",
       "      <td>NaN</td>\n",
       "      <td>...</td>\n",
       "      <td>NaN</td>\n",
       "      <td>NaN</td>\n",
       "      <td>Rivera-Sylva H.E., E. Frey and J.R. Guzmán-Gui...</td>\n",
       "      <td>10.4267/2042/28152</td>\n",
       "      <td>NaN</td>\n",
       "      <td>Katja Schulz. 2015. Information about dinosaur...</td>\n",
       "      <td>KatjaSchulz/dinosaur-biotic-interactions</td>\n",
       "      <td>https://github.com/KatjaSchulz/dinosaur-biotic...</td>\n",
       "      <td>NaN</td>\n",
       "      <td>2018-10-31T23:54:05.938Z</td>\n",
       "    </tr>\n",
       "    <tr>\n",
       "      <th>1</th>\n",
       "      <td>EOL:4433651</td>\n",
       "      <td>EOL:4433651 | EOL:4433651</td>\n",
       "      <td>Daspletosaurus</td>\n",
       "      <td>genus</td>\n",
       "      <td>Daspletosaurus</td>\n",
       "      <td>EOL:4433651</td>\n",
       "      <td>genus</td>\n",
       "      <td>NaN</td>\n",
       "      <td>NaN</td>\n",
       "      <td>NaN</td>\n",
       "      <td>...</td>\n",
       "      <td>NaN</td>\n",
       "      <td>NaN</td>\n",
       "      <td>doi:10.1666/0022-3360(2001)075&lt;0401:GCFACT&gt;2.0...</td>\n",
       "      <td>10.1666/0022-3360(2001)075&lt;0401:GCFACT&gt;2.0.CO;2</td>\n",
       "      <td>NaN</td>\n",
       "      <td>Katja Schulz. 2015. Information about dinosaur...</td>\n",
       "      <td>KatjaSchulz/dinosaur-biotic-interactions</td>\n",
       "      <td>https://github.com/KatjaSchulz/dinosaur-biotic...</td>\n",
       "      <td>NaN</td>\n",
       "      <td>2018-10-31T23:54:05.938Z</td>\n",
       "    </tr>\n",
       "    <tr>\n",
       "      <th>2</th>\n",
       "      <td>EOL:24210058</td>\n",
       "      <td>EOL:24210058 | OTT:3617018 | GBIF:4975216 | EO...</td>\n",
       "      <td>Repenomamus robustus</td>\n",
       "      <td>species</td>\n",
       "      <td>Eucarya | Opisthokonta | Metazoa | Eumetazoa |...</td>\n",
       "      <td>EOL:5610326 | EOL:2910700 | EOL:42196910 | EOL...</td>\n",
       "      <td>|  | subkingdom |  |  |  |  |  |  |  |  | supe...</td>\n",
       "      <td>NaN</td>\n",
       "      <td>NaN</td>\n",
       "      <td>NaN</td>\n",
       "      <td>...</td>\n",
       "      <td>NaN</td>\n",
       "      <td>NaN</td>\n",
       "      <td>doi:10.1038/nature03102</td>\n",
       "      <td>10.1038/nature03102</td>\n",
       "      <td>NaN</td>\n",
       "      <td>Katja Schulz. 2015. Information about dinosaur...</td>\n",
       "      <td>KatjaSchulz/dinosaur-biotic-interactions</td>\n",
       "      <td>https://github.com/KatjaSchulz/dinosaur-biotic...</td>\n",
       "      <td>NaN</td>\n",
       "      <td>2018-10-31T23:54:05.938Z</td>\n",
       "    </tr>\n",
       "    <tr>\n",
       "      <th>3</th>\n",
       "      <td>EOL:4433892</td>\n",
       "      <td>EOL:4433892 | EOL:4433892</td>\n",
       "      <td>Sinocalliopteryx gigas</td>\n",
       "      <td>species</td>\n",
       "      <td>Sinocalliopteryx gigas</td>\n",
       "      <td>EOL:4433892</td>\n",
       "      <td>species</td>\n",
       "      <td>NaN</td>\n",
       "      <td>NaN</td>\n",
       "      <td>NaN</td>\n",
       "      <td>...</td>\n",
       "      <td>NaN</td>\n",
       "      <td>NaN</td>\n",
       "      <td>doi:10.1371/journal.pone.0044012</td>\n",
       "      <td>10.1371/journal.pone.0044012</td>\n",
       "      <td>NaN</td>\n",
       "      <td>Katja Schulz. 2015. Information about dinosaur...</td>\n",
       "      <td>KatjaSchulz/dinosaur-biotic-interactions</td>\n",
       "      <td>https://github.com/KatjaSchulz/dinosaur-biotic...</td>\n",
       "      <td>NaN</td>\n",
       "      <td>2018-10-31T23:54:05.938Z</td>\n",
       "    </tr>\n",
       "    <tr>\n",
       "      <th>4</th>\n",
       "      <td>EOL:4433892</td>\n",
       "      <td>EOL:4433892 | EOL:4433892</td>\n",
       "      <td>Sinocalliopteryx gigas</td>\n",
       "      <td>species</td>\n",
       "      <td>Sinocalliopteryx gigas</td>\n",
       "      <td>EOL:4433892</td>\n",
       "      <td>species</td>\n",
       "      <td>NaN</td>\n",
       "      <td>NaN</td>\n",
       "      <td>NaN</td>\n",
       "      <td>...</td>\n",
       "      <td>NaN</td>\n",
       "      <td>NaN</td>\n",
       "      <td>doi:10.1371/journal.pone.0044012</td>\n",
       "      <td>10.1371/journal.pone.0044012</td>\n",
       "      <td>NaN</td>\n",
       "      <td>Katja Schulz. 2015. Information about dinosaur...</td>\n",
       "      <td>KatjaSchulz/dinosaur-biotic-interactions</td>\n",
       "      <td>https://github.com/KatjaSchulz/dinosaur-biotic...</td>\n",
       "      <td>NaN</td>\n",
       "      <td>2018-10-31T23:54:05.938Z</td>\n",
       "    </tr>\n",
       "  </tbody>\n",
       "</table>\n",
       "<p>5 rows × 51 columns</p>\n",
       "</div>"
      ],
      "text/plain": [
       "  sourceTaxonId                                     sourceTaxonIds  \\\n",
       "0   EOL:4472733                          EOL:4472733 | EOL:4472733   \n",
       "1   EOL:4433651                          EOL:4433651 | EOL:4433651   \n",
       "2  EOL:24210058  EOL:24210058 | OTT:3617018 | GBIF:4975216 | EO...   \n",
       "3   EOL:4433892                          EOL:4433892 | EOL:4433892   \n",
       "4   EOL:4433892                          EOL:4433892 | EOL:4433892   \n",
       "\n",
       "          sourceTaxonName sourceTaxonRank  \\\n",
       "0             Deinosuchus           genus   \n",
       "1          Daspletosaurus           genus   \n",
       "2    Repenomamus robustus         species   \n",
       "3  Sinocalliopteryx gigas         species   \n",
       "4  Sinocalliopteryx gigas         species   \n",
       "\n",
       "                                sourceTaxonPathNames  \\\n",
       "0                                        Deinosuchus   \n",
       "1                                     Daspletosaurus   \n",
       "2  Eucarya | Opisthokonta | Metazoa | Eumetazoa |...   \n",
       "3                             Sinocalliopteryx gigas   \n",
       "4                             Sinocalliopteryx gigas   \n",
       "\n",
       "                                  sourceTaxonPathIds  \\\n",
       "0                                        EOL:4472733   \n",
       "1                                        EOL:4433651   \n",
       "2  EOL:5610326 | EOL:2910700 | EOL:42196910 | EOL...   \n",
       "3                                        EOL:4433892   \n",
       "4                                        EOL:4433892   \n",
       "\n",
       "                            sourceTaxonPathRankNames sourceId  \\\n",
       "0                                              genus      NaN   \n",
       "1                                              genus      NaN   \n",
       "2  |  | subkingdom |  |  |  |  |  |  |  |  | supe...      NaN   \n",
       "3                                            species      NaN   \n",
       "4                                            species      NaN   \n",
       "\n",
       "  sourceOccurrenceId sourceCatalogNumber            ...             \\\n",
       "0                NaN                 NaN            ...              \n",
       "1                NaN                 NaN            ...              \n",
       "2                NaN                 NaN            ...              \n",
       "3                NaN                 NaN            ...              \n",
       "4                NaN                 NaN            ...              \n",
       "\n",
       "  localityName eventDateUnixEpoch  \\\n",
       "0          NaN                NaN   \n",
       "1          NaN                NaN   \n",
       "2          NaN                NaN   \n",
       "3          NaN                NaN   \n",
       "4          NaN                NaN   \n",
       "\n",
       "                                   referenceCitation  \\\n",
       "0  Rivera-Sylva H.E., E. Frey and J.R. Guzmán-Gui...   \n",
       "1  doi:10.1666/0022-3360(2001)075<0401:GCFACT>2.0...   \n",
       "2                            doi:10.1038/nature03102   \n",
       "3                   doi:10.1371/journal.pone.0044012   \n",
       "4                   doi:10.1371/journal.pone.0044012   \n",
       "\n",
       "                                      referenceDoi referenceUrl  \\\n",
       "0                               10.4267/2042/28152          NaN   \n",
       "1  10.1666/0022-3360(2001)075<0401:GCFACT>2.0.CO;2          NaN   \n",
       "2                              10.1038/nature03102          NaN   \n",
       "3                     10.1371/journal.pone.0044012          NaN   \n",
       "4                     10.1371/journal.pone.0044012          NaN   \n",
       "\n",
       "                                      sourceCitation  \\\n",
       "0  Katja Schulz. 2015. Information about dinosaur...   \n",
       "1  Katja Schulz. 2015. Information about dinosaur...   \n",
       "2  Katja Schulz. 2015. Information about dinosaur...   \n",
       "3  Katja Schulz. 2015. Information about dinosaur...   \n",
       "4  Katja Schulz. 2015. Information about dinosaur...   \n",
       "\n",
       "                            sourceNamespace  \\\n",
       "0  KatjaSchulz/dinosaur-biotic-interactions   \n",
       "1  KatjaSchulz/dinosaur-biotic-interactions   \n",
       "2  KatjaSchulz/dinosaur-biotic-interactions   \n",
       "3  KatjaSchulz/dinosaur-biotic-interactions   \n",
       "4  KatjaSchulz/dinosaur-biotic-interactions   \n",
       "\n",
       "                                    sourceArchiveURI sourceDOI  \\\n",
       "0  https://github.com/KatjaSchulz/dinosaur-biotic...       NaN   \n",
       "1  https://github.com/KatjaSchulz/dinosaur-biotic...       NaN   \n",
       "2  https://github.com/KatjaSchulz/dinosaur-biotic...       NaN   \n",
       "3  https://github.com/KatjaSchulz/dinosaur-biotic...       NaN   \n",
       "4  https://github.com/KatjaSchulz/dinosaur-biotic...       NaN   \n",
       "\n",
       "  sourceLastSeenAtUnixEpoch  \n",
       "0  2018-10-31T23:54:05.938Z  \n",
       "1  2018-10-31T23:54:05.938Z  \n",
       "2  2018-10-31T23:54:05.938Z  \n",
       "3  2018-10-31T23:54:05.938Z  \n",
       "4  2018-10-31T23:54:05.938Z  \n",
       "\n",
       "[5 rows x 51 columns]"
      ]
     },
     "execution_count": 291,
     "metadata": {},
     "output_type": "execute_result"
    }
   ],
   "source": [
    "data.head()"
   ]
  },
  {
   "cell_type": "markdown",
   "metadata": {},
   "source": [
    "#### Drop duplicates:"
   ]
  },
  {
   "cell_type": "code",
   "execution_count": null,
   "metadata": {
    "collapsed": true
   },
   "outputs": [],
   "source": [
    "data.drop_duplicates(['sourceTaxonId', 'interactionTypeName', 'targetTaxonId'], inplace = True)"
   ]
  },
  {
   "cell_type": "markdown",
   "metadata": {},
   "source": [
    "#### Let's look at certain taxon:"
   ]
  },
  {
   "cell_type": "markdown",
   "metadata": {},
   "source": [
    "For example, suppose we are interested in the interactions involving 'Homo sapiens'"
   ]
  },
  {
   "cell_type": "markdown",
   "metadata": {},
   "source": [
    "Take interactions involving 'Homo sapiens':"
   ]
  },
  {
   "cell_type": "code",
   "execution_count": 249,
   "metadata": {
    "scrolled": false
   },
   "outputs": [
    {
     "data": {
      "text/plain": [
       "array(['interactsWith', 'eats', 'hostOf'], dtype=object)"
      ]
     },
     "execution_count": 249,
     "metadata": {},
     "output_type": "execute_result"
    }
   ],
   "source": [
    "#Types of interactions involving Homo sapiens as sourceTaxon:\n",
    "data[data['sourceTaxonName'] == 'Homo sapiens']['interactionTypeName'].unique()"
   ]
  },
  {
   "cell_type": "code",
   "execution_count": 250,
   "metadata": {},
   "outputs": [
    {
     "data": {
      "text/plain": [
       "815"
      ]
     },
     "execution_count": 250,
     "metadata": {},
     "output_type": "execute_result"
    }
   ],
   "source": [
    "#Number of records of interactions involving Homo sapiens as sourceTaxon:\n",
    "len(data[data['sourceTaxonName'] == 'Homo sapiens'])"
   ]
  },
  {
   "cell_type": "markdown",
   "metadata": {},
   "source": [
    "#### Let's focus on certain type of interaction involving Homo_sapiens as sourceTaxon, for example \"eats\":"
   ]
  },
  {
   "cell_type": "code",
   "execution_count": 118,
   "metadata": {
    "collapsed": true
   },
   "outputs": [],
   "source": [
    "hs_eats_data = data[(data['sourceTaxonName'] == 'Homo sapiens') & (data['interactionTypeName'] == 'eats')]"
   ]
  },
  {
   "cell_type": "code",
   "execution_count": 119,
   "metadata": {},
   "outputs": [
    {
     "data": {
      "text/html": [
       "<div>\n",
       "<style scoped>\n",
       "    .dataframe tbody tr th:only-of-type {\n",
       "        vertical-align: middle;\n",
       "    }\n",
       "\n",
       "    .dataframe tbody tr th {\n",
       "        vertical-align: top;\n",
       "    }\n",
       "\n",
       "    .dataframe thead th {\n",
       "        text-align: right;\n",
       "    }\n",
       "</style>\n",
       "<table border=\"1\" class=\"dataframe\">\n",
       "  <thead>\n",
       "    <tr style=\"text-align: right;\">\n",
       "      <th></th>\n",
       "      <th>sourceTaxonId</th>\n",
       "      <th>sourceTaxonIds</th>\n",
       "      <th>sourceTaxonName</th>\n",
       "      <th>sourceTaxonRank</th>\n",
       "      <th>sourceTaxonPathNames</th>\n",
       "      <th>sourceTaxonPathIds</th>\n",
       "      <th>sourceTaxonPathRankNames</th>\n",
       "      <th>sourceId</th>\n",
       "      <th>sourceOccurrenceId</th>\n",
       "      <th>sourceCatalogNumber</th>\n",
       "      <th>...</th>\n",
       "      <th>localityName</th>\n",
       "      <th>eventDateUnixEpoch</th>\n",
       "      <th>referenceCitation</th>\n",
       "      <th>referenceDoi</th>\n",
       "      <th>referenceUrl</th>\n",
       "      <th>sourceCitation</th>\n",
       "      <th>sourceNamespace</th>\n",
       "      <th>sourceArchiveURI</th>\n",
       "      <th>sourceDOI</th>\n",
       "      <th>sourceLastSeenAtUnixEpoch</th>\n",
       "    </tr>\n",
       "  </thead>\n",
       "  <tbody>\n",
       "    <tr>\n",
       "      <th>755562</th>\n",
       "      <td>EOL:327955</td>\n",
       "      <td>EOL:327955 | EOL:327955 | WD:Q15978631 | OTT:9...</td>\n",
       "      <td>Homo sapiens</td>\n",
       "      <td>species</td>\n",
       "      <td>Animalia | Chordata | Mammalia | Primates | Ho...</td>\n",
       "      <td>EOL:1 | EOL:694 | EOL:1642 | EOL:1645 | EOL:16...</td>\n",
       "      <td>kingdom | phylum | class | order | family | ge...</td>\n",
       "      <td>NaN</td>\n",
       "      <td>NaN</td>\n",
       "      <td>NaN</td>\n",
       "      <td>...</td>\n",
       "      <td>Barro Colorado Island, Panama</td>\n",
       "      <td>NaN</td>\n",
       "      <td>Worthington, A. 1989. Adaptations for avian fr...</td>\n",
       "      <td>10.1007/BF00379040.</td>\n",
       "      <td>NaN</td>\n",
       "      <td>F. Gabriel. Muñoz. 2017. Palm-Animal frugivore...</td>\n",
       "      <td>fgabriel1891/Plant-Frugivore-Interactions-Sout...</td>\n",
       "      <td>https://github.com/fgabriel1891/Plant-Frugivor...</td>\n",
       "      <td>NaN</td>\n",
       "      <td>2018-10-31T23:09:00.173Z</td>\n",
       "    </tr>\n",
       "    <tr>\n",
       "      <th>756855</th>\n",
       "      <td>EOL:327955</td>\n",
       "      <td>EOL:327955 | EOL:327955 | WD:Q15978631 | OTT:9...</td>\n",
       "      <td>Homo sapiens</td>\n",
       "      <td>species</td>\n",
       "      <td>Animalia | Chordata | Mammalia | Primates | Ho...</td>\n",
       "      <td>EOL:1 | EOL:694 | EOL:1642 | EOL:1645 | EOL:16...</td>\n",
       "      <td>kingdom | phylum | class | order | family | ge...</td>\n",
       "      <td>NaN</td>\n",
       "      <td>NaN</td>\n",
       "      <td>NaN</td>\n",
       "      <td>...</td>\n",
       "      <td>Mizoram, India</td>\n",
       "      <td>NaN</td>\n",
       "      <td>Hazarika, T.k. Lalramchuana. Nautiyal. B.P. 20...</td>\n",
       "      <td>10.1007/s10722-012-9799-5</td>\n",
       "      <td>NaN</td>\n",
       "      <td>F. Gabriel. Muñoz. 2017. Palm-Animal frugivore...</td>\n",
       "      <td>fgabriel1891/Plant-Frugivore-Interactions-Sout...</td>\n",
       "      <td>https://github.com/fgabriel1891/Plant-Frugivor...</td>\n",
       "      <td>NaN</td>\n",
       "      <td>2018-10-31T23:09:00.173Z</td>\n",
       "    </tr>\n",
       "    <tr>\n",
       "      <th>756856</th>\n",
       "      <td>EOL:327955</td>\n",
       "      <td>EOL:327955 | EOL:327955 | WD:Q15978631 | OTT:9...</td>\n",
       "      <td>Homo sapiens</td>\n",
       "      <td>species</td>\n",
       "      <td>Animalia | Chordata | Mammalia | Primates | Ho...</td>\n",
       "      <td>EOL:1 | EOL:694 | EOL:1642 | EOL:1645 | EOL:16...</td>\n",
       "      <td>kingdom | phylum | class | order | family | ge...</td>\n",
       "      <td>NaN</td>\n",
       "      <td>NaN</td>\n",
       "      <td>NaN</td>\n",
       "      <td>...</td>\n",
       "      <td>Mizoram, India</td>\n",
       "      <td>NaN</td>\n",
       "      <td>Hazarika, T.k. Lalramchuana. Nautiyal. B.P. 20...</td>\n",
       "      <td>10.1007/s10722-012-9799-5</td>\n",
       "      <td>NaN</td>\n",
       "      <td>F. Gabriel. Muñoz. 2017. Palm-Animal frugivore...</td>\n",
       "      <td>fgabriel1891/Plant-Frugivore-Interactions-Sout...</td>\n",
       "      <td>https://github.com/fgabriel1891/Plant-Frugivor...</td>\n",
       "      <td>NaN</td>\n",
       "      <td>2018-10-31T23:09:00.173Z</td>\n",
       "    </tr>\n",
       "    <tr>\n",
       "      <th>756857</th>\n",
       "      <td>EOL:327955</td>\n",
       "      <td>EOL:327955 | EOL:327955 | WD:Q15978631 | OTT:9...</td>\n",
       "      <td>Homo sapiens</td>\n",
       "      <td>species</td>\n",
       "      <td>Animalia | Chordata | Mammalia | Primates | Ho...</td>\n",
       "      <td>EOL:1 | EOL:694 | EOL:1642 | EOL:1645 | EOL:16...</td>\n",
       "      <td>kingdom | phylum | class | order | family | ge...</td>\n",
       "      <td>NaN</td>\n",
       "      <td>NaN</td>\n",
       "      <td>NaN</td>\n",
       "      <td>...</td>\n",
       "      <td>Mizoram, India</td>\n",
       "      <td>NaN</td>\n",
       "      <td>Hazarika, T.k. Lalramchuana. Nautiyal. B.P. 20...</td>\n",
       "      <td>10.1007/s10722-012-9799-5</td>\n",
       "      <td>NaN</td>\n",
       "      <td>F. Gabriel. Muñoz. 2017. Palm-Animal frugivore...</td>\n",
       "      <td>fgabriel1891/Plant-Frugivore-Interactions-Sout...</td>\n",
       "      <td>https://github.com/fgabriel1891/Plant-Frugivor...</td>\n",
       "      <td>NaN</td>\n",
       "      <td>2018-10-31T23:09:00.173Z</td>\n",
       "    </tr>\n",
       "    <tr>\n",
       "      <th>756858</th>\n",
       "      <td>EOL:327955</td>\n",
       "      <td>EOL:327955 | EOL:327955 | WD:Q15978631 | OTT:9...</td>\n",
       "      <td>Homo sapiens</td>\n",
       "      <td>species</td>\n",
       "      <td>Animalia | Chordata | Mammalia | Primates | Ho...</td>\n",
       "      <td>EOL:1 | EOL:694 | EOL:1642 | EOL:1645 | EOL:16...</td>\n",
       "      <td>kingdom | phylum | class | order | family | ge...</td>\n",
       "      <td>NaN</td>\n",
       "      <td>NaN</td>\n",
       "      <td>NaN</td>\n",
       "      <td>...</td>\n",
       "      <td>Mizoram, India</td>\n",
       "      <td>NaN</td>\n",
       "      <td>Hazarika, T.k. Lalramchuana. Nautiyal. B.P. 20...</td>\n",
       "      <td>10.1007/s10722-012-9799-5</td>\n",
       "      <td>NaN</td>\n",
       "      <td>F. Gabriel. Muñoz. 2017. Palm-Animal frugivore...</td>\n",
       "      <td>fgabriel1891/Plant-Frugivore-Interactions-Sout...</td>\n",
       "      <td>https://github.com/fgabriel1891/Plant-Frugivor...</td>\n",
       "      <td>NaN</td>\n",
       "      <td>2018-10-31T23:09:00.173Z</td>\n",
       "    </tr>\n",
       "  </tbody>\n",
       "</table>\n",
       "<p>5 rows × 51 columns</p>\n",
       "</div>"
      ],
      "text/plain": [
       "       sourceTaxonId                                     sourceTaxonIds  \\\n",
       "755562    EOL:327955  EOL:327955 | EOL:327955 | WD:Q15978631 | OTT:9...   \n",
       "756855    EOL:327955  EOL:327955 | EOL:327955 | WD:Q15978631 | OTT:9...   \n",
       "756856    EOL:327955  EOL:327955 | EOL:327955 | WD:Q15978631 | OTT:9...   \n",
       "756857    EOL:327955  EOL:327955 | EOL:327955 | WD:Q15978631 | OTT:9...   \n",
       "756858    EOL:327955  EOL:327955 | EOL:327955 | WD:Q15978631 | OTT:9...   \n",
       "\n",
       "       sourceTaxonName sourceTaxonRank  \\\n",
       "755562    Homo sapiens         species   \n",
       "756855    Homo sapiens         species   \n",
       "756856    Homo sapiens         species   \n",
       "756857    Homo sapiens         species   \n",
       "756858    Homo sapiens         species   \n",
       "\n",
       "                                     sourceTaxonPathNames  \\\n",
       "755562  Animalia | Chordata | Mammalia | Primates | Ho...   \n",
       "756855  Animalia | Chordata | Mammalia | Primates | Ho...   \n",
       "756856  Animalia | Chordata | Mammalia | Primates | Ho...   \n",
       "756857  Animalia | Chordata | Mammalia | Primates | Ho...   \n",
       "756858  Animalia | Chordata | Mammalia | Primates | Ho...   \n",
       "\n",
       "                                       sourceTaxonPathIds  \\\n",
       "755562  EOL:1 | EOL:694 | EOL:1642 | EOL:1645 | EOL:16...   \n",
       "756855  EOL:1 | EOL:694 | EOL:1642 | EOL:1645 | EOL:16...   \n",
       "756856  EOL:1 | EOL:694 | EOL:1642 | EOL:1645 | EOL:16...   \n",
       "756857  EOL:1 | EOL:694 | EOL:1642 | EOL:1645 | EOL:16...   \n",
       "756858  EOL:1 | EOL:694 | EOL:1642 | EOL:1645 | EOL:16...   \n",
       "\n",
       "                                 sourceTaxonPathRankNames sourceId  \\\n",
       "755562  kingdom | phylum | class | order | family | ge...      NaN   \n",
       "756855  kingdom | phylum | class | order | family | ge...      NaN   \n",
       "756856  kingdom | phylum | class | order | family | ge...      NaN   \n",
       "756857  kingdom | phylum | class | order | family | ge...      NaN   \n",
       "756858  kingdom | phylum | class | order | family | ge...      NaN   \n",
       "\n",
       "       sourceOccurrenceId sourceCatalogNumber            ...             \\\n",
       "755562                NaN                 NaN            ...              \n",
       "756855                NaN                 NaN            ...              \n",
       "756856                NaN                 NaN            ...              \n",
       "756857                NaN                 NaN            ...              \n",
       "756858                NaN                 NaN            ...              \n",
       "\n",
       "                         localityName eventDateUnixEpoch  \\\n",
       "755562  Barro Colorado Island, Panama                NaN   \n",
       "756855                 Mizoram, India                NaN   \n",
       "756856                 Mizoram, India                NaN   \n",
       "756857                 Mizoram, India                NaN   \n",
       "756858                 Mizoram, India                NaN   \n",
       "\n",
       "                                        referenceCitation  \\\n",
       "755562  Worthington, A. 1989. Adaptations for avian fr...   \n",
       "756855  Hazarika, T.k. Lalramchuana. Nautiyal. B.P. 20...   \n",
       "756856  Hazarika, T.k. Lalramchuana. Nautiyal. B.P. 20...   \n",
       "756857  Hazarika, T.k. Lalramchuana. Nautiyal. B.P. 20...   \n",
       "756858  Hazarika, T.k. Lalramchuana. Nautiyal. B.P. 20...   \n",
       "\n",
       "                     referenceDoi referenceUrl  \\\n",
       "755562        10.1007/BF00379040.          NaN   \n",
       "756855  10.1007/s10722-012-9799-5          NaN   \n",
       "756856  10.1007/s10722-012-9799-5          NaN   \n",
       "756857  10.1007/s10722-012-9799-5          NaN   \n",
       "756858  10.1007/s10722-012-9799-5          NaN   \n",
       "\n",
       "                                           sourceCitation  \\\n",
       "755562  F. Gabriel. Muñoz. 2017. Palm-Animal frugivore...   \n",
       "756855  F. Gabriel. Muñoz. 2017. Palm-Animal frugivore...   \n",
       "756856  F. Gabriel. Muñoz. 2017. Palm-Animal frugivore...   \n",
       "756857  F. Gabriel. Muñoz. 2017. Palm-Animal frugivore...   \n",
       "756858  F. Gabriel. Muñoz. 2017. Palm-Animal frugivore...   \n",
       "\n",
       "                                          sourceNamespace  \\\n",
       "755562  fgabriel1891/Plant-Frugivore-Interactions-Sout...   \n",
       "756855  fgabriel1891/Plant-Frugivore-Interactions-Sout...   \n",
       "756856  fgabriel1891/Plant-Frugivore-Interactions-Sout...   \n",
       "756857  fgabriel1891/Plant-Frugivore-Interactions-Sout...   \n",
       "756858  fgabriel1891/Plant-Frugivore-Interactions-Sout...   \n",
       "\n",
       "                                         sourceArchiveURI sourceDOI  \\\n",
       "755562  https://github.com/fgabriel1891/Plant-Frugivor...       NaN   \n",
       "756855  https://github.com/fgabriel1891/Plant-Frugivor...       NaN   \n",
       "756856  https://github.com/fgabriel1891/Plant-Frugivor...       NaN   \n",
       "756857  https://github.com/fgabriel1891/Plant-Frugivor...       NaN   \n",
       "756858  https://github.com/fgabriel1891/Plant-Frugivor...       NaN   \n",
       "\n",
       "       sourceLastSeenAtUnixEpoch  \n",
       "755562  2018-10-31T23:09:00.173Z  \n",
       "756855  2018-10-31T23:09:00.173Z  \n",
       "756856  2018-10-31T23:09:00.173Z  \n",
       "756857  2018-10-31T23:09:00.173Z  \n",
       "756858  2018-10-31T23:09:00.173Z  \n",
       "\n",
       "[5 rows x 51 columns]"
      ]
     },
     "execution_count": 119,
     "metadata": {},
     "output_type": "execute_result"
    }
   ],
   "source": [
    "hs_eats_data.head()"
   ]
  },
  {
   "cell_type": "code",
   "execution_count": 120,
   "metadata": {},
   "outputs": [
    {
     "data": {
      "text/plain": [
       "379"
      ]
     },
     "execution_count": 120,
     "metadata": {},
     "output_type": "execute_result"
    }
   ],
   "source": [
    "len(hs_eats_data)"
   ]
  },
  {
   "cell_type": "code",
   "execution_count": 121,
   "metadata": {},
   "outputs": [
    {
     "data": {
      "text/html": [
       "<div>\n",
       "<style scoped>\n",
       "    .dataframe tbody tr th:only-of-type {\n",
       "        vertical-align: middle;\n",
       "    }\n",
       "\n",
       "    .dataframe tbody tr th {\n",
       "        vertical-align: top;\n",
       "    }\n",
       "\n",
       "    .dataframe thead th {\n",
       "        text-align: right;\n",
       "    }\n",
       "</style>\n",
       "<table border=\"1\" class=\"dataframe\">\n",
       "  <thead>\n",
       "    <tr style=\"text-align: right;\">\n",
       "      <th></th>\n",
       "      <th>targetTaxonPathRankNames</th>\n",
       "      <th>targetTaxonPathNames</th>\n",
       "    </tr>\n",
       "  </thead>\n",
       "  <tbody>\n",
       "    <tr>\n",
       "      <th>755562</th>\n",
       "      <td>kingdom | phylum | class | order | family | ge...</td>\n",
       "      <td>Plantae | Tracheophyta | Liliopsida | Arecales...</td>\n",
       "    </tr>\n",
       "    <tr>\n",
       "      <th>756856</th>\n",
       "      <td>kingdom | phylum | class | order | family | ge...</td>\n",
       "      <td>Plantae | Tracheophyta | Magnoliopsida | Myrta...</td>\n",
       "    </tr>\n",
       "    <tr>\n",
       "      <th>756857</th>\n",
       "      <td>kingdom | phylum | class | order | family</td>\n",
       "      <td>Plantae | Tracheophyta | Magnoliopsida | Erica...</td>\n",
       "    </tr>\n",
       "    <tr>\n",
       "      <th>756858</th>\n",
       "      <td>kingdom | phylum | class | order | family | ge...</td>\n",
       "      <td>Plantae | Tracheophyta | Magnoliopsida | Sapin...</td>\n",
       "    </tr>\n",
       "    <tr>\n",
       "      <th>756859</th>\n",
       "      <td>kingdom | phylum | class | order | family | ge...</td>\n",
       "      <td>Plantae | Tracheophyta | Liliopsida | Liliales...</td>\n",
       "    </tr>\n",
       "  </tbody>\n",
       "</table>\n",
       "</div>"
      ],
      "text/plain": [
       "                                 targetTaxonPathRankNames  \\\n",
       "755562  kingdom | phylum | class | order | family | ge...   \n",
       "756856  kingdom | phylum | class | order | family | ge...   \n",
       "756857          kingdom | phylum | class | order | family   \n",
       "756858  kingdom | phylum | class | order | family | ge...   \n",
       "756859  kingdom | phylum | class | order | family | ge...   \n",
       "\n",
       "                                     targetTaxonPathNames  \n",
       "755562  Plantae | Tracheophyta | Liliopsida | Arecales...  \n",
       "756856  Plantae | Tracheophyta | Magnoliopsida | Myrta...  \n",
       "756857  Plantae | Tracheophyta | Magnoliopsida | Erica...  \n",
       "756858  Plantae | Tracheophyta | Magnoliopsida | Sapin...  \n",
       "756859  Plantae | Tracheophyta | Liliopsida | Liliales...  "
      ]
     },
     "execution_count": 121,
     "metadata": {},
     "output_type": "execute_result"
    }
   ],
   "source": [
    "#Drop missing values\n",
    "target_hs_eats = hs_eats_data[['targetTaxonPathRankNames', 'targetTaxonPathNames']].dropna()\n",
    "target_hs_eats.head()"
   ]
  },
  {
   "cell_type": "code",
   "execution_count": 122,
   "metadata": {},
   "outputs": [
    {
     "data": {
      "text/plain": [
       "377"
      ]
     },
     "execution_count": 122,
     "metadata": {},
     "output_type": "execute_result"
    }
   ],
   "source": [
    "len(target_hs_eats)"
   ]
  },
  {
   "cell_type": "code",
   "execution_count": 123,
   "metadata": {
    "collapsed": true
   },
   "outputs": [],
   "source": [
    "#clean 'targetTaxonPathRankNames' and 'targetTaxonPathNames' in order to extract certain ranks for later use:\n",
    "#remove spaces\n",
    "target_hs_eats['targetTaxonPathRankNames'] = target_hs_eats['targetTaxonPathRankNames'].str.replace(\" \", \"\")\n",
    "target_hs_eats['targetTaxonPathNames'] = target_hs_eats['targetTaxonPathNames'].str.replace(\" \", \"\")"
   ]
  },
  {
   "cell_type": "code",
   "execution_count": 124,
   "metadata": {
    "collapsed": true
   },
   "outputs": [],
   "source": [
    "#split path names into lists:\n",
    "target_hs_eats['targetTaxonPathRankNames'] = target_hs_eats['targetTaxonPathRankNames'].str.split('|')\n",
    "target_hs_eats['targetTaxonPathNames'] =  target_hs_eats['targetTaxonPathNames'].str.split('|')"
   ]
  },
  {
   "cell_type": "code",
   "execution_count": 125,
   "metadata": {},
   "outputs": [
    {
     "data": {
      "text/html": [
       "<div>\n",
       "<style scoped>\n",
       "    .dataframe tbody tr th:only-of-type {\n",
       "        vertical-align: middle;\n",
       "    }\n",
       "\n",
       "    .dataframe tbody tr th {\n",
       "        vertical-align: top;\n",
       "    }\n",
       "\n",
       "    .dataframe thead th {\n",
       "        text-align: right;\n",
       "    }\n",
       "</style>\n",
       "<table border=\"1\" class=\"dataframe\">\n",
       "  <thead>\n",
       "    <tr style=\"text-align: right;\">\n",
       "      <th></th>\n",
       "      <th>targetTaxonPathRankNames</th>\n",
       "      <th>targetTaxonPathNames</th>\n",
       "    </tr>\n",
       "  </thead>\n",
       "  <tbody>\n",
       "    <tr>\n",
       "      <th>755562</th>\n",
       "      <td>[kingdom, phylum, class, order, family, genus,...</td>\n",
       "      <td>[Plantae, Tracheophyta, Liliopsida, Arecales, ...</td>\n",
       "    </tr>\n",
       "    <tr>\n",
       "      <th>756856</th>\n",
       "      <td>[kingdom, phylum, class, order, family, genus,...</td>\n",
       "      <td>[Plantae, Tracheophyta, Magnoliopsida, Myrtale...</td>\n",
       "    </tr>\n",
       "    <tr>\n",
       "      <th>756857</th>\n",
       "      <td>[kingdom, phylum, class, order, family]</td>\n",
       "      <td>[Plantae, Tracheophyta, Magnoliopsida, Ericale...</td>\n",
       "    </tr>\n",
       "    <tr>\n",
       "      <th>756858</th>\n",
       "      <td>[kingdom, phylum, class, order, family, genus,...</td>\n",
       "      <td>[Plantae, Tracheophyta, Magnoliopsida, Sapinda...</td>\n",
       "    </tr>\n",
       "    <tr>\n",
       "      <th>756859</th>\n",
       "      <td>[kingdom, phylum, class, order, family, genus,...</td>\n",
       "      <td>[Plantae, Tracheophyta, Liliopsida, Liliales, ...</td>\n",
       "    </tr>\n",
       "  </tbody>\n",
       "</table>\n",
       "</div>"
      ],
      "text/plain": [
       "                                 targetTaxonPathRankNames  \\\n",
       "755562  [kingdom, phylum, class, order, family, genus,...   \n",
       "756856  [kingdom, phylum, class, order, family, genus,...   \n",
       "756857            [kingdom, phylum, class, order, family]   \n",
       "756858  [kingdom, phylum, class, order, family, genus,...   \n",
       "756859  [kingdom, phylum, class, order, family, genus,...   \n",
       "\n",
       "                                     targetTaxonPathNames  \n",
       "755562  [Plantae, Tracheophyta, Liliopsida, Arecales, ...  \n",
       "756856  [Plantae, Tracheophyta, Magnoliopsida, Myrtale...  \n",
       "756857  [Plantae, Tracheophyta, Magnoliopsida, Ericale...  \n",
       "756858  [Plantae, Tracheophyta, Magnoliopsida, Sapinda...  \n",
       "756859  [Plantae, Tracheophyta, Liliopsida, Liliales, ...  "
      ]
     },
     "execution_count": 125,
     "metadata": {},
     "output_type": "execute_result"
    }
   ],
   "source": [
    "target_hs_eats.head()"
   ]
  },
  {
   "cell_type": "code",
   "execution_count": 126,
   "metadata": {
    "collapsed": true
   },
   "outputs": [],
   "source": [
    "#find the 'class/subclass/superclass' rank names by the position of 'class/subclass/superclass' in 'targetTaxonPathRankNames':\n",
    "class_name = []\n",
    "for i in range(len(target_hs_eats)):\n",
    "    r = target_hs_eats.iloc[i]\n",
    "    if re.search(r'\\bclass\\b', str(r['targetTaxonPathRankNames'])):\n",
    "        ind = r['targetTaxonPathRankNames'].index('class')\n",
    "        class_name.append(r['targetTaxonPathNames'][ind])\n",
    "    elif re.search(r'\\bsubclass\\b', str(r['targetTaxonPathRankNames'])):\n",
    "        ind = r['targetTaxonPathRankNames'].index('subclass')\n",
    "        class_name.append(r['targetTaxonPathNames'][ind])\n",
    "    elif re.search(r'\\bsuperclass\\b', str(r['targetTaxonPathRankNames'])):\n",
    "        ind = r['targetTaxonPathRankNames'].index('superclass')\n",
    "        class_name.append(r['targetTaxonPathNames'][ind])\n",
    "    else:\n",
    "        class_name.append('class not known')"
   ]
  },
  {
   "cell_type": "code",
   "execution_count": 127,
   "metadata": {},
   "outputs": [
    {
     "data": {
      "text/plain": [
       "377"
      ]
     },
     "execution_count": 127,
     "metadata": {},
     "output_type": "execute_result"
    }
   ],
   "source": [
    "#check the length is equal to length of 'target_hs_eats'\n",
    "len(class_name)"
   ]
  },
  {
   "cell_type": "code",
   "execution_count": 128,
   "metadata": {
    "scrolled": true
   },
   "outputs": [
    {
     "data": {
      "text/plain": [
       "3"
      ]
     },
     "execution_count": 128,
     "metadata": {},
     "output_type": "execute_result"
    }
   ],
   "source": [
    "#how many class rank names remain not known:\n",
    "sum([i == 'class not known' for i in class_name])"
   ]
  },
  {
   "cell_type": "markdown",
   "metadata": {},
   "source": [
    "There are 3 out of 377 target taxon that we don't know their class name."
   ]
  },
  {
   "cell_type": "code",
   "execution_count": 129,
   "metadata": {},
   "outputs": [
    {
     "data": {
      "text/html": [
       "<div>\n",
       "<style scoped>\n",
       "    .dataframe tbody tr th:only-of-type {\n",
       "        vertical-align: middle;\n",
       "    }\n",
       "\n",
       "    .dataframe tbody tr th {\n",
       "        vertical-align: top;\n",
       "    }\n",
       "\n",
       "    .dataframe thead th {\n",
       "        text-align: right;\n",
       "    }\n",
       "</style>\n",
       "<table border=\"1\" class=\"dataframe\">\n",
       "  <thead>\n",
       "    <tr style=\"text-align: right;\">\n",
       "      <th></th>\n",
       "      <th>targetTaxonPathRankNames</th>\n",
       "      <th>targetTaxonPathNames</th>\n",
       "      <th>class</th>\n",
       "    </tr>\n",
       "  </thead>\n",
       "  <tbody>\n",
       "    <tr>\n",
       "      <th>755562</th>\n",
       "      <td>[kingdom, phylum, class, order, family, genus,...</td>\n",
       "      <td>[Plantae, Tracheophyta, Liliopsida, Arecales, ...</td>\n",
       "      <td>Liliopsida</td>\n",
       "    </tr>\n",
       "    <tr>\n",
       "      <th>756856</th>\n",
       "      <td>[kingdom, phylum, class, order, family, genus,...</td>\n",
       "      <td>[Plantae, Tracheophyta, Magnoliopsida, Myrtale...</td>\n",
       "      <td>Magnoliopsida</td>\n",
       "    </tr>\n",
       "    <tr>\n",
       "      <th>756857</th>\n",
       "      <td>[kingdom, phylum, class, order, family]</td>\n",
       "      <td>[Plantae, Tracheophyta, Magnoliopsida, Ericale...</td>\n",
       "      <td>Magnoliopsida</td>\n",
       "    </tr>\n",
       "    <tr>\n",
       "      <th>756858</th>\n",
       "      <td>[kingdom, phylum, class, order, family, genus,...</td>\n",
       "      <td>[Plantae, Tracheophyta, Magnoliopsida, Sapinda...</td>\n",
       "      <td>Magnoliopsida</td>\n",
       "    </tr>\n",
       "    <tr>\n",
       "      <th>756859</th>\n",
       "      <td>[kingdom, phylum, class, order, family, genus,...</td>\n",
       "      <td>[Plantae, Tracheophyta, Liliopsida, Liliales, ...</td>\n",
       "      <td>Liliopsida</td>\n",
       "    </tr>\n",
       "  </tbody>\n",
       "</table>\n",
       "</div>"
      ],
      "text/plain": [
       "                                 targetTaxonPathRankNames  \\\n",
       "755562  [kingdom, phylum, class, order, family, genus,...   \n",
       "756856  [kingdom, phylum, class, order, family, genus,...   \n",
       "756857            [kingdom, phylum, class, order, family]   \n",
       "756858  [kingdom, phylum, class, order, family, genus,...   \n",
       "756859  [kingdom, phylum, class, order, family, genus,...   \n",
       "\n",
       "                                     targetTaxonPathNames          class  \n",
       "755562  [Plantae, Tracheophyta, Liliopsida, Arecales, ...     Liliopsida  \n",
       "756856  [Plantae, Tracheophyta, Magnoliopsida, Myrtale...  Magnoliopsida  \n",
       "756857  [Plantae, Tracheophyta, Magnoliopsida, Ericale...  Magnoliopsida  \n",
       "756858  [Plantae, Tracheophyta, Magnoliopsida, Sapinda...  Magnoliopsida  \n",
       "756859  [Plantae, Tracheophyta, Liliopsida, Liliales, ...     Liliopsida  "
      ]
     },
     "execution_count": 129,
     "metadata": {},
     "output_type": "execute_result"
    }
   ],
   "source": [
    "#Add class rank names we found as a column 'class':\n",
    "target_hs_eats['class'] = class_name\n",
    "target_hs_eats.head()"
   ]
  },
  {
   "cell_type": "markdown",
   "metadata": {},
   "source": [
    "#### Let's look at the rows whose class name is not known:"
   ]
  },
  {
   "cell_type": "code",
   "execution_count": 130,
   "metadata": {
    "scrolled": true
   },
   "outputs": [
    {
     "data": {
      "text/html": [
       "<div>\n",
       "<style scoped>\n",
       "    .dataframe tbody tr th:only-of-type {\n",
       "        vertical-align: middle;\n",
       "    }\n",
       "\n",
       "    .dataframe tbody tr th {\n",
       "        vertical-align: top;\n",
       "    }\n",
       "\n",
       "    .dataframe thead th {\n",
       "        text-align: right;\n",
       "    }\n",
       "</style>\n",
       "<table border=\"1\" class=\"dataframe\">\n",
       "  <thead>\n",
       "    <tr style=\"text-align: right;\">\n",
       "      <th></th>\n",
       "      <th>targetTaxonPathRankNames</th>\n",
       "      <th>targetTaxonPathNames</th>\n",
       "      <th>class</th>\n",
       "    </tr>\n",
       "  </thead>\n",
       "  <tbody>\n",
       "    <tr>\n",
       "      <th>850656</th>\n",
       "      <td>[kingdom, genus]</td>\n",
       "      <td>[Plantae, Fucus]</td>\n",
       "      <td>class not known</td>\n",
       "    </tr>\n",
       "    <tr>\n",
       "      <th>854753</th>\n",
       "      <td>[kingdom, phylum]</td>\n",
       "      <td>[Animalia, Nemertea]</td>\n",
       "      <td>class not known</td>\n",
       "    </tr>\n",
       "    <tr>\n",
       "      <th>918181</th>\n",
       "      <td>[, , , order, family, subfamily, genus, , spec...</td>\n",
       "      <td>[, , , Nidovirales, Coronaviridae, Coronavirin...</td>\n",
       "      <td>class not known</td>\n",
       "    </tr>\n",
       "  </tbody>\n",
       "</table>\n",
       "</div>"
      ],
      "text/plain": [
       "                                 targetTaxonPathRankNames  \\\n",
       "850656                                   [kingdom, genus]   \n",
       "854753                                  [kingdom, phylum]   \n",
       "918181  [, , , order, family, subfamily, genus, , spec...   \n",
       "\n",
       "                                     targetTaxonPathNames            class  \n",
       "850656                                   [Plantae, Fucus]  class not known  \n",
       "854753                               [Animalia, Nemertea]  class not known  \n",
       "918181  [, , , Nidovirales, Coronaviridae, Coronavirin...  class not known  "
      ]
     },
     "execution_count": 130,
     "metadata": {},
     "output_type": "execute_result"
    }
   ],
   "source": [
    "target_hs_eats[target_hs_eats['class'] == 'class not known']"
   ]
  },
  {
   "cell_type": "markdown",
   "metadata": {},
   "source": [
    "According to the table above, \"class\" is missing in the 'targetTaxonPathNames' for these target taxon.  \n",
    "In order to get the class name of these rows, we need to do use \"pytaxize\" "
   ]
  },
  {
   "cell_type": "code",
   "execution_count": 131,
   "metadata": {},
   "outputs": [
    {
     "data": {
      "text/plain": [
       "['Fucus', 'Nemertea', 'Rabbit']"
      ]
     },
     "execution_count": 131,
     "metadata": {},
     "output_type": "execute_result"
    }
   ],
   "source": [
    "#First, we extract the bottom one from targetTaxonPathNames\n",
    "no_class_taxon_names = [path[-1] for path \n",
    "                        in target_hs_eats[target_hs_eats['class'] == 'class not known']['targetTaxonPathNames']]\n",
    "no_class_taxon_names"
   ]
  },
  {
   "cell_type": "markdown",
   "metadata": {},
   "source": [
    "We will use 'pytaxize.gnr_resolve' here to resolve the scientific names:  \n",
    "See an example below for 'Homo sapiens':  "
   ]
  },
  {
   "cell_type": "code",
   "execution_count": 132,
   "metadata": {},
   "outputs": [
    {
     "data": {
      "text/plain": [
       "[[{'data_source_id': 4,\n",
       "   'data_source_title': 'NCBI',\n",
       "   'gni_uuid': '16f235a0-e4a3-529c-9b83-bd15fe722110',\n",
       "   'name_string': 'Homo sapiens',\n",
       "   'canonical_form': 'Homo sapiens',\n",
       "   'classification_path': '|Eukaryota|Opisthokonta|Metazoa|Eumetazoa|Bilateria|Deuterostomia|Chordata|Craniata|Vertebrata|Gnathostomata|Teleostomi|Euteleostomi|Sarcopterygii|Dipnotetrapodomorpha|Tetrapoda|Amniota|Mammalia|Theria|Eutheria|Boreoeutheria|Euarchontoglires|Primates|Haplorrhini|Simiiformes|Catarrhini|Hominoidea|Hominidae|Homininae|Homo|Homo sapiens',\n",
       "   'classification_path_ranks': '|superkingdom||kingdom||||phylum|subphylum|||||superclass||||class||||superorder|order|suborder|infraorder|parvorder|superfamily|family|subfamily|genus|species',\n",
       "   'classification_path_ids': '131567|2759|33154|33208|6072|33213|33511|7711|89593|7742|7776|117570|117571|8287|1338369|32523|32524|40674|32525|9347|1437010|314146|9443|376913|314293|9526|314295|9604|207598|9605|9606',\n",
       "   'taxon_id': '9606',\n",
       "   'edit_distance': 0,\n",
       "   'imported_at': '2018-07-05T21:08:08Z',\n",
       "   'match_type': 1,\n",
       "   'match_value': 'Exact string match',\n",
       "   'prescore': '3|0|0',\n",
       "   'score': 0.988},\n",
       "  {'data_source_id': 10,\n",
       "   'data_source_title': 'Freebase',\n",
       "   'gni_uuid': '16f235a0-e4a3-529c-9b83-bd15fe722110',\n",
       "   'name_string': 'Homo sapiens',\n",
       "   'canonical_form': 'Homo sapiens',\n",
       "   'classification_path': 'Eukaryota|Animalia|Eumetazoa|Bilateria|Deuterostomia|Chordata|Vertebrata|Tetrapoda|Mammalia|Theria|Eutheria|Euarchontoglires|Primates|Haplorrhini|Simiiformes|Catarrhini|Hominoidea|Hominidae|Homininae|Hominini|Hominina|Homo|Homo sapiens',\n",
       "   'classification_path_ranks': '||||||||||||||||||||||',\n",
       "   'classification_path_ids': '/en/eukaryote|/en/animal|/en/eumetazoa|/en/bilateria|/en/deuterostome|/en/chordate|/en/vertebrate|/en/tetrapod|/en/mammal|/en/theria|/en/eutheria|/en/euarchontoglires|/en/primate|/en/haplorrhini|/en/simian|/en/catarrhini|/en/ape|/en/hominidae|/en/homininae|/en/hominini|/en/hominina|/en/homo|/en/human',\n",
       "   'taxon_id': '/en/human',\n",
       "   'edit_distance': 0,\n",
       "   'imported_at': '2012-08-01T14:08:22Z',\n",
       "   'match_type': 1,\n",
       "   'match_value': 'Exact string match',\n",
       "   'prescore': '3|0|0',\n",
       "   'score': 0.988},\n",
       "  {'data_source_id': 12,\n",
       "   'data_source_title': 'EOL',\n",
       "   'gni_uuid': '16f235a0-e4a3-529c-9b83-bd15fe722110',\n",
       "   'name_string': 'Homo sapiens',\n",
       "   'canonical_form': 'Homo sapiens',\n",
       "   'classification_path': '',\n",
       "   'classification_path_ranks': '',\n",
       "   'classification_path_ids': '',\n",
       "   'taxon_id': '20619206',\n",
       "   'local_id': '327955',\n",
       "   'edit_distance': 0,\n",
       "   'url': 'http://eol.org/pages/327955',\n",
       "   'imported_at': '2012-05-08T02:37:15Z',\n",
       "   'match_type': 1,\n",
       "   'match_value': 'Exact string match',\n",
       "   'prescore': '3|0|0',\n",
       "   'score': 0.988},\n",
       "  {'data_source_id': 107,\n",
       "   'data_source_title': 'AskNature',\n",
       "   'gni_uuid': '16f235a0-e4a3-529c-9b83-bd15fe722110',\n",
       "   'name_string': 'Homo sapiens',\n",
       "   'canonical_form': 'Homo sapiens',\n",
       "   'classification_path': '',\n",
       "   'classification_path_ranks': '',\n",
       "   'classification_path_ids': '',\n",
       "   'taxon_id': '142439634',\n",
       "   'edit_distance': 0,\n",
       "   'url': 'http://www.asknature.org/organism/579431',\n",
       "   'imported_at': '2012-02-09T13:21:49Z',\n",
       "   'match_type': 1,\n",
       "   'match_value': 'Exact string match',\n",
       "   'prescore': '3|0|0',\n",
       "   'score': 0.988},\n",
       "  {'data_source_id': 122,\n",
       "   'data_source_title': 'BioPedia',\n",
       "   'gni_uuid': '16f235a0-e4a3-529c-9b83-bd15fe722110',\n",
       "   'name_string': 'Homo sapiens',\n",
       "   'canonical_form': 'Homo sapiens',\n",
       "   'classification_path': '',\n",
       "   'classification_path_ranks': '',\n",
       "   'classification_path_ids': '',\n",
       "   'taxon_id': '142444605',\n",
       "   'edit_distance': 0,\n",
       "   'imported_at': '2012-02-09T13:24:22Z',\n",
       "   'match_type': 1,\n",
       "   'match_value': 'Exact string match',\n",
       "   'prescore': '3|0|0',\n",
       "   'score': 0.988},\n",
       "  {'data_source_id': 123,\n",
       "   'data_source_title': 'AnAge',\n",
       "   'gni_uuid': '16f235a0-e4a3-529c-9b83-bd15fe722110',\n",
       "   'name_string': 'Homo sapiens',\n",
       "   'canonical_form': 'Homo sapiens',\n",
       "   'classification_path': '',\n",
       "   'classification_path_ranks': '',\n",
       "   'classification_path_ids': '',\n",
       "   'taxon_id': '142514863',\n",
       "   'edit_distance': 0,\n",
       "   'url': 'http://genomics.senescence.info/species/entry.php?species=Homo_sapiens',\n",
       "   'imported_at': '2012-02-09T13:24:41Z',\n",
       "   'match_type': 1,\n",
       "   'match_value': 'Exact string match',\n",
       "   'prescore': '3|0|0',\n",
       "   'score': 0.988},\n",
       "  {'data_source_id': 159,\n",
       "   'data_source_title': 'CU*STAR',\n",
       "   'gni_uuid': '16f235a0-e4a3-529c-9b83-bd15fe722110',\n",
       "   'name_string': 'Homo sapiens',\n",
       "   'canonical_form': 'Homo sapiens',\n",
       "   'classification_path': '',\n",
       "   'classification_path_ranks': '',\n",
       "   'classification_path_ids': '',\n",
       "   'taxon_id': '106034990',\n",
       "   'edit_distance': 0,\n",
       "   'imported_at': '2012-02-09T14:03:56Z',\n",
       "   'match_type': 1,\n",
       "   'match_value': 'Exact string match',\n",
       "   'prescore': '3|0|0',\n",
       "   'score': 0.988},\n",
       "  {'data_source_id': 168,\n",
       "   'data_source_title': 'Index to Organism Names',\n",
       "   'gni_uuid': '16f235a0-e4a3-529c-9b83-bd15fe722110',\n",
       "   'name_string': 'Homo sapiens',\n",
       "   'canonical_form': 'Homo sapiens',\n",
       "   'classification_path': '',\n",
       "   'classification_path_ranks': '',\n",
       "   'classification_path_ids': '',\n",
       "   'taxon_id': '126216245',\n",
       "   'edit_distance': 0,\n",
       "   'url': 'http://www.organismnames.com/details.htm?lsid=687436',\n",
       "   'imported_at': '2012-02-09T16:35:41Z',\n",
       "   'match_type': 1,\n",
       "   'match_value': 'Exact string match',\n",
       "   'prescore': '3|0|0',\n",
       "   'score': 0.988},\n",
       "  {'data_source_id': 169,\n",
       "   'data_source_title': 'uBio NameBank',\n",
       "   'gni_uuid': '16f235a0-e4a3-529c-9b83-bd15fe722110',\n",
       "   'name_string': 'Homo sapiens',\n",
       "   'canonical_form': 'Homo sapiens',\n",
       "   'classification_path': '|Homo sapiens',\n",
       "   'classification_path_ranks': 'kingdom|',\n",
       "   'classification_path_ids': '',\n",
       "   'taxon_id': '95692685',\n",
       "   'local_id': 'urn:lsid:ubio.org:namebank:2481730',\n",
       "   'global_id': 'urn:lsid:ubio.org:namebank:2481730',\n",
       "   'edit_distance': 0,\n",
       "   'url': 'http://www.ubio.org/browser/details.php?namebankID=2481730',\n",
       "   'imported_at': '2013-05-31T14:56:36Z',\n",
       "   'match_type': 1,\n",
       "   'match_value': 'Exact string match',\n",
       "   'prescore': '3|0|0',\n",
       "   'score': 0.988},\n",
       "  {'data_source_id': 170,\n",
       "   'data_source_title': 'Arctos',\n",
       "   'gni_uuid': '16f235a0-e4a3-529c-9b83-bd15fe722110',\n",
       "   'name_string': 'Homo sapiens',\n",
       "   'canonical_form': 'Homo sapiens',\n",
       "   'classification_path': 'Animalia|Chordata|Mammalia|Primates|Hominidae|Homo|Homo sapiens',\n",
       "   'classification_path_ranks': 'kingdom|phylum|class|order|family|genus|',\n",
       "   'classification_path_ids': '',\n",
       "   'taxon_id': '247',\n",
       "   'local_id': '247',\n",
       "   'edit_distance': 0,\n",
       "   'imported_at': '2013-06-03T20:08:05Z',\n",
       "   'match_type': 1,\n",
       "   'match_value': 'Exact string match',\n",
       "   'prescore': '3|0|0',\n",
       "   'score': 0.988},\n",
       "  {'data_source_id': 179,\n",
       "   'data_source_title': 'Open Tree of Life Reference Taxonomy',\n",
       "   'gni_uuid': '16f235a0-e4a3-529c-9b83-bd15fe722110',\n",
       "   'name_string': 'Homo sapiens',\n",
       "   'canonical_form': 'Homo sapiens',\n",
       "   'classification_path': '||Eukaryota|Opisthokonta|Holozoa|Metazoa|Eumetazoa|Bilateria|Deuterostomia|Chordata|Craniata|Vertebrata|Gnathostomata|Teleostomi|Euteleostomi|Sarcopterygii|Dipnotetrapodomorpha|Tetrapoda|Amniota|Mammalia|Theria|Eutheria|Boreoeutheria|Euarchontoglires|Primates|Haplorrhini|Simiiformes|Catarrhini|Hominoidea|Hominidae|Homininae|Homo|Homo sapiens',\n",
       "   'classification_path_ranks': 'no rank|no rank|domain|no rank|no rank|kingdom|no rank|no rank|no rank|phylum|subphylum|subphylum|superclass|no rank|no rank|class|no rank|superclass|no rank|class|subclass|no rank|no rank|superorder|order|suborder|infraorder|parvorder|superfamily|family|subfamily|genus|species',\n",
       "   'classification_path_ids': '805080|93302|304358|332573|5246131|691846|641038|117569|147604|125642|947318|801601|278114|114656|114654|458402|4940726|229562|229560|244265|229558|683263|5334778|392222|913935|702152|386195|842867|386191|770311|312031|770309|770315',\n",
       "   'taxon_id': '770315',\n",
       "   'local_id': '770315',\n",
       "   'edit_distance': 0,\n",
       "   'imported_at': '2018-07-17T19:17:07Z',\n",
       "   'match_type': 1,\n",
       "   'match_value': 'Exact string match',\n",
       "   'prescore': '3|0|0',\n",
       "   'score': 0.988},\n",
       "  {'data_source_id': 1,\n",
       "   'data_source_title': 'Catalogue of Life',\n",
       "   'gni_uuid': '7db4f8a2-aafe-56b6-8838-89522c67d9f0',\n",
       "   'name_string': 'Homo sapiens Linnaeus, 1758',\n",
       "   'canonical_form': 'Homo sapiens',\n",
       "   'classification_path': 'Animalia|Chordata|Mammalia|Primates|Hominoidea|Hominidae|Homo|Homo sapiens',\n",
       "   'classification_path_ranks': 'kingdom|phylum|class|order|superfamily|family|genus|species',\n",
       "   'classification_path_ids': '45841265|45841266|45841274|45841621|45841629|45841631|45923055|e3b90576561f93a8ac8b59e185b01511',\n",
       "   'taxon_id': 'e3b90576561f93a8ac8b59e185b01511',\n",
       "   'edit_distance': 0,\n",
       "   'imported_at': '2018-07-16T17:37:31Z',\n",
       "   'match_type': 2,\n",
       "   'match_value': 'Exact match by canonical form',\n",
       "   'prescore': '3|0|0',\n",
       "   'score': 0.988},\n",
       "  {'data_source_id': 3,\n",
       "   'data_source_title': 'ITIS',\n",
       "   'gni_uuid': '7db4f8a2-aafe-56b6-8838-89522c67d9f0',\n",
       "   'name_string': 'Homo sapiens Linnaeus, 1758',\n",
       "   'canonical_form': 'Homo sapiens',\n",
       "   'classification_path': 'Animalia|Bilateria|Deuterostomia|Chordata|Vertebrata|Gnathostomata|Tetrapoda|Mammalia|Theria|Eutheria|Primates|Haplorrhini|Simiiformes|Hominoidea|Hominidae|Homininae|Homo|Homo sapiens',\n",
       "   'classification_path_ranks': 'Kingdom|Subkingdom|Infrakingdom|Phylum|Subphylum|Infraphylum|Superclass|Class|Subclass|Infraclass|Order|Suborder|Infraorder|Superfamily|Family|Subfamily|Genus|Species',\n",
       "   'classification_path_ids': '202423|914154|914156|158852|331030|914179|914181|179913|179916|179925|180089|943773|943778|943782|180090|943805|180091|180092',\n",
       "   'taxon_id': '180092',\n",
       "   'edit_distance': 0,\n",
       "   'imported_at': '2018-07-05T18:44:16Z',\n",
       "   'match_type': 2,\n",
       "   'match_value': 'Exact match by canonical form',\n",
       "   'prescore': '3|0|0',\n",
       "   'score': 0.988},\n",
       "  {'data_source_id': 4,\n",
       "   'data_source_title': 'NCBI',\n",
       "   'gni_uuid': '4df7757f-bbf4-5ee0-aaed-b5bb3c2c5cf7',\n",
       "   'name_string': 'Homo sapiens subsp. Denisova',\n",
       "   'canonical_form': 'Homo sapiens',\n",
       "   'classification_path': '|Eukaryota|Opisthokonta|Metazoa|Eumetazoa|Bilateria|Deuterostomia|Chordata|Craniata|Vertebrata|Gnathostomata|Teleostomi|Euteleostomi|Sarcopterygii|Dipnotetrapodomorpha|Tetrapoda|Amniota|Mammalia|Theria|Eutheria|Boreoeutheria|Euarchontoglires|Primates|Haplorrhini|Simiiformes|Catarrhini|Hominoidea|Hominidae|Homininae|Homo|Homo sapiens|Homo sapiens',\n",
       "   'classification_path_ranks': '|superkingdom||kingdom||||phylum|subphylum|||||superclass||||class||||superorder|order|suborder|infraorder|parvorder|superfamily|family|subfamily|genus|species|subspecies',\n",
       "   'classification_path_ids': '131567|2759|33154|33208|6072|33213|33511|7711|89593|7742|7776|117570|117571|8287|1338369|32523|32524|40674|32525|9347|1437010|314146|9443|376913|314293|9526|314295|9604|207598|9605|9606|741158',\n",
       "   'taxon_id': '741158',\n",
       "   'edit_distance': 0,\n",
       "   'imported_at': '2018-07-05T21:32:23Z',\n",
       "   'match_type': 2,\n",
       "   'match_value': 'Exact match by canonical form',\n",
       "   'prescore': '3|0|0',\n",
       "   'score': 0.988},\n",
       "  {'data_source_id': 7,\n",
       "   'data_source_title': 'Union 4',\n",
       "   'gni_uuid': '7db4f8a2-aafe-56b6-8838-89522c67d9f0',\n",
       "   'name_string': 'Homo sapiens Linnaeus, 1758',\n",
       "   'canonical_form': 'Homo sapiens',\n",
       "   'classification_path': '|Cellular life|Eukaryota|Opisthokonts|Choanoflagellates and animals|Animalia|Epitheliates|Bilateria|Deuterostomia|Chordata|Craniata|Vertebrata|Gnathostomata|Osteichthyes|Sarcopterygii|Tetrapoda|Amniota|Mammalia|Placentalia|Primates|Haplorrhini|Catarrhini|Hominidae|Homo|Homo sapiens',\n",
       "   'classification_path_ranks': '|above family|above family|above family|above family|unranked|above family|above family|above family|above family|unranked|above family|above family|superclass|class|unranked|unranked|unranked||order||family|family|genus|species',\n",
       "   'classification_path_ids': '2822864|2823207|2828118|2843765|2843766|2843767|2843768|17974913|2843770|2844251|2844262|2844327|2844348|2845520|2872875|2872898|2872899|2872900|2873268|2876099|20431183|2876100|2876203|2876214|2876215',\n",
       "   'taxon_id': '2876215',\n",
       "   'edit_distance': 0,\n",
       "   'imported_at': '2012-08-21T16:44:46Z',\n",
       "   'match_type': 2,\n",
       "   'match_value': 'Exact match by canonical form',\n",
       "   'prescore': '3|0|0',\n",
       "   'score': 0.988},\n",
       "  {'data_source_id': 8,\n",
       "   'data_source_title': 'The Interim Register of Marine and Nonmarine Genera',\n",
       "   'gni_uuid': '7db4f8a2-aafe-56b6-8838-89522c67d9f0',\n",
       "   'name_string': 'Homo sapiens Linnaeus, 1758',\n",
       "   'canonical_form': 'Homo sapiens',\n",
       "   'classification_path': 'Animalia|Chordata|Mammalia|Primates|Hominidae|Homo|Homo sapiens',\n",
       "   'classification_path_ranks': 'kingdom|phylum|class|order|family|genus|species',\n",
       "   'classification_path_ids': '11|148|1310|11338|104701|1035772|10857762',\n",
       "   'taxon_id': '10857762',\n",
       "   'edit_distance': 0,\n",
       "   'imported_at': '2016-10-21T20:18:08Z',\n",
       "   'match_type': 2,\n",
       "   'match_value': 'Exact match by canonical form',\n",
       "   'prescore': '3|0|0',\n",
       "   'score': 0.988},\n",
       "  {'data_source_id': 11,\n",
       "   'data_source_title': 'GBIF Backbone Taxonomy',\n",
       "   'gni_uuid': '7db4f8a2-aafe-56b6-8838-89522c67d9f0',\n",
       "   'name_string': 'Homo sapiens Linnaeus, 1758',\n",
       "   'canonical_form': 'Homo sapiens',\n",
       "   'classification_path': 'Animalia|Chordata|Mammalia|Primates|Hominidae|Homo|Homo sapiens',\n",
       "   'classification_path_ranks': 'kingdom|phylum|class|order|family|genus|species',\n",
       "   'classification_path_ids': '1|44|359|798|5483|2436435|2436436',\n",
       "   'taxon_id': '2436436',\n",
       "   'edit_distance': 0,\n",
       "   'imported_at': '2017-09-20T12:12:55Z',\n",
       "   'match_type': 2,\n",
       "   'match_value': 'Exact match by canonical form',\n",
       "   'prescore': '3|0|0',\n",
       "   'score': 0.988},\n",
       "  {'data_source_id': 12,\n",
       "   'data_source_title': 'EOL',\n",
       "   'gni_uuid': '7db4f8a2-aafe-56b6-8838-89522c67d9f0',\n",
       "   'name_string': 'Homo sapiens Linnaeus, 1758',\n",
       "   'canonical_form': 'Homo sapiens',\n",
       "   'classification_path': '',\n",
       "   'classification_path_ranks': '',\n",
       "   'classification_path_ids': '',\n",
       "   'taxon_id': '30336737',\n",
       "   'local_id': '327955',\n",
       "   'edit_distance': 0,\n",
       "   'url': 'http://eol.org/pages/327955',\n",
       "   'imported_at': '2012-05-08T02:37:15Z',\n",
       "   'match_type': 2,\n",
       "   'match_value': 'Exact match by canonical form',\n",
       "   'prescore': '3|0|0',\n",
       "   'score': 0.988},\n",
       "  {'data_source_id': 12,\n",
       "   'data_source_title': 'EOL',\n",
       "   'gni_uuid': '8b13e169-4434-576a-b335-da174b2861bd',\n",
       "   'name_string': 'Homo sapiens L.',\n",
       "   'canonical_form': 'Homo sapiens',\n",
       "   'classification_path': '',\n",
       "   'classification_path_ranks': '',\n",
       "   'classification_path_ids': '',\n",
       "   'taxon_id': '36200564',\n",
       "   'local_id': '327955',\n",
       "   'edit_distance': 0,\n",
       "   'url': 'http://eol.org/pages/327955',\n",
       "   'imported_at': '2012-05-08T02:37:15Z',\n",
       "   'match_type': 2,\n",
       "   'match_value': 'Exact match by canonical form',\n",
       "   'prescore': '3|0|0',\n",
       "   'score': 0.988},\n",
       "  {'data_source_id': 153,\n",
       "   'data_source_title': 'The National Checklist of Taiwan',\n",
       "   'gni_uuid': '7db4f8a2-aafe-56b6-8838-89522c67d9f0',\n",
       "   'name_string': 'Homo sapiens Linnaeus, 1758',\n",
       "   'canonical_form': 'Homo sapiens',\n",
       "   'classification_path': '',\n",
       "   'classification_path_ranks': '',\n",
       "   'classification_path_ids': '',\n",
       "   'taxon_id': '408248',\n",
       "   'edit_distance': 0,\n",
       "   'imported_at': '2012-02-09T13:46:19Z',\n",
       "   'match_type': 2,\n",
       "   'match_value': 'Exact match by canonical form',\n",
       "   'prescore': '3|0|0',\n",
       "   'score': 0.988},\n",
       "  {'data_source_id': 163,\n",
       "   'data_source_title': 'IUCN Red List of Threatened Species',\n",
       "   'gni_uuid': '7db4f8a2-aafe-56b6-8838-89522c67d9f0',\n",
       "   'name_string': 'Homo sapiens Linnaeus, 1758',\n",
       "   'canonical_form': 'Homo sapiens',\n",
       "   'classification_path': '',\n",
       "   'classification_path_ranks': '',\n",
       "   'classification_path_ids': '',\n",
       "   'taxon_id': '136584',\n",
       "   'edit_distance': 0,\n",
       "   'imported_at': '2012-02-09T14:20:16Z',\n",
       "   'match_type': 2,\n",
       "   'match_value': 'Exact match by canonical form',\n",
       "   'prescore': '3|0|0',\n",
       "   'score': 0.988},\n",
       "  {'data_source_id': 164,\n",
       "   'data_source_title': 'BioLib.cz',\n",
       "   'gni_uuid': '7db4f8a2-aafe-56b6-8838-89522c67d9f0',\n",
       "   'name_string': 'Homo sapiens Linnaeus, 1758',\n",
       "   'canonical_form': 'Homo sapiens',\n",
       "   'classification_path': '',\n",
       "   'classification_path_ranks': '',\n",
       "   'classification_path_ids': '',\n",
       "   'taxon_id': '141655071',\n",
       "   'edit_distance': 0,\n",
       "   'url': 'http://www.biolib.cz/en/taxon/id20558/',\n",
       "   'imported_at': '2012-02-09T14:28:17Z',\n",
       "   'match_type': 2,\n",
       "   'match_value': 'Exact match by canonical form',\n",
       "   'prescore': '3|0|0',\n",
       "   'score': 0.988},\n",
       "  {'data_source_id': 166,\n",
       "   'data_source_title': 'nlbif',\n",
       "   'gni_uuid': '7db4f8a2-aafe-56b6-8838-89522c67d9f0',\n",
       "   'name_string': 'Homo sapiens Linnaeus, 1758',\n",
       "   'canonical_form': 'Homo sapiens',\n",
       "   'classification_path': '',\n",
       "   'classification_path_ranks': '',\n",
       "   'classification_path_ids': '',\n",
       "   'taxon_id': '131506189',\n",
       "   'edit_distance': 0,\n",
       "   'url': 'http://www.nlbif.nl/species_details.php?name=Homo+sapiens',\n",
       "   'imported_at': '2012-02-09T15:17:10Z',\n",
       "   'match_type': 2,\n",
       "   'match_value': 'Exact match by canonical form',\n",
       "   'prescore': '3|0|0',\n",
       "   'score': 0.988},\n",
       "  {'data_source_id': 169,\n",
       "   'data_source_title': 'uBio NameBank',\n",
       "   'gni_uuid': '7db4f8a2-aafe-56b6-8838-89522c67d9f0',\n",
       "   'name_string': 'Homo sapiens Linnaeus, 1758',\n",
       "   'canonical_form': 'Homo sapiens',\n",
       "   'classification_path': '|Homo sapiens',\n",
       "   'classification_path_ranks': 'kingdom|',\n",
       "   'classification_path_ids': '',\n",
       "   'taxon_id': '93802409',\n",
       "   'local_id': 'urn:lsid:ubio.org:namebank:109086',\n",
       "   'global_id': 'urn:lsid:ubio.org:namebank:109086',\n",
       "   'edit_distance': 0,\n",
       "   'url': 'http://www.ubio.org/browser/details.php?namebankID=109086',\n",
       "   'imported_at': '2013-05-31T13:04:26Z',\n",
       "   'match_type': 2,\n",
       "   'match_value': 'Exact match by canonical form',\n",
       "   'prescore': '3|0|0',\n",
       "   'score': 0.988},\n",
       "  {'data_source_id': 172,\n",
       "   'data_source_title': 'The Paleobiology Database',\n",
       "   'gni_uuid': '208eb0ea-40e3-5894-9b7d-664721bd24e6',\n",
       "   'name_string': 'Homo sapiens Linnaeus 1758',\n",
       "   'canonical_form': 'Homo sapiens',\n",
       "   'classification_path': 'Eucarya|Opisthokonta|Metazoa|Eumetazoa|Triploblastica|Nephrozoa|Deuterostomia|Chordata|Vertebrata|Gnathostomata|Osteichthyes|Sarcopterygii|Dipnotetrapodomorpha|Tetrapodomorpha|Tetrapoda|Reptiliomorpha|Anthracosauria|Batrachosauria|Cotylosauria|Amniota|Synapsida|Therapsida|Cynodontia|Epicynodontia|Eucynodontia|Probainognathia|Mammaliamorpha|Mammaliaformes|Mammalia|Theriamorpha|Theriiformes|Trechnotheria|Cladotheria|Boreosphenida|Theria|Eutheria|Placentalia|Euarchontoglires|Euarchonta|Primates|Euprimateformes|Euprimates|Haplorhini|Anthropoidea|Catarrhini|Hominoidea|Hominidae|Homininae|Homo|Homo sapiens',\n",
       "   'classification_path_ranks': 'unranked clade|unranked clade|subkingdom|unranked clade|unranked clade|unranked clade|unranked clade|unranked clade|unranked clade|unranked clade|unranked clade|superclass|subclass|subclass|unranked clade|unranked clade|unranked clade|unranked clade|unranked clade|unranked clade|unranked clade|unranked clade|infraorder|unranked clade|infraorder|unranked clade|unranked clade|unranked clade|class|unranked clade|unranked clade|unranked clade|unranked clade|unranked clade|subclass|infraclass|unranked clade|unranked clade|unranked clade|order|unranked clade|unranked clade|infraorder|suborder|infraorder|superfamily|family|subfamily|genus|species',\n",
       "   'classification_path_ids': '288516|212579|2|85325|67102|85323|67145|33815|67149|67344|34881|67348|219195|77135|53190|125547|37177|99766|56749|53189|38882|38935|39168|67366|39183|67452|67455|67456|36651|108999|137608|64369|57710|67561|39860|182911|91965|137728|92586|40700|92573|92574|92589|40840|40854|40883|40899|83070|40901|83088',\n",
       "   'taxon_id': '83088',\n",
       "   'edit_distance': 0,\n",
       "   'imported_at': '2014-12-08T07:19:19Z',\n",
       "   'match_type': 2,\n",
       "   'match_value': 'Exact match by canonical form',\n",
       "   'prescore': '3|0|0',\n",
       "   'score': 0.988},\n",
       "  {'data_source_id': 174,\n",
       "   'data_source_title': 'The Mammal Species of The World',\n",
       "   'gni_uuid': '208eb0ea-40e3-5894-9b7d-664721bd24e6',\n",
       "   'name_string': 'Homo sapiens Linnaeus 1758',\n",
       "   'canonical_form': 'Homo sapiens',\n",
       "   'classification_path': 'Mammalia|Primates|Haplorrhini|Simiiformes|Hominoidea|Hominidae|Homo|Homo sapiens',\n",
       "   'classification_path_ranks': 'class|order|suborder|infraorder|superfamily|family|genus|species',\n",
       "   'classification_path_ids': '1|2629|2957|2987|4530|4600|4629|4630',\n",
       "   'taxon_id': '4630',\n",
       "   'local_id': '12100795',\n",
       "   'edit_distance': 0,\n",
       "   'imported_at': '2018-08-04T20:49:48Z',\n",
       "   'match_type': 2,\n",
       "   'match_value': 'Exact match by canonical form',\n",
       "   'prescore': '3|0|0',\n",
       "   'score': 0.988},\n",
       "  {'data_source_id': 179,\n",
       "   'data_source_title': 'Open Tree of Life Reference Taxonomy',\n",
       "   'gni_uuid': 'a4f5a72a-c0df-5e3c-a998-72cc4c2479de',\n",
       "   'name_string': 'Homo sapiens ssp. Denisova',\n",
       "   'canonical_form': 'Homo sapiens',\n",
       "   'classification_path': '||Eukaryota|Opisthokonta|Holozoa|Metazoa|Eumetazoa|Bilateria|Deuterostomia|Chordata|Craniata|Vertebrata|Gnathostomata|Teleostomi|Euteleostomi|Sarcopterygii|Dipnotetrapodomorpha|Tetrapoda|Amniota|Mammalia|Theria|Eutheria|Boreoeutheria|Euarchontoglires|Primates|Haplorrhini|Simiiformes|Catarrhini|Hominoidea|Hominidae|Homininae|Homo|Homo sapiens|Homo sapiens',\n",
       "   'classification_path_ranks': 'no rank|no rank|domain|no rank|no rank|kingdom|no rank|no rank|no rank|phylum|subphylum|subphylum|superclass|no rank|no rank|class|no rank|superclass|no rank|class|subclass|no rank|no rank|superorder|order|suborder|infraorder|parvorder|superfamily|family|subfamily|genus|species|subspecies',\n",
       "   'classification_path_ids': '805080|93302|304358|332573|5246131|691846|641038|117569|147604|125642|947318|801601|278114|114656|114654|458402|4940726|229562|229560|244265|229558|683263|5334778|392222|913935|702152|386195|842867|386191|770311|312031|770309|770315|933436',\n",
       "   'taxon_id': '933436',\n",
       "   'local_id': '933436',\n",
       "   'edit_distance': 0,\n",
       "   'imported_at': '2018-07-17T19:17:07Z',\n",
       "   'match_type': 2,\n",
       "   'match_value': 'Exact match by canonical form',\n",
       "   'prescore': '3|0|0',\n",
       "   'score': 0.988}]]"
      ]
     },
     "execution_count": 132,
     "metadata": {},
     "output_type": "execute_result"
    }
   ],
   "source": [
    "pytaxize.gnr_resolve('Homo sapiens')"
   ]
  },
  {
   "cell_type": "markdown",
   "metadata": {},
   "source": [
    "Since the output will be a list containing just one list, we index [0] to get rid of the outer list:"
   ]
  },
  {
   "cell_type": "code",
   "execution_count": 133,
   "metadata": {},
   "outputs": [
    {
     "data": {
      "text/plain": [
       "[{'data_source_id': 4,\n",
       "  'data_source_title': 'NCBI',\n",
       "  'gni_uuid': '16f235a0-e4a3-529c-9b83-bd15fe722110',\n",
       "  'name_string': 'Homo sapiens',\n",
       "  'canonical_form': 'Homo sapiens',\n",
       "  'classification_path': '|Eukaryota|Opisthokonta|Metazoa|Eumetazoa|Bilateria|Deuterostomia|Chordata|Craniata|Vertebrata|Gnathostomata|Teleostomi|Euteleostomi|Sarcopterygii|Dipnotetrapodomorpha|Tetrapoda|Amniota|Mammalia|Theria|Eutheria|Boreoeutheria|Euarchontoglires|Primates|Haplorrhini|Simiiformes|Catarrhini|Hominoidea|Hominidae|Homininae|Homo|Homo sapiens',\n",
       "  'classification_path_ranks': '|superkingdom||kingdom||||phylum|subphylum|||||superclass||||class||||superorder|order|suborder|infraorder|parvorder|superfamily|family|subfamily|genus|species',\n",
       "  'classification_path_ids': '131567|2759|33154|33208|6072|33213|33511|7711|89593|7742|7776|117570|117571|8287|1338369|32523|32524|40674|32525|9347|1437010|314146|9443|376913|314293|9526|314295|9604|207598|9605|9606',\n",
       "  'taxon_id': '9606',\n",
       "  'edit_distance': 0,\n",
       "  'imported_at': '2018-07-05T21:08:08Z',\n",
       "  'match_type': 1,\n",
       "  'match_value': 'Exact string match',\n",
       "  'prescore': '3|0|0',\n",
       "  'score': 0.988},\n",
       " {'data_source_id': 10,\n",
       "  'data_source_title': 'Freebase',\n",
       "  'gni_uuid': '16f235a0-e4a3-529c-9b83-bd15fe722110',\n",
       "  'name_string': 'Homo sapiens',\n",
       "  'canonical_form': 'Homo sapiens',\n",
       "  'classification_path': 'Eukaryota|Animalia|Eumetazoa|Bilateria|Deuterostomia|Chordata|Vertebrata|Tetrapoda|Mammalia|Theria|Eutheria|Euarchontoglires|Primates|Haplorrhini|Simiiformes|Catarrhini|Hominoidea|Hominidae|Homininae|Hominini|Hominina|Homo|Homo sapiens',\n",
       "  'classification_path_ranks': '||||||||||||||||||||||',\n",
       "  'classification_path_ids': '/en/eukaryote|/en/animal|/en/eumetazoa|/en/bilateria|/en/deuterostome|/en/chordate|/en/vertebrate|/en/tetrapod|/en/mammal|/en/theria|/en/eutheria|/en/euarchontoglires|/en/primate|/en/haplorrhini|/en/simian|/en/catarrhini|/en/ape|/en/hominidae|/en/homininae|/en/hominini|/en/hominina|/en/homo|/en/human',\n",
       "  'taxon_id': '/en/human',\n",
       "  'edit_distance': 0,\n",
       "  'imported_at': '2012-08-01T14:08:22Z',\n",
       "  'match_type': 1,\n",
       "  'match_value': 'Exact string match',\n",
       "  'prescore': '3|0|0',\n",
       "  'score': 0.988},\n",
       " {'data_source_id': 12,\n",
       "  'data_source_title': 'EOL',\n",
       "  'gni_uuid': '16f235a0-e4a3-529c-9b83-bd15fe722110',\n",
       "  'name_string': 'Homo sapiens',\n",
       "  'canonical_form': 'Homo sapiens',\n",
       "  'classification_path': '',\n",
       "  'classification_path_ranks': '',\n",
       "  'classification_path_ids': '',\n",
       "  'taxon_id': '20619206',\n",
       "  'local_id': '327955',\n",
       "  'edit_distance': 0,\n",
       "  'url': 'http://eol.org/pages/327955',\n",
       "  'imported_at': '2012-05-08T02:37:15Z',\n",
       "  'match_type': 1,\n",
       "  'match_value': 'Exact string match',\n",
       "  'prescore': '3|0|0',\n",
       "  'score': 0.988},\n",
       " {'data_source_id': 107,\n",
       "  'data_source_title': 'AskNature',\n",
       "  'gni_uuid': '16f235a0-e4a3-529c-9b83-bd15fe722110',\n",
       "  'name_string': 'Homo sapiens',\n",
       "  'canonical_form': 'Homo sapiens',\n",
       "  'classification_path': '',\n",
       "  'classification_path_ranks': '',\n",
       "  'classification_path_ids': '',\n",
       "  'taxon_id': '142439634',\n",
       "  'edit_distance': 0,\n",
       "  'url': 'http://www.asknature.org/organism/579431',\n",
       "  'imported_at': '2012-02-09T13:21:49Z',\n",
       "  'match_type': 1,\n",
       "  'match_value': 'Exact string match',\n",
       "  'prescore': '3|0|0',\n",
       "  'score': 0.988},\n",
       " {'data_source_id': 122,\n",
       "  'data_source_title': 'BioPedia',\n",
       "  'gni_uuid': '16f235a0-e4a3-529c-9b83-bd15fe722110',\n",
       "  'name_string': 'Homo sapiens',\n",
       "  'canonical_form': 'Homo sapiens',\n",
       "  'classification_path': '',\n",
       "  'classification_path_ranks': '',\n",
       "  'classification_path_ids': '',\n",
       "  'taxon_id': '142444605',\n",
       "  'edit_distance': 0,\n",
       "  'imported_at': '2012-02-09T13:24:22Z',\n",
       "  'match_type': 1,\n",
       "  'match_value': 'Exact string match',\n",
       "  'prescore': '3|0|0',\n",
       "  'score': 0.988},\n",
       " {'data_source_id': 123,\n",
       "  'data_source_title': 'AnAge',\n",
       "  'gni_uuid': '16f235a0-e4a3-529c-9b83-bd15fe722110',\n",
       "  'name_string': 'Homo sapiens',\n",
       "  'canonical_form': 'Homo sapiens',\n",
       "  'classification_path': '',\n",
       "  'classification_path_ranks': '',\n",
       "  'classification_path_ids': '',\n",
       "  'taxon_id': '142514863',\n",
       "  'edit_distance': 0,\n",
       "  'url': 'http://genomics.senescence.info/species/entry.php?species=Homo_sapiens',\n",
       "  'imported_at': '2012-02-09T13:24:41Z',\n",
       "  'match_type': 1,\n",
       "  'match_value': 'Exact string match',\n",
       "  'prescore': '3|0|0',\n",
       "  'score': 0.988},\n",
       " {'data_source_id': 159,\n",
       "  'data_source_title': 'CU*STAR',\n",
       "  'gni_uuid': '16f235a0-e4a3-529c-9b83-bd15fe722110',\n",
       "  'name_string': 'Homo sapiens',\n",
       "  'canonical_form': 'Homo sapiens',\n",
       "  'classification_path': '',\n",
       "  'classification_path_ranks': '',\n",
       "  'classification_path_ids': '',\n",
       "  'taxon_id': '106034990',\n",
       "  'edit_distance': 0,\n",
       "  'imported_at': '2012-02-09T14:03:56Z',\n",
       "  'match_type': 1,\n",
       "  'match_value': 'Exact string match',\n",
       "  'prescore': '3|0|0',\n",
       "  'score': 0.988},\n",
       " {'data_source_id': 168,\n",
       "  'data_source_title': 'Index to Organism Names',\n",
       "  'gni_uuid': '16f235a0-e4a3-529c-9b83-bd15fe722110',\n",
       "  'name_string': 'Homo sapiens',\n",
       "  'canonical_form': 'Homo sapiens',\n",
       "  'classification_path': '',\n",
       "  'classification_path_ranks': '',\n",
       "  'classification_path_ids': '',\n",
       "  'taxon_id': '126216245',\n",
       "  'edit_distance': 0,\n",
       "  'url': 'http://www.organismnames.com/details.htm?lsid=687436',\n",
       "  'imported_at': '2012-02-09T16:35:41Z',\n",
       "  'match_type': 1,\n",
       "  'match_value': 'Exact string match',\n",
       "  'prescore': '3|0|0',\n",
       "  'score': 0.988},\n",
       " {'data_source_id': 169,\n",
       "  'data_source_title': 'uBio NameBank',\n",
       "  'gni_uuid': '16f235a0-e4a3-529c-9b83-bd15fe722110',\n",
       "  'name_string': 'Homo sapiens',\n",
       "  'canonical_form': 'Homo sapiens',\n",
       "  'classification_path': '|Homo sapiens',\n",
       "  'classification_path_ranks': 'kingdom|',\n",
       "  'classification_path_ids': '',\n",
       "  'taxon_id': '95692685',\n",
       "  'local_id': 'urn:lsid:ubio.org:namebank:2481730',\n",
       "  'global_id': 'urn:lsid:ubio.org:namebank:2481730',\n",
       "  'edit_distance': 0,\n",
       "  'url': 'http://www.ubio.org/browser/details.php?namebankID=2481730',\n",
       "  'imported_at': '2013-05-31T14:56:36Z',\n",
       "  'match_type': 1,\n",
       "  'match_value': 'Exact string match',\n",
       "  'prescore': '3|0|0',\n",
       "  'score': 0.988},\n",
       " {'data_source_id': 170,\n",
       "  'data_source_title': 'Arctos',\n",
       "  'gni_uuid': '16f235a0-e4a3-529c-9b83-bd15fe722110',\n",
       "  'name_string': 'Homo sapiens',\n",
       "  'canonical_form': 'Homo sapiens',\n",
       "  'classification_path': 'Animalia|Chordata|Mammalia|Primates|Hominidae|Homo|Homo sapiens',\n",
       "  'classification_path_ranks': 'kingdom|phylum|class|order|family|genus|',\n",
       "  'classification_path_ids': '',\n",
       "  'taxon_id': '247',\n",
       "  'local_id': '247',\n",
       "  'edit_distance': 0,\n",
       "  'imported_at': '2013-06-03T20:08:05Z',\n",
       "  'match_type': 1,\n",
       "  'match_value': 'Exact string match',\n",
       "  'prescore': '3|0|0',\n",
       "  'score': 0.988},\n",
       " {'data_source_id': 179,\n",
       "  'data_source_title': 'Open Tree of Life Reference Taxonomy',\n",
       "  'gni_uuid': '16f235a0-e4a3-529c-9b83-bd15fe722110',\n",
       "  'name_string': 'Homo sapiens',\n",
       "  'canonical_form': 'Homo sapiens',\n",
       "  'classification_path': '||Eukaryota|Opisthokonta|Holozoa|Metazoa|Eumetazoa|Bilateria|Deuterostomia|Chordata|Craniata|Vertebrata|Gnathostomata|Teleostomi|Euteleostomi|Sarcopterygii|Dipnotetrapodomorpha|Tetrapoda|Amniota|Mammalia|Theria|Eutheria|Boreoeutheria|Euarchontoglires|Primates|Haplorrhini|Simiiformes|Catarrhini|Hominoidea|Hominidae|Homininae|Homo|Homo sapiens',\n",
       "  'classification_path_ranks': 'no rank|no rank|domain|no rank|no rank|kingdom|no rank|no rank|no rank|phylum|subphylum|subphylum|superclass|no rank|no rank|class|no rank|superclass|no rank|class|subclass|no rank|no rank|superorder|order|suborder|infraorder|parvorder|superfamily|family|subfamily|genus|species',\n",
       "  'classification_path_ids': '805080|93302|304358|332573|5246131|691846|641038|117569|147604|125642|947318|801601|278114|114656|114654|458402|4940726|229562|229560|244265|229558|683263|5334778|392222|913935|702152|386195|842867|386191|770311|312031|770309|770315',\n",
       "  'taxon_id': '770315',\n",
       "  'local_id': '770315',\n",
       "  'edit_distance': 0,\n",
       "  'imported_at': '2018-07-17T19:17:07Z',\n",
       "  'match_type': 1,\n",
       "  'match_value': 'Exact string match',\n",
       "  'prescore': '3|0|0',\n",
       "  'score': 0.988},\n",
       " {'data_source_id': 1,\n",
       "  'data_source_title': 'Catalogue of Life',\n",
       "  'gni_uuid': '7db4f8a2-aafe-56b6-8838-89522c67d9f0',\n",
       "  'name_string': 'Homo sapiens Linnaeus, 1758',\n",
       "  'canonical_form': 'Homo sapiens',\n",
       "  'classification_path': 'Animalia|Chordata|Mammalia|Primates|Hominoidea|Hominidae|Homo|Homo sapiens',\n",
       "  'classification_path_ranks': 'kingdom|phylum|class|order|superfamily|family|genus|species',\n",
       "  'classification_path_ids': '45841265|45841266|45841274|45841621|45841629|45841631|45923055|e3b90576561f93a8ac8b59e185b01511',\n",
       "  'taxon_id': 'e3b90576561f93a8ac8b59e185b01511',\n",
       "  'edit_distance': 0,\n",
       "  'imported_at': '2018-07-16T17:37:31Z',\n",
       "  'match_type': 2,\n",
       "  'match_value': 'Exact match by canonical form',\n",
       "  'prescore': '3|0|0',\n",
       "  'score': 0.988},\n",
       " {'data_source_id': 3,\n",
       "  'data_source_title': 'ITIS',\n",
       "  'gni_uuid': '7db4f8a2-aafe-56b6-8838-89522c67d9f0',\n",
       "  'name_string': 'Homo sapiens Linnaeus, 1758',\n",
       "  'canonical_form': 'Homo sapiens',\n",
       "  'classification_path': 'Animalia|Bilateria|Deuterostomia|Chordata|Vertebrata|Gnathostomata|Tetrapoda|Mammalia|Theria|Eutheria|Primates|Haplorrhini|Simiiformes|Hominoidea|Hominidae|Homininae|Homo|Homo sapiens',\n",
       "  'classification_path_ranks': 'Kingdom|Subkingdom|Infrakingdom|Phylum|Subphylum|Infraphylum|Superclass|Class|Subclass|Infraclass|Order|Suborder|Infraorder|Superfamily|Family|Subfamily|Genus|Species',\n",
       "  'classification_path_ids': '202423|914154|914156|158852|331030|914179|914181|179913|179916|179925|180089|943773|943778|943782|180090|943805|180091|180092',\n",
       "  'taxon_id': '180092',\n",
       "  'edit_distance': 0,\n",
       "  'imported_at': '2018-07-05T18:44:16Z',\n",
       "  'match_type': 2,\n",
       "  'match_value': 'Exact match by canonical form',\n",
       "  'prescore': '3|0|0',\n",
       "  'score': 0.988},\n",
       " {'data_source_id': 4,\n",
       "  'data_source_title': 'NCBI',\n",
       "  'gni_uuid': '4df7757f-bbf4-5ee0-aaed-b5bb3c2c5cf7',\n",
       "  'name_string': 'Homo sapiens subsp. Denisova',\n",
       "  'canonical_form': 'Homo sapiens',\n",
       "  'classification_path': '|Eukaryota|Opisthokonta|Metazoa|Eumetazoa|Bilateria|Deuterostomia|Chordata|Craniata|Vertebrata|Gnathostomata|Teleostomi|Euteleostomi|Sarcopterygii|Dipnotetrapodomorpha|Tetrapoda|Amniota|Mammalia|Theria|Eutheria|Boreoeutheria|Euarchontoglires|Primates|Haplorrhini|Simiiformes|Catarrhini|Hominoidea|Hominidae|Homininae|Homo|Homo sapiens|Homo sapiens',\n",
       "  'classification_path_ranks': '|superkingdom||kingdom||||phylum|subphylum|||||superclass||||class||||superorder|order|suborder|infraorder|parvorder|superfamily|family|subfamily|genus|species|subspecies',\n",
       "  'classification_path_ids': '131567|2759|33154|33208|6072|33213|33511|7711|89593|7742|7776|117570|117571|8287|1338369|32523|32524|40674|32525|9347|1437010|314146|9443|376913|314293|9526|314295|9604|207598|9605|9606|741158',\n",
       "  'taxon_id': '741158',\n",
       "  'edit_distance': 0,\n",
       "  'imported_at': '2018-07-05T21:32:23Z',\n",
       "  'match_type': 2,\n",
       "  'match_value': 'Exact match by canonical form',\n",
       "  'prescore': '3|0|0',\n",
       "  'score': 0.988},\n",
       " {'data_source_id': 7,\n",
       "  'data_source_title': 'Union 4',\n",
       "  'gni_uuid': '7db4f8a2-aafe-56b6-8838-89522c67d9f0',\n",
       "  'name_string': 'Homo sapiens Linnaeus, 1758',\n",
       "  'canonical_form': 'Homo sapiens',\n",
       "  'classification_path': '|Cellular life|Eukaryota|Opisthokonts|Choanoflagellates and animals|Animalia|Epitheliates|Bilateria|Deuterostomia|Chordata|Craniata|Vertebrata|Gnathostomata|Osteichthyes|Sarcopterygii|Tetrapoda|Amniota|Mammalia|Placentalia|Primates|Haplorrhini|Catarrhini|Hominidae|Homo|Homo sapiens',\n",
       "  'classification_path_ranks': '|above family|above family|above family|above family|unranked|above family|above family|above family|above family|unranked|above family|above family|superclass|class|unranked|unranked|unranked||order||family|family|genus|species',\n",
       "  'classification_path_ids': '2822864|2823207|2828118|2843765|2843766|2843767|2843768|17974913|2843770|2844251|2844262|2844327|2844348|2845520|2872875|2872898|2872899|2872900|2873268|2876099|20431183|2876100|2876203|2876214|2876215',\n",
       "  'taxon_id': '2876215',\n",
       "  'edit_distance': 0,\n",
       "  'imported_at': '2012-08-21T16:44:46Z',\n",
       "  'match_type': 2,\n",
       "  'match_value': 'Exact match by canonical form',\n",
       "  'prescore': '3|0|0',\n",
       "  'score': 0.988},\n",
       " {'data_source_id': 8,\n",
       "  'data_source_title': 'The Interim Register of Marine and Nonmarine Genera',\n",
       "  'gni_uuid': '7db4f8a2-aafe-56b6-8838-89522c67d9f0',\n",
       "  'name_string': 'Homo sapiens Linnaeus, 1758',\n",
       "  'canonical_form': 'Homo sapiens',\n",
       "  'classification_path': 'Animalia|Chordata|Mammalia|Primates|Hominidae|Homo|Homo sapiens',\n",
       "  'classification_path_ranks': 'kingdom|phylum|class|order|family|genus|species',\n",
       "  'classification_path_ids': '11|148|1310|11338|104701|1035772|10857762',\n",
       "  'taxon_id': '10857762',\n",
       "  'edit_distance': 0,\n",
       "  'imported_at': '2016-10-21T20:18:08Z',\n",
       "  'match_type': 2,\n",
       "  'match_value': 'Exact match by canonical form',\n",
       "  'prescore': '3|0|0',\n",
       "  'score': 0.988},\n",
       " {'data_source_id': 11,\n",
       "  'data_source_title': 'GBIF Backbone Taxonomy',\n",
       "  'gni_uuid': '7db4f8a2-aafe-56b6-8838-89522c67d9f0',\n",
       "  'name_string': 'Homo sapiens Linnaeus, 1758',\n",
       "  'canonical_form': 'Homo sapiens',\n",
       "  'classification_path': 'Animalia|Chordata|Mammalia|Primates|Hominidae|Homo|Homo sapiens',\n",
       "  'classification_path_ranks': 'kingdom|phylum|class|order|family|genus|species',\n",
       "  'classification_path_ids': '1|44|359|798|5483|2436435|2436436',\n",
       "  'taxon_id': '2436436',\n",
       "  'edit_distance': 0,\n",
       "  'imported_at': '2017-09-20T12:12:55Z',\n",
       "  'match_type': 2,\n",
       "  'match_value': 'Exact match by canonical form',\n",
       "  'prescore': '3|0|0',\n",
       "  'score': 0.988},\n",
       " {'data_source_id': 12,\n",
       "  'data_source_title': 'EOL',\n",
       "  'gni_uuid': '7db4f8a2-aafe-56b6-8838-89522c67d9f0',\n",
       "  'name_string': 'Homo sapiens Linnaeus, 1758',\n",
       "  'canonical_form': 'Homo sapiens',\n",
       "  'classification_path': '',\n",
       "  'classification_path_ranks': '',\n",
       "  'classification_path_ids': '',\n",
       "  'taxon_id': '30336737',\n",
       "  'local_id': '327955',\n",
       "  'edit_distance': 0,\n",
       "  'url': 'http://eol.org/pages/327955',\n",
       "  'imported_at': '2012-05-08T02:37:15Z',\n",
       "  'match_type': 2,\n",
       "  'match_value': 'Exact match by canonical form',\n",
       "  'prescore': '3|0|0',\n",
       "  'score': 0.988},\n",
       " {'data_source_id': 12,\n",
       "  'data_source_title': 'EOL',\n",
       "  'gni_uuid': '8b13e169-4434-576a-b335-da174b2861bd',\n",
       "  'name_string': 'Homo sapiens L.',\n",
       "  'canonical_form': 'Homo sapiens',\n",
       "  'classification_path': '',\n",
       "  'classification_path_ranks': '',\n",
       "  'classification_path_ids': '',\n",
       "  'taxon_id': '36200564',\n",
       "  'local_id': '327955',\n",
       "  'edit_distance': 0,\n",
       "  'url': 'http://eol.org/pages/327955',\n",
       "  'imported_at': '2012-05-08T02:37:15Z',\n",
       "  'match_type': 2,\n",
       "  'match_value': 'Exact match by canonical form',\n",
       "  'prescore': '3|0|0',\n",
       "  'score': 0.988},\n",
       " {'data_source_id': 153,\n",
       "  'data_source_title': 'The National Checklist of Taiwan',\n",
       "  'gni_uuid': '7db4f8a2-aafe-56b6-8838-89522c67d9f0',\n",
       "  'name_string': 'Homo sapiens Linnaeus, 1758',\n",
       "  'canonical_form': 'Homo sapiens',\n",
       "  'classification_path': '',\n",
       "  'classification_path_ranks': '',\n",
       "  'classification_path_ids': '',\n",
       "  'taxon_id': '408248',\n",
       "  'edit_distance': 0,\n",
       "  'imported_at': '2012-02-09T13:46:19Z',\n",
       "  'match_type': 2,\n",
       "  'match_value': 'Exact match by canonical form',\n",
       "  'prescore': '3|0|0',\n",
       "  'score': 0.988},\n",
       " {'data_source_id': 163,\n",
       "  'data_source_title': 'IUCN Red List of Threatened Species',\n",
       "  'gni_uuid': '7db4f8a2-aafe-56b6-8838-89522c67d9f0',\n",
       "  'name_string': 'Homo sapiens Linnaeus, 1758',\n",
       "  'canonical_form': 'Homo sapiens',\n",
       "  'classification_path': '',\n",
       "  'classification_path_ranks': '',\n",
       "  'classification_path_ids': '',\n",
       "  'taxon_id': '136584',\n",
       "  'edit_distance': 0,\n",
       "  'imported_at': '2012-02-09T14:20:16Z',\n",
       "  'match_type': 2,\n",
       "  'match_value': 'Exact match by canonical form',\n",
       "  'prescore': '3|0|0',\n",
       "  'score': 0.988},\n",
       " {'data_source_id': 164,\n",
       "  'data_source_title': 'BioLib.cz',\n",
       "  'gni_uuid': '7db4f8a2-aafe-56b6-8838-89522c67d9f0',\n",
       "  'name_string': 'Homo sapiens Linnaeus, 1758',\n",
       "  'canonical_form': 'Homo sapiens',\n",
       "  'classification_path': '',\n",
       "  'classification_path_ranks': '',\n",
       "  'classification_path_ids': '',\n",
       "  'taxon_id': '141655071',\n",
       "  'edit_distance': 0,\n",
       "  'url': 'http://www.biolib.cz/en/taxon/id20558/',\n",
       "  'imported_at': '2012-02-09T14:28:17Z',\n",
       "  'match_type': 2,\n",
       "  'match_value': 'Exact match by canonical form',\n",
       "  'prescore': '3|0|0',\n",
       "  'score': 0.988},\n",
       " {'data_source_id': 166,\n",
       "  'data_source_title': 'nlbif',\n",
       "  'gni_uuid': '7db4f8a2-aafe-56b6-8838-89522c67d9f0',\n",
       "  'name_string': 'Homo sapiens Linnaeus, 1758',\n",
       "  'canonical_form': 'Homo sapiens',\n",
       "  'classification_path': '',\n",
       "  'classification_path_ranks': '',\n",
       "  'classification_path_ids': '',\n",
       "  'taxon_id': '131506189',\n",
       "  'edit_distance': 0,\n",
       "  'url': 'http://www.nlbif.nl/species_details.php?name=Homo+sapiens',\n",
       "  'imported_at': '2012-02-09T15:17:10Z',\n",
       "  'match_type': 2,\n",
       "  'match_value': 'Exact match by canonical form',\n",
       "  'prescore': '3|0|0',\n",
       "  'score': 0.988},\n",
       " {'data_source_id': 169,\n",
       "  'data_source_title': 'uBio NameBank',\n",
       "  'gni_uuid': '7db4f8a2-aafe-56b6-8838-89522c67d9f0',\n",
       "  'name_string': 'Homo sapiens Linnaeus, 1758',\n",
       "  'canonical_form': 'Homo sapiens',\n",
       "  'classification_path': '|Homo sapiens',\n",
       "  'classification_path_ranks': 'kingdom|',\n",
       "  'classification_path_ids': '',\n",
       "  'taxon_id': '93802409',\n",
       "  'local_id': 'urn:lsid:ubio.org:namebank:109086',\n",
       "  'global_id': 'urn:lsid:ubio.org:namebank:109086',\n",
       "  'edit_distance': 0,\n",
       "  'url': 'http://www.ubio.org/browser/details.php?namebankID=109086',\n",
       "  'imported_at': '2013-05-31T13:04:26Z',\n",
       "  'match_type': 2,\n",
       "  'match_value': 'Exact match by canonical form',\n",
       "  'prescore': '3|0|0',\n",
       "  'score': 0.988},\n",
       " {'data_source_id': 172,\n",
       "  'data_source_title': 'The Paleobiology Database',\n",
       "  'gni_uuid': '208eb0ea-40e3-5894-9b7d-664721bd24e6',\n",
       "  'name_string': 'Homo sapiens Linnaeus 1758',\n",
       "  'canonical_form': 'Homo sapiens',\n",
       "  'classification_path': 'Eucarya|Opisthokonta|Metazoa|Eumetazoa|Triploblastica|Nephrozoa|Deuterostomia|Chordata|Vertebrata|Gnathostomata|Osteichthyes|Sarcopterygii|Dipnotetrapodomorpha|Tetrapodomorpha|Tetrapoda|Reptiliomorpha|Anthracosauria|Batrachosauria|Cotylosauria|Amniota|Synapsida|Therapsida|Cynodontia|Epicynodontia|Eucynodontia|Probainognathia|Mammaliamorpha|Mammaliaformes|Mammalia|Theriamorpha|Theriiformes|Trechnotheria|Cladotheria|Boreosphenida|Theria|Eutheria|Placentalia|Euarchontoglires|Euarchonta|Primates|Euprimateformes|Euprimates|Haplorhini|Anthropoidea|Catarrhini|Hominoidea|Hominidae|Homininae|Homo|Homo sapiens',\n",
       "  'classification_path_ranks': 'unranked clade|unranked clade|subkingdom|unranked clade|unranked clade|unranked clade|unranked clade|unranked clade|unranked clade|unranked clade|unranked clade|superclass|subclass|subclass|unranked clade|unranked clade|unranked clade|unranked clade|unranked clade|unranked clade|unranked clade|unranked clade|infraorder|unranked clade|infraorder|unranked clade|unranked clade|unranked clade|class|unranked clade|unranked clade|unranked clade|unranked clade|unranked clade|subclass|infraclass|unranked clade|unranked clade|unranked clade|order|unranked clade|unranked clade|infraorder|suborder|infraorder|superfamily|family|subfamily|genus|species',\n",
       "  'classification_path_ids': '288516|212579|2|85325|67102|85323|67145|33815|67149|67344|34881|67348|219195|77135|53190|125547|37177|99766|56749|53189|38882|38935|39168|67366|39183|67452|67455|67456|36651|108999|137608|64369|57710|67561|39860|182911|91965|137728|92586|40700|92573|92574|92589|40840|40854|40883|40899|83070|40901|83088',\n",
       "  'taxon_id': '83088',\n",
       "  'edit_distance': 0,\n",
       "  'imported_at': '2014-12-08T07:19:19Z',\n",
       "  'match_type': 2,\n",
       "  'match_value': 'Exact match by canonical form',\n",
       "  'prescore': '3|0|0',\n",
       "  'score': 0.988},\n",
       " {'data_source_id': 174,\n",
       "  'data_source_title': 'The Mammal Species of The World',\n",
       "  'gni_uuid': '208eb0ea-40e3-5894-9b7d-664721bd24e6',\n",
       "  'name_string': 'Homo sapiens Linnaeus 1758',\n",
       "  'canonical_form': 'Homo sapiens',\n",
       "  'classification_path': 'Mammalia|Primates|Haplorrhini|Simiiformes|Hominoidea|Hominidae|Homo|Homo sapiens',\n",
       "  'classification_path_ranks': 'class|order|suborder|infraorder|superfamily|family|genus|species',\n",
       "  'classification_path_ids': '1|2629|2957|2987|4530|4600|4629|4630',\n",
       "  'taxon_id': '4630',\n",
       "  'local_id': '12100795',\n",
       "  'edit_distance': 0,\n",
       "  'imported_at': '2018-08-04T20:49:48Z',\n",
       "  'match_type': 2,\n",
       "  'match_value': 'Exact match by canonical form',\n",
       "  'prescore': '3|0|0',\n",
       "  'score': 0.988},\n",
       " {'data_source_id': 179,\n",
       "  'data_source_title': 'Open Tree of Life Reference Taxonomy',\n",
       "  'gni_uuid': 'a4f5a72a-c0df-5e3c-a998-72cc4c2479de',\n",
       "  'name_string': 'Homo sapiens ssp. Denisova',\n",
       "  'canonical_form': 'Homo sapiens',\n",
       "  'classification_path': '||Eukaryota|Opisthokonta|Holozoa|Metazoa|Eumetazoa|Bilateria|Deuterostomia|Chordata|Craniata|Vertebrata|Gnathostomata|Teleostomi|Euteleostomi|Sarcopterygii|Dipnotetrapodomorpha|Tetrapoda|Amniota|Mammalia|Theria|Eutheria|Boreoeutheria|Euarchontoglires|Primates|Haplorrhini|Simiiformes|Catarrhini|Hominoidea|Hominidae|Homininae|Homo|Homo sapiens|Homo sapiens',\n",
       "  'classification_path_ranks': 'no rank|no rank|domain|no rank|no rank|kingdom|no rank|no rank|no rank|phylum|subphylum|subphylum|superclass|no rank|no rank|class|no rank|superclass|no rank|class|subclass|no rank|no rank|superorder|order|suborder|infraorder|parvorder|superfamily|family|subfamily|genus|species|subspecies',\n",
       "  'classification_path_ids': '805080|93302|304358|332573|5246131|691846|641038|117569|147604|125642|947318|801601|278114|114656|114654|458402|4940726|229562|229560|244265|229558|683263|5334778|392222|913935|702152|386195|842867|386191|770311|312031|770309|770315|933436',\n",
       "  'taxon_id': '933436',\n",
       "  'local_id': '933436',\n",
       "  'edit_distance': 0,\n",
       "  'imported_at': '2018-07-17T19:17:07Z',\n",
       "  'match_type': 2,\n",
       "  'match_value': 'Exact match by canonical form',\n",
       "  'prescore': '3|0|0',\n",
       "  'score': 0.988}]"
      ]
     },
     "execution_count": 133,
     "metadata": {},
     "output_type": "execute_result"
    }
   ],
   "source": [
    "pytaxize.gnr_resolve('Homo sapiens')[0]"
   ]
  },
  {
   "cell_type": "markdown",
   "metadata": {},
   "source": [
    "Then we get a list of dictionaries for the scientific name, each dictionary comes from a different data source.  \n",
    "Here I index [0] again to get the dictionary from the first data source:"
   ]
  },
  {
   "cell_type": "code",
   "execution_count": 134,
   "metadata": {},
   "outputs": [
    {
     "data": {
      "text/plain": [
       "{'data_source_id': 4,\n",
       " 'data_source_title': 'NCBI',\n",
       " 'gni_uuid': '16f235a0-e4a3-529c-9b83-bd15fe722110',\n",
       " 'name_string': 'Homo sapiens',\n",
       " 'canonical_form': 'Homo sapiens',\n",
       " 'classification_path': '|Eukaryota|Opisthokonta|Metazoa|Eumetazoa|Bilateria|Deuterostomia|Chordata|Craniata|Vertebrata|Gnathostomata|Teleostomi|Euteleostomi|Sarcopterygii|Dipnotetrapodomorpha|Tetrapoda|Amniota|Mammalia|Theria|Eutheria|Boreoeutheria|Euarchontoglires|Primates|Haplorrhini|Simiiformes|Catarrhini|Hominoidea|Hominidae|Homininae|Homo|Homo sapiens',\n",
       " 'classification_path_ranks': '|superkingdom||kingdom||||phylum|subphylum|||||superclass||||class||||superorder|order|suborder|infraorder|parvorder|superfamily|family|subfamily|genus|species',\n",
       " 'classification_path_ids': '131567|2759|33154|33208|6072|33213|33511|7711|89593|7742|7776|117570|117571|8287|1338369|32523|32524|40674|32525|9347|1437010|314146|9443|376913|314293|9526|314295|9604|207598|9605|9606',\n",
       " 'taxon_id': '9606',\n",
       " 'edit_distance': 0,\n",
       " 'imported_at': '2018-07-05T21:08:08Z',\n",
       " 'match_type': 1,\n",
       " 'match_value': 'Exact string match',\n",
       " 'prescore': '3|0|0',\n",
       " 'score': 0.988}"
      ]
     },
     "execution_count": 134,
     "metadata": {},
     "output_type": "execute_result"
    }
   ],
   "source": [
    "pytaxize.gnr_resolve('Homo sapiens')[0][0]"
   ]
  },
  {
   "cell_type": "markdown",
   "metadata": {},
   "source": [
    "Now we can extract certain ranks of the classification path of 'Homo sapiens'."
   ]
  },
  {
   "cell_type": "code",
   "execution_count": 135,
   "metadata": {},
   "outputs": [
    {
     "data": {
      "text/plain": [
       "['Chromista|Ochrophyta|Phaeophyceae|Fucales|Fucaceae|Fucus',\n",
       " 'Animalia|Nemertea',\n",
       " '|||Nidovirales|Coronaviridae|Coronavirinae|Betacoronavirus||Rabbit']"
      ]
     },
     "execution_count": 135,
     "metadata": {},
     "output_type": "execute_result"
    }
   ],
   "source": [
    "#Following the steps above, we now get the 'classification_path' for all scientific names whose 'class' is missing: \n",
    "classification_path = [pytaxize.gnr_resolve(name)[0][0]['classification_path'] for name in no_class_taxon_names]\n",
    "classification_path"
   ]
  },
  {
   "cell_type": "code",
   "execution_count": 136,
   "metadata": {},
   "outputs": [
    {
     "data": {
      "text/plain": [
       "[['Chromista', 'Ochrophyta', 'Phaeophyceae', 'Fucales', 'Fucaceae', 'Fucus'],\n",
       " ['Animalia', 'Nemertea'],\n",
       " ['',\n",
       "  '',\n",
       "  '',\n",
       "  'Nidovirales',\n",
       "  'Coronaviridae',\n",
       "  'Coronavirinae',\n",
       "  'Betacoronavirus',\n",
       "  '',\n",
       "  'Rabbit']]"
      ]
     },
     "execution_count": 136,
     "metadata": {},
     "output_type": "execute_result"
    }
   ],
   "source": [
    "#get rid of spaces and split into lists:\n",
    "classification_path = [i.replace(\" \", \"\") for i in classification_path]\n",
    "classification_path = [i.split('|') for i in classification_path]\n",
    "classification_path"
   ]
  },
  {
   "cell_type": "code",
   "execution_count": 137,
   "metadata": {},
   "outputs": [
    {
     "data": {
      "text/plain": [
       "['kingdom|phylum|class|order|family|genus',\n",
       " 'kingdom|phylum',\n",
       " 'superkingdom|||order|family|subfamily|genus||species']"
      ]
     },
     "execution_count": 137,
     "metadata": {},
     "output_type": "execute_result"
    }
   ],
   "source": [
    "#get the 'classification_path_ranks' for all scientific names whose 'class' is missing:\n",
    "classification_path_ranks = [pytaxize.gnr_resolve(name)[0][0]['classification_path_ranks'] for name in no_class_taxon_names]\n",
    "classification_path_ranks"
   ]
  },
  {
   "cell_type": "code",
   "execution_count": 138,
   "metadata": {},
   "outputs": [
    {
     "data": {
      "text/plain": [
       "[['kingdom', 'phylum', 'class', 'order', 'family', 'genus'],\n",
       " ['kingdom', 'phylum'],\n",
       " ['superkingdom',\n",
       "  '',\n",
       "  '',\n",
       "  'order',\n",
       "  'family',\n",
       "  'subfamily',\n",
       "  'genus',\n",
       "  '',\n",
       "  'species']]"
      ]
     },
     "execution_count": 138,
     "metadata": {},
     "output_type": "execute_result"
    }
   ],
   "source": [
    "#get rid of spaces and split into list:\n",
    "classification_path_ranks = [i.replace(\" \", \"\") for i in classification_path_ranks]\n",
    "classification_path_ranks = [i.split('|') for i in classification_path_ranks]\n",
    "classification_path_ranks"
   ]
  },
  {
   "cell_type": "code",
   "execution_count": 139,
   "metadata": {
    "collapsed": true
   },
   "outputs": [],
   "source": [
    "#Same as what we did before, find the 'class/subclass/superclass' rank names by their positions in 'path_ranks':\n",
    "find_class_name = []\n",
    "for i in range(len(classification_path_ranks)):\n",
    "    path_ranks = classification_path_ranks[i]\n",
    "    path = classification_path[i]\n",
    "    if re.search(r'\\bclass\\b', str(path_ranks)):\n",
    "        ind = path_ranks.index('class')\n",
    "        find_class_name.append(path[ind])\n",
    "    elif re.search(r'\\bsubclass\\b', str(path_ranks)):\n",
    "        ind = path_ranks.index('subclass')\n",
    "        find_class_name.append(path[ind])\n",
    "    elif re.search(r'\\bsuperclass\\b', str(path_ranks)):\n",
    "        ind = path_ranks.index('superclass')\n",
    "        find_class_name.append(path[ind])\n",
    "    else:\n",
    "        find_class_name.append('no_class_found')"
   ]
  },
  {
   "cell_type": "code",
   "execution_count": 140,
   "metadata": {},
   "outputs": [
    {
     "data": {
      "text/plain": [
       "['Phaeophyceae', 'no_class_found', 'no_class_found']"
      ]
     },
     "execution_count": 140,
     "metadata": {},
     "output_type": "execute_result"
    }
   ],
   "source": [
    "find_class_name"
   ]
  },
  {
   "cell_type": "markdown",
   "metadata": {},
   "source": [
    "There will still be some scientific names which do not have corresonding class name, here I just ignore them since they are only 2."
   ]
  },
  {
   "cell_type": "code",
   "execution_count": 141,
   "metadata": {},
   "outputs": [
    {
     "data": {
      "text/plain": [
       "Int64Index([850656, 854753, 918181], dtype='int64')"
      ]
     },
     "execution_count": 141,
     "metadata": {},
     "output_type": "execute_result"
    }
   ],
   "source": [
    "#Get the index of the 'class not known' rows in target_hs_eats:\n",
    "index_class_not_known = target_hs_eats[target_hs_eats['class'] == 'class not known'].index\n",
    "index_class_not_known"
   ]
  },
  {
   "cell_type": "code",
   "execution_count": 142,
   "metadata": {
    "collapsed": true
   },
   "outputs": [],
   "source": [
    "#Replace 'class not known' in column 'class' with class names we newly found:\n",
    "for i,j in zip(index_class_not_known, range(len(find_class_name))):\n",
    "    target_hs_eats.loc[i,'class'] = find_class_name[j]"
   ]
  },
  {
   "cell_type": "code",
   "execution_count": 143,
   "metadata": {},
   "outputs": [
    {
     "data": {
      "text/html": [
       "<div>\n",
       "<style scoped>\n",
       "    .dataframe tbody tr th:only-of-type {\n",
       "        vertical-align: middle;\n",
       "    }\n",
       "\n",
       "    .dataframe tbody tr th {\n",
       "        vertical-align: top;\n",
       "    }\n",
       "\n",
       "    .dataframe thead th {\n",
       "        text-align: right;\n",
       "    }\n",
       "</style>\n",
       "<table border=\"1\" class=\"dataframe\">\n",
       "  <thead>\n",
       "    <tr style=\"text-align: right;\">\n",
       "      <th></th>\n",
       "      <th>targetTaxonPathRankNames</th>\n",
       "      <th>targetTaxonPathNames</th>\n",
       "      <th>class</th>\n",
       "    </tr>\n",
       "  </thead>\n",
       "  <tbody>\n",
       "    <tr>\n",
       "      <th>850656</th>\n",
       "      <td>[kingdom, genus]</td>\n",
       "      <td>[Plantae, Fucus]</td>\n",
       "      <td>Phaeophyceae</td>\n",
       "    </tr>\n",
       "    <tr>\n",
       "      <th>854753</th>\n",
       "      <td>[kingdom, phylum]</td>\n",
       "      <td>[Animalia, Nemertea]</td>\n",
       "      <td>no_class_found</td>\n",
       "    </tr>\n",
       "    <tr>\n",
       "      <th>918181</th>\n",
       "      <td>[, , , order, family, subfamily, genus, , spec...</td>\n",
       "      <td>[, , , Nidovirales, Coronaviridae, Coronavirin...</td>\n",
       "      <td>no_class_found</td>\n",
       "    </tr>\n",
       "  </tbody>\n",
       "</table>\n",
       "</div>"
      ],
      "text/plain": [
       "                                 targetTaxonPathRankNames  \\\n",
       "850656                                   [kingdom, genus]   \n",
       "854753                                  [kingdom, phylum]   \n",
       "918181  [, , , order, family, subfamily, genus, , spec...   \n",
       "\n",
       "                                     targetTaxonPathNames           class  \n",
       "850656                                   [Plantae, Fucus]    Phaeophyceae  \n",
       "854753                               [Animalia, Nemertea]  no_class_found  \n",
       "918181  [, , , Nidovirales, Coronaviridae, Coronavirin...  no_class_found  "
      ]
     },
     "execution_count": 143,
     "metadata": {},
     "output_type": "execute_result"
    }
   ],
   "source": [
    "#Check if we replaced it correctly:\n",
    "target_hs_eats.loc[index_class_not_known]"
   ]
  },
  {
   "cell_type": "markdown",
   "metadata": {},
   "source": [
    "### Success!"
   ]
  },
  {
   "cell_type": "markdown",
   "metadata": {},
   "source": [
    "Now let's see what are the class that Homo sapiens most frequently eats:"
   ]
  },
  {
   "cell_type": "code",
   "execution_count": 144,
   "metadata": {
    "scrolled": true
   },
   "outputs": [
    {
     "data": {
      "text/plain": [
       "class\n",
       "Mammalia           110\n",
       "Actinopterygii      81\n",
       "Magnoliopsida       52\n",
       "Aves                36\n",
       "Bivalvia            21\n",
       "Gastropoda          10\n",
       "Malacostraca         9\n",
       "Liliopsida           8\n",
       "Elasmobranchii       7\n",
       "Reptilia             4\n",
       "Ascidiacea           4\n",
       "Echinoidea           3\n",
       "Anthozoa             3\n",
       "Insecta              3\n",
       "Rosids               3\n",
       "Cephalopoda          3\n",
       "Maxillopoda          2\n",
       "Phaeophyceae         2\n",
       "Holothuroidea        2\n",
       "Polyplacophora       2\n",
       "no_class_found       2\n",
       "Florideophyceae      1\n",
       "Dothideomycetes      1\n",
       "Chrysophyceae        1\n",
       "Chondrichthyes       1\n",
       "Ulvophyceae          1\n",
       "Gnathostomata        1\n",
       "Bangiophyceae        1\n",
       "Teleostei            1\n",
       "Asterids             1\n",
       "Anopla               1\n",
       "dtype: int64"
      ]
     },
     "execution_count": 144,
     "metadata": {},
     "output_type": "execute_result"
    }
   ],
   "source": [
    "target_hs_eats.groupby(target_hs_eats['class']).size().sort_values(ascending = False)"
   ]
  },
  {
   "cell_type": "code",
   "execution_count": 145,
   "metadata": {},
   "outputs": [
    {
     "data": {
      "text/plain": [
       "class\n",
       "Mammalia          110\n",
       "Actinopterygii     81\n",
       "Magnoliopsida      52\n",
       "Aves               36\n",
       "Bivalvia           21\n",
       "dtype: int64"
      ]
     },
     "execution_count": 145,
     "metadata": {},
     "output_type": "execute_result"
    }
   ],
   "source": [
    "#look at top 5 target class of Homo sapiens:\n",
    "top5_target_hs_eats  = target_hs_eats.groupby(target_hs_eats['class']).size().sort_values(ascending = False)[0:5]\n",
    "top5_target_hs_eats"
   ]
  },
  {
   "cell_type": "code",
   "execution_count": 146,
   "metadata": {},
   "outputs": [
    {
     "data": {
      "text/plain": [
       "['Mammalia', 'Actinopterygii', 'Magnoliopsida', 'Aves', 'Bivalvia']"
      ]
     },
     "execution_count": 146,
     "metadata": {},
     "output_type": "execute_result"
    }
   ],
   "source": [
    "list(top5_target_hs_eats.index)"
   ]
  },
  {
   "cell_type": "markdown",
   "metadata": {},
   "source": [
    "Above all, out of all classes, the top five popular food for Homo sapiens are Mammalia, Actinopterygii, Aves, Magnoliopsida and Bivalvia      "
   ]
  },
  {
   "cell_type": "markdown",
   "metadata": {},
   "source": [
    "### Plot what we found in directed graphs:"
   ]
  },
  {
   "cell_type": "code",
   "execution_count": 147,
   "metadata": {},
   "outputs": [
    {
     "data": {
      "image/png": "[encoded data removed]",
      "text/plain": [
       "<matplotlib.figure.Figure at 0x128b7e9b0>"
      ]
     },
     "metadata": {
      "needs_background": "light"
     },
     "output_type": "display_data"
    }
   ],
   "source": [
    "import networkx as nx\n",
    "G = nx.DiGraph()\n",
    "\n",
    "for name in (['Homo sapiens']+list(top5_target_hs_eats.index)):\n",
    "    G.add_node(name)\n",
    "\n",
    "for target in list(top5_target_hs_eats.index):\n",
    "    G.add_edge('Homo sapiens', target, label = 'eats')\n",
    "\n",
    "\n",
    "plt.figure(figsize=(8,8))\n",
    "edge_labels = nx.get_edge_attributes(G,'label')\n",
    "\n",
    "pos = nx.spring_layout(G) \n",
    "nx.draw_networkx_edge_labels(G,pos, edge_labels = edge_labels, font_size=15, font_color='orange')\n",
    "\n",
    "nx.draw_networkx(G, pos, with_labels=True, node_size=1500, node_color=\"skyblue\", alpha= 1, arrows=True, \n",
    "                    linewidths=10, font_color=\"grey\", font_size=15)\n",
    "\n",
    "plt.axis('off')\n",
    "plt.tight_layout()\n",
    "plt.show()"
   ]
  },
  {
   "cell_type": "markdown",
   "metadata": {},
   "source": [
    "### What if we are interested in other interaction type or ranks?"
   ]
  },
  {
   "cell_type": "markdown",
   "metadata": {},
   "source": [
    "Here I developed a function that helps us find top targets grouped in certain ranks for certain interaction types:"
   ]
  },
  {
   "cell_type": "code",
   "execution_count": 148,
   "metadata": {
    "collapsed": true
   },
   "outputs": [],
   "source": [
    "#getting top target taxons in certain ranks which interacts with Homo sapiens by certain interaction types:\n",
    "\n",
    "def find_top_target(interactiontype, rank, head_n):\n",
    "    \n",
    "    hs_interaction_data = data[(data['sourceTaxonName'] == 'Homo sapiens') & (data['interactionTypeName'] == interactiontype)]\n",
    "    target_hs_interact = hs_interaction_data[['targetTaxonPathRankNames', 'targetTaxonPathNames']].dropna()\n",
    "\n",
    "    target_hs_interact['targetTaxonPathRankNames'] = target_hs_interact['targetTaxonPathRankNames'].str.replace(\" \", \"\")\n",
    "    target_hs_interact['targetTaxonPathNames'] = target_hs_interact['targetTaxonPathNames'].str.replace(\" \", \"\")\n",
    "    target_hs_interact['targetTaxonPathRankNames'] = target_hs_interact['targetTaxonPathRankNames'].str.split('|')\n",
    "    target_hs_interact['targetTaxonPathNames'] =  target_hs_interact['targetTaxonPathNames'].str.split('|')\n",
    "\n",
    "    rank_name = []\n",
    "    for i in range(len(target_hs_interact)):\n",
    "        r = target_hs_interact.iloc[i]\n",
    "        if re.search(rank, str(r['targetTaxonPathRankNames'])):\n",
    "            ind = r['targetTaxonPathRankNames'].index(rank)\n",
    "            rank_name.append(r['targetTaxonPathNames'][ind])\n",
    "        #elif re.search(r'\\bsubclass\\b', str(r['targetTaxonPathRankNames'])):\n",
    "            #ind = r['targetTaxonPathRankNames'].index('subclass')\n",
    "            #class_name.append(r['targetTaxonPathNames'][ind])\n",
    "        #elif re.search(r'\\bsuperclass\\b', str(r['targetTaxonPathRankNames'])):\n",
    "            #ind = r['targetTaxonPathRankNames'].index('superclass')\n",
    "            #class_name.append(r['targetTaxonPathNames'][ind])\n",
    "        else:\n",
    "            rank_name.append('name not known')\n",
    "        \n",
    "    print('There are ' + str(sum([i == 'name not known' for i in rank_name])) + ' out of ' + str(len(rank_name)) + ' that we do not know their ' + str(rank) + ' name.')\n",
    "    \n",
    "    target_hs_interact[rank] = rank_name\n",
    "    \n",
    "    if sum([i == 'name not known' for i in rank_name]) > 0:\n",
    "        no_rank_taxon_names = [path[-1] for path in target_hs_interact[target_hs_interact[rank] == 'name not known']['targetTaxonPathNames']]\n",
    "\n",
    "        classification_path = [pytaxize.gnr_resolve(name)[0][0]['classification_path'] for name in no_rank_taxon_names]\n",
    "        classification_path = [i.replace(\" \", \"\") for i in classification_path]\n",
    "        classification_path = [i.split('|') for i in classification_path]\n",
    "        classification_path_ranks = [pytaxize.gnr_resolve(name)[0][0]['classification_path_ranks'] for name in no_rank_taxon_names]\n",
    "        classification_path_ranks = [i.replace(\" \", \"\") for i in classification_path_ranks]\n",
    "        classification_path_ranks = [i.split('|') for i in classification_path_ranks]\n",
    "        find_rank_name = []\n",
    "        for i in range(len(classification_path_ranks)):\n",
    "            path_ranks = classification_path_ranks[i]\n",
    "            path = classification_path[i]\n",
    "            if re.search(rank, str(path_ranks)):\n",
    "                ind = path_ranks.index(rank)\n",
    "                find_rank_name.append(path[ind])\n",
    "            #elif re.search(r'\\bsubclass\\b', str(path_ranks)):\n",
    "                #ind = path_ranks.index('subclass')\n",
    "                #find_class_name.append(path[ind])\n",
    "            #elif re.search(r'\\bsuperclass\\b', str(path_ranks)):\n",
    "                #ind = path_ranks.index('superclass')\n",
    "                #find_class_name.append(path[ind])\n",
    "            else:\n",
    "                find_rank_name.append('no_name_found')\n",
    "        \n",
    "        index_rank_not_known = target_hs_interact[target_hs_interact[rank] == 'name not known'].index\n",
    "        for i,j in zip(index_rank_not_known, range(len(find_rank_name))):\n",
    "            target_hs_interact.loc[i, rank] = find_rank_name[j]\n",
    "    \n",
    "    #drop missing ranks\n",
    "    target_hs_interact = target_hs_interact[target_hs_interact[rank] != 'no_name_found']\n",
    "    top_target_hs_interact  = target_hs_interact.groupby(target_hs_interact[rank]).size().sort_values(ascending = False)\n",
    "    print('Top target '+ str(rank) + ' that Homo sapiens ' + str(interactiontype) +' :')\n",
    "    return top_target_hs_interact.head(head_n)"
   ]
  },
  {
   "cell_type": "markdown",
   "metadata": {},
   "source": [
    "For example, if we want to find top target orders that interact with Homo sapiens by interaction type \"hostOf\":"
   ]
  },
  {
   "cell_type": "code",
   "execution_count": 149,
   "metadata": {},
   "outputs": [
    {
     "name": "stdout",
     "output_type": "stream",
     "text": [
      "There are 3 out of 29 that we do not know their order name.\n",
      "Top target order that Homo sapiens hostOf :\n"
     ]
    },
    {
     "data": {
      "text/plain": [
       "order\n",
       "Ixodida               11\n",
       "Siphonaptera           6\n",
       "Diphyllobothriidea     4\n",
       "Trombidiformes         1\n",
       "Phthiraptera           1\n",
       "dtype: int64"
      ]
     },
     "execution_count": 149,
     "metadata": {},
     "output_type": "execute_result"
    }
   ],
   "source": [
    "find_top_target('hostOf', 'order', 5)"
   ]
  },
  {
   "cell_type": "code",
   "execution_count": 150,
   "metadata": {},
   "outputs": [
    {
     "name": "stdout",
     "output_type": "stream",
     "text": [
      "There are 3 out of 29 that we do not know their order name.\n",
      "Top target order that Homo sapiens hostOf :\n"
     ]
    },
    {
     "data": {
      "text/plain": [
       "['Ixodida',\n",
       " 'Siphonaptera',\n",
       " 'Diphyllobothriidea',\n",
       " 'Trombidiformes',\n",
       " 'Phthiraptera']"
      ]
     },
     "execution_count": 150,
     "metadata": {},
     "output_type": "execute_result"
    }
   ],
   "source": [
    "top_target_order_hs_hostOf = list(find_top_target('hostOf', 'order', 5).index)\n",
    "top_target_order_hs_hostOf"
   ]
  },
  {
   "cell_type": "code",
   "execution_count": 289,
   "metadata": {
    "collapsed": true
   },
   "outputs": [],
   "source": [
    "def plot(top_target_list, interaction_type):\n",
    "    G = nx.DiGraph()\n",
    "\n",
    "    for name in (['Homo sapiens']+ top_target_list):\n",
    "        G.add_node(name)\n",
    "\n",
    "    for target in top_target_list:\n",
    "        G.add_edge('Homo sapiens', target, label = interaction_type)\n",
    "\n",
    "    plt.figure(figsize=(8,8))\n",
    "    edge_labels = nx.get_edge_attributes(G,'label')\n",
    "\n",
    "    pos = nx.spring_layout(G) \n",
    "    nx.draw_networkx_edge_labels(G,pos, edge_labels = edge_labels, font_size=15, font_color='orange')\n",
    "\n",
    "    nx.draw_networkx(G, pos, with_labels=True, node_size=1500, node_color=\"skyblue\", alpha= 1, arrows=True, \n",
    "                    linewidths=1, font_color=\"grey\", font_size=15, style = 'dashed')\n",
    "\n",
    "    plt.axis('off')\n",
    "    plt.tight_layout()\n",
    "    plt.show()"
   ]
  },
  {
   "cell_type": "code",
   "execution_count": 290,
   "metadata": {},
   "outputs": [
    {
     "data": {
      "image/png": "[encoded data removed]",
      "text/plain": [
       "<matplotlib.figure.Figure at 0x175b2cc358>"
      ]
     },
     "metadata": {
      "needs_background": "light"
     },
     "output_type": "display_data"
    }
   ],
   "source": [
    "plot(top_target_order_hs_hostOf, 'host0f')"
   ]
  },
  {
   "cell_type": "markdown",
   "metadata": {},
   "source": [
    "### We can also combine different interaction types into one table and link wikipedia url for taxons: "
   ]
  },
  {
   "cell_type": "code",
   "execution_count": 227,
   "metadata": {},
   "outputs": [
    {
     "data": {
      "text/html": [
       "<style  type=\"text/css\" >\n",
       "</style>  \n",
       "<table id=\"T_58c1cafa_e8a5_11e8_9565_784f43a64dff\" > \n",
       "<thead>    <tr> \n",
       "        <th class=\"blank level0\" ></th> \n",
       "        <th class=\"col_heading level0 col0\" >eats</th> \n",
       "        <th class=\"col_heading level0 col1\" >hostOf</th> \n",
       "    </tr></thead> \n",
       "<tbody>    <tr> \n",
       "        <th id=\"T_58c1cafa_e8a5_11e8_9565_784f43a64dfflevel0_row0\" class=\"row_heading level0 row0\" >0</th> \n",
       "        <td id=\"T_58c1cafa_e8a5_11e8_9565_784f43a64dffrow0_col0\" class=\"data row0 col0\" ><a href=\"https://en.wikipedia.org/wiki/Ixodida\">Mammalia</a></td> \n",
       "        <td id=\"T_58c1cafa_e8a5_11e8_9565_784f43a64dffrow0_col1\" class=\"data row0 col1\" ><a href=\"https://en.wikipedia.org/wiki/Ixodida\">Ixodida</a></td> \n",
       "    </tr>    <tr> \n",
       "        <th id=\"T_58c1cafa_e8a5_11e8_9565_784f43a64dfflevel0_row1\" class=\"row_heading level0 row1\" >1</th> \n",
       "        <td id=\"T_58c1cafa_e8a5_11e8_9565_784f43a64dffrow1_col0\" class=\"data row1 col0\" ><a href=\"https://en.wikipedia.org/wiki/Siphonaptera\">Actinopterygii</a></td> \n",
       "        <td id=\"T_58c1cafa_e8a5_11e8_9565_784f43a64dffrow1_col1\" class=\"data row1 col1\" ><a href=\"https://en.wikipedia.org/wiki/Siphonaptera\">Siphonaptera</a></td> \n",
       "    </tr>    <tr> \n",
       "        <th id=\"T_58c1cafa_e8a5_11e8_9565_784f43a64dfflevel0_row2\" class=\"row_heading level0 row2\" >2</th> \n",
       "        <td id=\"T_58c1cafa_e8a5_11e8_9565_784f43a64dffrow2_col0\" class=\"data row2 col0\" ><a href=\"https://en.wikipedia.org/wiki/Diphyllobothriidea\">Magnoliopsida</a></td> \n",
       "        <td id=\"T_58c1cafa_e8a5_11e8_9565_784f43a64dffrow2_col1\" class=\"data row2 col1\" ><a href=\"https://en.wikipedia.org/wiki/Diphyllobothriidea\">Diphyllobothriidea</a></td> \n",
       "    </tr>    <tr> \n",
       "        <th id=\"T_58c1cafa_e8a5_11e8_9565_784f43a64dfflevel0_row3\" class=\"row_heading level0 row3\" >3</th> \n",
       "        <td id=\"T_58c1cafa_e8a5_11e8_9565_784f43a64dffrow3_col0\" class=\"data row3 col0\" ><a href=\"https://en.wikipedia.org/wiki/Trombidiformes\">Aves</a></td> \n",
       "        <td id=\"T_58c1cafa_e8a5_11e8_9565_784f43a64dffrow3_col1\" class=\"data row3 col1\" ><a href=\"https://en.wikipedia.org/wiki/Trombidiformes\">Trombidiformes</a></td> \n",
       "    </tr>    <tr> \n",
       "        <th id=\"T_58c1cafa_e8a5_11e8_9565_784f43a64dfflevel0_row4\" class=\"row_heading level0 row4\" >4</th> \n",
       "        <td id=\"T_58c1cafa_e8a5_11e8_9565_784f43a64dffrow4_col0\" class=\"data row4 col0\" ><a href=\"https://en.wikipedia.org/wiki/Phthiraptera\">Bivalvia</a></td> \n",
       "        <td id=\"T_58c1cafa_e8a5_11e8_9565_784f43a64dffrow4_col1\" class=\"data row4 col1\" ><a href=\"https://en.wikipedia.org/wiki/Phthiraptera\">Phthiraptera</a></td> \n",
       "    </tr></tbody> \n",
       "</table> "
      ],
      "text/plain": [
       "<pandas.io.formats.style.Styler at 0x171fdcc18>"
      ]
     },
     "execution_count": 227,
     "metadata": {},
     "output_type": "execute_result"
    }
   ],
   "source": [
    "d = {'eats': [dict(name= taxon, url='https://en.wikipedia.org/wiki/' + str(taxon)) for taxon in list(top5_target_hs_eats.index)],\n",
    "     'hostOf': [dict(name= taxon, url='https://en.wikipedia.org/wiki/' + str(taxon)) for taxon in list(top_target_order_hs_hostOf)]\n",
    "     }\n",
    "\n",
    "df = pd.DataFrame(d)\n",
    "\n",
    "urls_eats = dict(name= list(top5_target_hs_eats.index), \n",
    "             url= ['https://en.wikipedia.org/wiki/' + str(taxon) for taxon in list(top_target_order_hs_hostOf)])\n",
    "\n",
    "urls_hostof = dict(name= top_target_order_hs_hostOf, \n",
    "             url= ['https://en.wikipedia.org/wiki/' + str(taxon) for taxon in top_target_order_hs_hostOf])\n",
    "\n",
    "df['eats'] = [i + '#' + j for i,j in zip(urls_eats['name'], urls_eats['url'])]\n",
    "df['hostOf'] = [i + '#' + j for i,j in zip(urls_hostof['name'], urls_hostof['url'])]\n",
    "\n",
    "\n",
    "def make_clickable_both(val): \n",
    "    name, url = val.split('#')\n",
    "    return f'<a href=\"{url}\">{name}</a>'\n",
    "\n",
    "df = df.style.format({'eats': make_clickable_both, 'hostOf': make_clickable_both})\n",
    "df"
   ]
  },
  {
   "cell_type": "markdown",
   "metadata": {},
   "source": [
    "### Plot:"
   ]
  },
  {
   "cell_type": "code",
   "execution_count": 230,
   "metadata": {
    "collapsed": true
   },
   "outputs": [],
   "source": [
    "# Define a function for plotting more than one type of interactions for specific source taxon:\n",
    "\n",
    "def plot(interaction_table, source_taxon):\n",
    "    G = nx.DiGraph()\n",
    "\n",
    "    G.add_node(source_taxon)\n",
    "    for c in interaction_table.columns:\n",
    "        for i in list(df[c]):\n",
    "            G.add_node(i)\n",
    "                       \n",
    "    for c in interaction_table.columns:\n",
    "        for i in list(df[c]):\n",
    "            G.add_edge(source_taxon, i, label = c)\n",
    "\n",
    "    plt.figure(figsize=(10,10))\n",
    "    edge_labels = nx.get_edge_attributes(G,'label')\n",
    "\n",
    "    pos = nx.spring_layout(G) \n",
    "    nx.draw_networkx_edge_labels(G,pos, edge_labels = edge_labels, font_size=15, font_color='orange')\n",
    "\n",
    "    nx.draw_networkx(G, pos, with_labels=True, node_size=1500, node_color=\"skyblue\", alpha= 1, arrows=True, \n",
    "                    linewidths=1, font_color=\"grey\", font_size=15, options = {'arrowstyle' : '-|>', 'arrowsize' : 10})\n",
    "\n",
    "    plt.axis('off')\n",
    "    plt.tight_layout()\n",
    "    plt.show()"
   ]
  },
  {
   "cell_type": "code",
   "execution_count": 231,
   "metadata": {},
   "outputs": [
    {
     "data": {
      "image/png": "[encoded data removed]",
      "text/plain": [
       "<matplotlib.figure.Figure at 0x128bfa828>"
      ]
     },
     "metadata": {
      "needs_background": "light"
     },
     "output_type": "display_data"
    }
   ],
   "source": [
    "d = {'eats': list(top5_target_hs_eats.index),\n",
    "     'hostOf': top_target_order_hs_hostOf}\n",
    "df = pd.DataFrame(d)\n",
    "plot(df, 'Homo sapiens')"
   ]
  },
  {
   "cell_type": "code",
   "execution_count": null,
   "metadata": {
    "collapsed": true
   },
   "outputs": [],
   "source": []
  }
 ],
 "metadata": {
  "kernelspec": {
   "display_name": "Python 3",
   "language": "python",
   "name": "python3"
  },
  "language_info": {
   "codemirror_mode": {
    "name": "ipython",
    "version": 3
   },
   "file_extension": ".py",
   "mimetype": "text/x-python",
   "name": "python",
   "nbconvert_exporter": "python",
   "pygments_lexer": "ipython3",
   "version": "3.6.3"
  }
 },
 "nbformat": 4,
 "nbformat_minor": 2
}
