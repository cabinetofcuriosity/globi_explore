{
 "cells": [
  {
   "cell_type": "markdown",
   "metadata": {},
   "source": [
    "# How to access Globi database :"
   ]
  },
  {
   "cell_type": "markdown",
   "metadata": {},
   "source": [
    "### Author: Yikang Li  \n",
    "### Date: Nov, 17th, 2018"
   ]
  },
  {
   "cell_type": "markdown",
   "metadata": {},
   "source": [
    "## What is GloBi:\n",
    "\n",
    "Global Biotic Interactions (GloBI) provides open access to species interaction data (e.g., predator-prey, pollinator-plant, pathogen-host, parasite-host) by combining existing open datasets using open source software. By providing an infrastructure to capture and share interaction data, individual biologists can focus on gathering new interaction data and analyzing existing datasets without having to spend resources on (re-) building a cyberinfrastructure to do so.\n",
    "\n",
    "GloBI is made possible by a community of software engineers, bioinformaticists and biologists. Software engineers such as Jorrit Poelen, Göran Bodtitleenschatz, and Robert Reiz collaborate with bioinformaticists like Chris Mungall, data managers like Sarah E. Miller and biologists like Jim Simons, Anne Thessen, Jen Hammock and Brian Hayden to capture, provide access to and use interaction data that is provided by biologists and citizen scientists around the world. GloBI is funded by EOL's Rubenstein Fellowship Program.\n"
   ]
  },
  {
   "cell_type": "markdown",
   "metadata": {},
   "source": [
    "### How to access GloBi:\n",
    "\n",
    "There is a package called \"rglobi\" in R which allows us to access the database on Global Biotic Interactions (GloBI).  \n",
    "  \n",
    "Description from the documentation of package:  \n",
    "\"A programmatic interface to the web service methods provided by Global Biotic Interactions (GloBI). GloBI provides access to spatial-temporal species interaction records from sources all over the world. rglobi provides methods to search species interactions by location, interaction type, and taxonomic name. In addition, it supports Cypher, a graph query language, to allow for executing custom queries on the GloBI aggregate species interaction data set.\"  \n",
    "\n",
    "To use its methods and functions, we need to install and library the package \"rglobi\" in R.\n",
    "\n",
    "```r\n",
    "install.packages(\"rglobi\")\n",
    "library(rglobi)\n",
    "```\n",
    "Users are able to search data on species interactions by location, interaction type, and taxonomic names and so on. \n"
   ]
  },
  {
   "cell_type": "markdown",
   "metadata": {},
   "source": [
    "###### While the r package provides built in methods and functions, it has limitation on the maximum amount of data displayed.\n",
    "###### To access all the data, getting one of the archives:"
   ]
  },
  {
   "cell_type": "markdown",
   "metadata": {},
   "source": [
    "#### Choice 1:\n",
    "Use Pagination: https://github.com/ropensci/rglobi/blob/master/vignettes/rglobi_vignette.Rmd#L410\n",
    "\n",
    "\"By default, the amount of results are limited. If you'd like to retrieve all results, you can used pagination. For instance, to retrieve parasitic interactions using pagination, you can use:\n",
    "\n",
    "\n",
    "```r\n",
    "otherkeys = list(\"limit\"=10, \"skip\"=0)\n",
    "first_page_of_ten <- get_interactions_by_type(interactiontype = c(\"hasParasite\"), otherkeys = otherkeys)\n",
    "otherkeys = list(\"limit\"=10, \"skip\"=10)\n",
    "second_page_of_ten <- get_interactions_by_type(interactiontype = c(\"hasParasite\"), otherkeys = otherkeys)\n",
    "```\n",
    "\n",
    "To exhaust all available interactions, you can keep paging results until the size of the page is less than the limit (e.g., ```nrows(interactions) < limit```).\"\n"
   ]
  },
  {
   "cell_type": "markdown",
   "metadata": {},
   "source": [
    "#### Choice 2:  \n",
    "Through API: https://github.com/jhpoelen/eol-globi-data/wiki/API  \n",
    "The link above contains API which provide access to interaction data for the purpose of integrating the data into wikis, custom webpages or other interaction exploration tools."
   ]
  },
  {
   "cell_type": "markdown",
   "metadata": {},
   "source": [
    "#### Choice 3:\n",
    "Download the whole dataset directly at https://www.globalbioticinteractions.org/data  \n",
    "Datasets are available to download in different formats including tsv, csv and N-Quads/RDF."
   ]
  },
  {
   "cell_type": "markdown",
   "metadata": {},
   "source": [
    "### Import data into Jupyter notebook:"
   ]
  },
  {
   "cell_type": "code",
   "execution_count": 2,
   "metadata": {
    "collapsed": true
   },
   "outputs": [],
   "source": [
    "import pandas as pd"
   ]
  },
  {
   "cell_type": "code",
   "execution_count": 7,
   "metadata": {},
   "outputs": [
    {
     "name": "stderr",
     "output_type": "stream",
     "text": [
      "/Users/glance/anaconda3/lib/python3.6/site-packages/IPython/core/interactiveshell.py:3020: DtypeWarning: Columns (13,14,15,16,17,18,19,21,22,23,24,25,26,27,28,29,30,41,42,43,44,45,46,47,48,49,50,55,58,59,60,61,62,63,64,65,68,69,71,72,77) have mixed types. Specify dtype option on import or set low_memory=False.\n",
      "  interactivity=interactivity, compiler=compiler, result=result)\n"
     ]
    }
   ],
   "source": [
    "data =pd.read_csv('./with_new_csv/interactions.tsv', delimiter='\\t', encoding='utf-8')"
   ]
  },
  {
   "cell_type": "code",
   "execution_count": 8,
   "metadata": {},
   "outputs": [
    {
     "data": {
      "text/html": [
       "<div>\n",
       "<style scoped>\n",
       "    .dataframe tbody tr th:only-of-type {\n",
       "        vertical-align: middle;\n",
       "    }\n",
       "\n",
       "    .dataframe tbody tr th {\n",
       "        vertical-align: top;\n",
       "    }\n",
       "\n",
       "    .dataframe thead th {\n",
       "        text-align: right;\n",
       "    }\n",
       "</style>\n",
       "<table border=\"1\" class=\"dataframe\">\n",
       "  <thead>\n",
       "    <tr style=\"text-align: right;\">\n",
       "      <th></th>\n",
       "      <th>sourceTaxonId</th>\n",
       "      <th>sourceTaxonIds</th>\n",
       "      <th>sourceTaxonName</th>\n",
       "      <th>sourceTaxonRank</th>\n",
       "      <th>sourceTaxonPathNames</th>\n",
       "      <th>sourceTaxonPathIds</th>\n",
       "      <th>sourceTaxonPathRankNames</th>\n",
       "      <th>sourceTaxonSpeciesName</th>\n",
       "      <th>sourceTaxonSpeciesId</th>\n",
       "      <th>sourceTaxonGenusName</th>\n",
       "      <th>...</th>\n",
       "      <th>localityName</th>\n",
       "      <th>eventDateUnixEpoch</th>\n",
       "      <th>referenceCitation</th>\n",
       "      <th>referenceDoi</th>\n",
       "      <th>referenceUrl</th>\n",
       "      <th>sourceCitation</th>\n",
       "      <th>sourceNamespace</th>\n",
       "      <th>sourceArchiveURI</th>\n",
       "      <th>sourceDOI</th>\n",
       "      <th>sourceLastSeenAtUnixEpoch</th>\n",
       "    </tr>\n",
       "  </thead>\n",
       "  <tbody>\n",
       "    <tr>\n",
       "      <th>0</th>\n",
       "      <td>EOL:4472733</td>\n",
       "      <td>EOL:4472733 | EOL:4472733</td>\n",
       "      <td>Deinosuchus</td>\n",
       "      <td>genus</td>\n",
       "      <td>Deinosuchus</td>\n",
       "      <td>EOL:4472733</td>\n",
       "      <td>genus</td>\n",
       "      <td>NaN</td>\n",
       "      <td>NaN</td>\n",
       "      <td>Deinosuchus</td>\n",
       "      <td>...</td>\n",
       "      <td>NaN</td>\n",
       "      <td>NaN</td>\n",
       "      <td>Rivera-Sylva H.E., E. Frey and J.R. Guzmán-Gui...</td>\n",
       "      <td>10.4267/2042/28152</td>\n",
       "      <td>NaN</td>\n",
       "      <td>Katja Schulz. 2015. Information about dinosaur...</td>\n",
       "      <td>KatjaSchulz/dinosaur-biotic-interactions</td>\n",
       "      <td>https://github.com/KatjaSchulz/dinosaur-biotic...</td>\n",
       "      <td>NaN</td>\n",
       "      <td>2018-11-14T23:55:44.895Z</td>\n",
       "    </tr>\n",
       "    <tr>\n",
       "      <th>1</th>\n",
       "      <td>EOL:4433651</td>\n",
       "      <td>EOL:4433651 | EOL:4433651</td>\n",
       "      <td>Daspletosaurus</td>\n",
       "      <td>genus</td>\n",
       "      <td>Daspletosaurus</td>\n",
       "      <td>EOL:4433651</td>\n",
       "      <td>genus</td>\n",
       "      <td>NaN</td>\n",
       "      <td>NaN</td>\n",
       "      <td>Daspletosaurus</td>\n",
       "      <td>...</td>\n",
       "      <td>NaN</td>\n",
       "      <td>NaN</td>\n",
       "      <td>doi:10.1666/0022-3360(2001)075&lt;0401:GCFACT&gt;2.0...</td>\n",
       "      <td>10.1666/0022-3360(2001)075&lt;0401:GCFACT&gt;2.0.CO;2</td>\n",
       "      <td>NaN</td>\n",
       "      <td>Katja Schulz. 2015. Information about dinosaur...</td>\n",
       "      <td>KatjaSchulz/dinosaur-biotic-interactions</td>\n",
       "      <td>https://github.com/KatjaSchulz/dinosaur-biotic...</td>\n",
       "      <td>NaN</td>\n",
       "      <td>2018-11-14T23:55:44.895Z</td>\n",
       "    </tr>\n",
       "    <tr>\n",
       "      <th>2</th>\n",
       "      <td>EOL:24210058</td>\n",
       "      <td>EOL:24210058 | OTT:3617018 | GBIF:4975216 | EO...</td>\n",
       "      <td>Repenomamus robustus</td>\n",
       "      <td>species</td>\n",
       "      <td>Eucarya | Opisthokonta | Metazoa | Eumetazoa |...</td>\n",
       "      <td>EOL:5610326 | EOL:2910700 | EOL:42196910 | EOL...</td>\n",
       "      <td>|  | subkingdom |  |  |  |  |  |  |  |  | supe...</td>\n",
       "      <td>Repenomamus robustus</td>\n",
       "      <td>EOL:24210058</td>\n",
       "      <td>Repenomamus</td>\n",
       "      <td>...</td>\n",
       "      <td>NaN</td>\n",
       "      <td>NaN</td>\n",
       "      <td>doi:10.1038/nature03102</td>\n",
       "      <td>10.1038/nature03102</td>\n",
       "      <td>NaN</td>\n",
       "      <td>Katja Schulz. 2015. Information about dinosaur...</td>\n",
       "      <td>KatjaSchulz/dinosaur-biotic-interactions</td>\n",
       "      <td>https://github.com/KatjaSchulz/dinosaur-biotic...</td>\n",
       "      <td>NaN</td>\n",
       "      <td>2018-11-14T23:55:44.895Z</td>\n",
       "    </tr>\n",
       "    <tr>\n",
       "      <th>3</th>\n",
       "      <td>EOL:4433892</td>\n",
       "      <td>EOL:4433892 | EOL:4433892</td>\n",
       "      <td>Sinocalliopteryx gigas</td>\n",
       "      <td>species</td>\n",
       "      <td>Sinocalliopteryx gigas</td>\n",
       "      <td>EOL:4433892</td>\n",
       "      <td>species</td>\n",
       "      <td>Sinocalliopteryx gigas</td>\n",
       "      <td>EOL:4433892</td>\n",
       "      <td>NaN</td>\n",
       "      <td>...</td>\n",
       "      <td>NaN</td>\n",
       "      <td>NaN</td>\n",
       "      <td>doi:10.1371/journal.pone.0044012</td>\n",
       "      <td>10.1371/journal.pone.0044012</td>\n",
       "      <td>NaN</td>\n",
       "      <td>Katja Schulz. 2015. Information about dinosaur...</td>\n",
       "      <td>KatjaSchulz/dinosaur-biotic-interactions</td>\n",
       "      <td>https://github.com/KatjaSchulz/dinosaur-biotic...</td>\n",
       "      <td>NaN</td>\n",
       "      <td>2018-11-14T23:55:44.895Z</td>\n",
       "    </tr>\n",
       "    <tr>\n",
       "      <th>4</th>\n",
       "      <td>EOL:4433892</td>\n",
       "      <td>EOL:4433892 | EOL:4433892</td>\n",
       "      <td>Sinocalliopteryx gigas</td>\n",
       "      <td>species</td>\n",
       "      <td>Sinocalliopteryx gigas</td>\n",
       "      <td>EOL:4433892</td>\n",
       "      <td>species</td>\n",
       "      <td>Sinocalliopteryx gigas</td>\n",
       "      <td>EOL:4433892</td>\n",
       "      <td>NaN</td>\n",
       "      <td>...</td>\n",
       "      <td>NaN</td>\n",
       "      <td>NaN</td>\n",
       "      <td>doi:10.1371/journal.pone.0044012</td>\n",
       "      <td>10.1371/journal.pone.0044012</td>\n",
       "      <td>NaN</td>\n",
       "      <td>Katja Schulz. 2015. Information about dinosaur...</td>\n",
       "      <td>KatjaSchulz/dinosaur-biotic-interactions</td>\n",
       "      <td>https://github.com/KatjaSchulz/dinosaur-biotic...</td>\n",
       "      <td>NaN</td>\n",
       "      <td>2018-11-14T23:55:44.895Z</td>\n",
       "    </tr>\n",
       "  </tbody>\n",
       "</table>\n",
       "<p>5 rows × 79 columns</p>\n",
       "</div>"
      ],
      "text/plain": [
       "  sourceTaxonId                                     sourceTaxonIds  \\\n",
       "0   EOL:4472733                          EOL:4472733 | EOL:4472733   \n",
       "1   EOL:4433651                          EOL:4433651 | EOL:4433651   \n",
       "2  EOL:24210058  EOL:24210058 | OTT:3617018 | GBIF:4975216 | EO...   \n",
       "3   EOL:4433892                          EOL:4433892 | EOL:4433892   \n",
       "4   EOL:4433892                          EOL:4433892 | EOL:4433892   \n",
       "\n",
       "          sourceTaxonName sourceTaxonRank  \\\n",
       "0             Deinosuchus           genus   \n",
       "1          Daspletosaurus           genus   \n",
       "2    Repenomamus robustus         species   \n",
       "3  Sinocalliopteryx gigas         species   \n",
       "4  Sinocalliopteryx gigas         species   \n",
       "\n",
       "                                sourceTaxonPathNames  \\\n",
       "0                                        Deinosuchus   \n",
       "1                                     Daspletosaurus   \n",
       "2  Eucarya | Opisthokonta | Metazoa | Eumetazoa |...   \n",
       "3                             Sinocalliopteryx gigas   \n",
       "4                             Sinocalliopteryx gigas   \n",
       "\n",
       "                                  sourceTaxonPathIds  \\\n",
       "0                                        EOL:4472733   \n",
       "1                                        EOL:4433651   \n",
       "2  EOL:5610326 | EOL:2910700 | EOL:42196910 | EOL...   \n",
       "3                                        EOL:4433892   \n",
       "4                                        EOL:4433892   \n",
       "\n",
       "                            sourceTaxonPathRankNames  sourceTaxonSpeciesName  \\\n",
       "0                                              genus                     NaN   \n",
       "1                                              genus                     NaN   \n",
       "2  |  | subkingdom |  |  |  |  |  |  |  |  | supe...    Repenomamus robustus   \n",
       "3                                            species  Sinocalliopteryx gigas   \n",
       "4                                            species  Sinocalliopteryx gigas   \n",
       "\n",
       "  sourceTaxonSpeciesId sourceTaxonGenusName            ...             \\\n",
       "0                  NaN          Deinosuchus            ...              \n",
       "1                  NaN       Daspletosaurus            ...              \n",
       "2         EOL:24210058          Repenomamus            ...              \n",
       "3          EOL:4433892                  NaN            ...              \n",
       "4          EOL:4433892                  NaN            ...              \n",
       "\n",
       "  localityName eventDateUnixEpoch  \\\n",
       "0          NaN                NaN   \n",
       "1          NaN                NaN   \n",
       "2          NaN                NaN   \n",
       "3          NaN                NaN   \n",
       "4          NaN                NaN   \n",
       "\n",
       "                                   referenceCitation  \\\n",
       "0  Rivera-Sylva H.E., E. Frey and J.R. Guzmán-Gui...   \n",
       "1  doi:10.1666/0022-3360(2001)075<0401:GCFACT>2.0...   \n",
       "2                            doi:10.1038/nature03102   \n",
       "3                   doi:10.1371/journal.pone.0044012   \n",
       "4                   doi:10.1371/journal.pone.0044012   \n",
       "\n",
       "                                      referenceDoi referenceUrl  \\\n",
       "0                               10.4267/2042/28152          NaN   \n",
       "1  10.1666/0022-3360(2001)075<0401:GCFACT>2.0.CO;2          NaN   \n",
       "2                              10.1038/nature03102          NaN   \n",
       "3                     10.1371/journal.pone.0044012          NaN   \n",
       "4                     10.1371/journal.pone.0044012          NaN   \n",
       "\n",
       "                                      sourceCitation  \\\n",
       "0  Katja Schulz. 2015. Information about dinosaur...   \n",
       "1  Katja Schulz. 2015. Information about dinosaur...   \n",
       "2  Katja Schulz. 2015. Information about dinosaur...   \n",
       "3  Katja Schulz. 2015. Information about dinosaur...   \n",
       "4  Katja Schulz. 2015. Information about dinosaur...   \n",
       "\n",
       "                            sourceNamespace  \\\n",
       "0  KatjaSchulz/dinosaur-biotic-interactions   \n",
       "1  KatjaSchulz/dinosaur-biotic-interactions   \n",
       "2  KatjaSchulz/dinosaur-biotic-interactions   \n",
       "3  KatjaSchulz/dinosaur-biotic-interactions   \n",
       "4  KatjaSchulz/dinosaur-biotic-interactions   \n",
       "\n",
       "                                    sourceArchiveURI sourceDOI  \\\n",
       "0  https://github.com/KatjaSchulz/dinosaur-biotic...       NaN   \n",
       "1  https://github.com/KatjaSchulz/dinosaur-biotic...       NaN   \n",
       "2  https://github.com/KatjaSchulz/dinosaur-biotic...       NaN   \n",
       "3  https://github.com/KatjaSchulz/dinosaur-biotic...       NaN   \n",
       "4  https://github.com/KatjaSchulz/dinosaur-biotic...       NaN   \n",
       "\n",
       "  sourceLastSeenAtUnixEpoch  \n",
       "0  2018-11-14T23:55:44.895Z  \n",
       "1  2018-11-14T23:55:44.895Z  \n",
       "2  2018-11-14T23:55:44.895Z  \n",
       "3  2018-11-14T23:55:44.895Z  \n",
       "4  2018-11-14T23:55:44.895Z  \n",
       "\n",
       "[5 rows x 79 columns]"
      ]
     },
     "execution_count": 8,
     "metadata": {},
     "output_type": "execute_result"
    }
   ],
   "source": [
    "data.head()"
   ]
  },
  {
   "cell_type": "markdown",
   "metadata": {},
   "source": [
    "### Basic data exploration and characteristics:"
   ]
  },
  {
   "cell_type": "code",
   "execution_count": 9,
   "metadata": {},
   "outputs": [
    {
     "data": {
      "text/plain": [
       "3445494"
      ]
     },
     "execution_count": 9,
     "metadata": {},
     "output_type": "execute_result"
    }
   ],
   "source": [
    "#check the number of rows:\n",
    "len(data)"
   ]
  },
  {
   "cell_type": "markdown",
   "metadata": {
    "collapsed": true
   },
   "source": [
    "#### Columns in the database:  "
   ]
  },
  {
   "cell_type": "code",
   "execution_count": 10,
   "metadata": {},
   "outputs": [
    {
     "data": {
      "text/plain": [
       "Index(['sourceTaxonId', 'sourceTaxonIds', 'sourceTaxonName', 'sourceTaxonRank',\n",
       "       'sourceTaxonPathNames', 'sourceTaxonPathIds',\n",
       "       'sourceTaxonPathRankNames', 'sourceTaxonSpeciesName',\n",
       "       'sourceTaxonSpeciesId', 'sourceTaxonGenusName', 'sourceTaxonGenusId',\n",
       "       'sourceTaxonFamilyName', 'sourceTaxonFamilyId', 'sourceTaxonOrderName',\n",
       "       'sourceTaxonOrderId', 'sourceTaxonClassName', 'sourceTaxonClassId',\n",
       "       'sourceTaxonPhylumName', 'sourceTaxonPhylumId',\n",
       "       'sourceTaxonKingdomName', 'sourceTaxonKingdomId', 'sourceId',\n",
       "       'sourceOccurrenceId', 'sourceCatalogNumber', 'sourceBasisOfRecordId',\n",
       "       'sourceBasisOfRecordName', 'sourceLifeStageId', 'sourceLifeStageName',\n",
       "       'sourceBodyPartId', 'sourceBodyPartName', 'sourcePhysiologicalStateId',\n",
       "       'sourcePhysiologicalStateName', 'interactionTypeName',\n",
       "       'interactionTypeId', 'targetTaxonId', 'targetTaxonIds',\n",
       "       'targetTaxonName', 'targetTaxonRank', 'targetTaxonPathNames',\n",
       "       'targetTaxonPathIds', 'targetTaxonPathRankNames',\n",
       "       'targetTaxonSpeciesName', 'targetTaxonSpeciesId',\n",
       "       'targetTaxonGenusName', 'targetTaxonGenusId', 'targetTaxonFamilyName',\n",
       "       'targetTaxonFamilyId', 'targetTaxonOrderName', 'targetTaxonOrderId',\n",
       "       'targetTaxonClassName', 'targetTaxonClassId', 'targetTaxonPhylumName',\n",
       "       'targetTaxonPhylumId', 'targetTaxonKingdomName', 'targetTaxonKingdomId',\n",
       "       'targetId', 'targetOccurrenceId', 'targetCatalogNumber',\n",
       "       'targetBasisOfRecordId', 'targetBasisOfRecordName', 'targetLifeStageId',\n",
       "       'targetLifeStageName', 'targetBodyPartId', 'targetBodyPartName',\n",
       "       'targetPhysiologicalStateId', 'targetPhysiologicalStateName',\n",
       "       'decimalLatitude', 'decimalLongitude', 'localityId', 'localityName',\n",
       "       'eventDateUnixEpoch', 'referenceCitation', 'referenceDoi',\n",
       "       'referenceUrl', 'sourceCitation', 'sourceNamespace', 'sourceArchiveURI',\n",
       "       'sourceDOI', 'sourceLastSeenAtUnixEpoch'],\n",
       "      dtype='object')"
      ]
     },
     "execution_count": 10,
     "metadata": {},
     "output_type": "execute_result"
    }
   ],
   "source": [
    "data.columns"
   ]
  },
  {
   "cell_type": "markdown",
   "metadata": {},
   "source": [
    "#### How many different types of taxons as sources & target? "
   ]
  },
  {
   "cell_type": "code",
   "execution_count": 11,
   "metadata": {},
   "outputs": [
    {
     "data": {
      "text/plain": [
       "147156"
      ]
     },
     "execution_count": 11,
     "metadata": {},
     "output_type": "execute_result"
    }
   ],
   "source": [
    "#source taxon\n",
    "len(data['sourceTaxonId'].unique())"
   ]
  },
  {
   "cell_type": "code",
   "execution_count": 12,
   "metadata": {},
   "outputs": [
    {
     "data": {
      "text/plain": [
       "105196"
      ]
     },
     "execution_count": 12,
     "metadata": {},
     "output_type": "execute_result"
    }
   ],
   "source": [
    "#Target taxon\n",
    "len(data['targetTaxonId'].unique())"
   ]
  },
  {
   "cell_type": "markdown",
   "metadata": {},
   "source": [
    "#### What interaction types are there?"
   ]
  },
  {
   "cell_type": "code",
   "execution_count": 13,
   "metadata": {},
   "outputs": [
    {
     "data": {
      "text/plain": [
       "array(['eats', 'preysOn', 'interactsWith', 'pollinates', 'parasiteOf',\n",
       "       'pathogenOf', 'visitsFlowersOf', 'adjacentTo', 'dispersalVectorOf',\n",
       "       'hasHost', 'endoparasitoidOf', 'symbiontOf', 'endoparasiteOf',\n",
       "       'hasVector', 'ectoParasiteOf', 'vectorOf', 'livesOn', 'livesNear',\n",
       "       'parasitoidOf', 'guestOf', 'livesInsideOf', 'farms',\n",
       "       'ectoParasitoid', 'inhabits', 'kills', 'hasDispersalVector',\n",
       "       'livesUnder', 'kleptoparasiteOf', 'hostOf', 'visits', 'eatenBy',\n",
       "       'flowersVisitedBy', 'preyedUponBy', 'hasParasite', 'pollinatedBy',\n",
       "       'hasPathogen'], dtype=object)"
      ]
     },
     "execution_count": 13,
     "metadata": {},
     "output_type": "execute_result"
    }
   ],
   "source": [
    "data['interactionTypeName'].unique()"
   ]
  },
  {
   "cell_type": "code",
   "execution_count": 14,
   "metadata": {},
   "outputs": [
    {
     "data": {
      "text/plain": [
       "36"
      ]
     },
     "execution_count": 14,
     "metadata": {},
     "output_type": "execute_result"
    }
   ],
   "source": [
    "#number of different types of interaction\n",
    "len(data['interactionTypeName'].unique())"
   ]
  },
  {
   "cell_type": "markdown",
   "metadata": {},
   "source": [
    "#### Drop duplicates:"
   ]
  },
  {
   "cell_type": "code",
   "execution_count": 15,
   "metadata": {
    "collapsed": true
   },
   "outputs": [],
   "source": [
    "data.drop_duplicates(['sourceTaxonId', 'interactionTypeName', 'targetTaxonId'], inplace = True)"
   ]
  },
  {
   "cell_type": "code",
   "execution_count": 16,
   "metadata": {},
   "outputs": [
    {
     "data": {
      "text/plain": [
       "956380"
      ]
     },
     "execution_count": 16,
     "metadata": {},
     "output_type": "execute_result"
    }
   ],
   "source": [
    "len(data)"
   ]
  }
 ],
 "metadata": {
  "kernelspec": {
   "display_name": "Python 3",
   "language": "python",
   "name": "python3"
  },
  "language_info": {
   "codemirror_mode": {
    "name": "ipython",
    "version": 3
   },
   "file_extension": ".py",
   "mimetype": "text/x-python",
   "name": "python",
   "nbconvert_exporter": "python",
   "pygments_lexer": "ipython3",
   "version": "3.6.3"
  }
 },
 "nbformat": 4,
 "nbformat_minor": 2
}
