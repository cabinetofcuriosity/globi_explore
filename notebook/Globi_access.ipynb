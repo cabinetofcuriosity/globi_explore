{
 "cells": [
  {
   "cell_type": "markdown",
   "metadata": {},
   "source": [
    "# Part 1: How to access GloBi database \n",
    "\n",
    "\n",
    "**You need to expand a bit on the intro. What is your name and background? Write a brief summary of what you did in both notebooks and why someone would want to read on.**\n",
    "\n",
    "I am interested in this GloBi because it provides data in the format of interactions, which is different from other databases I was exploring. Instead of focusing on one species at a time, it connects different species by describing interactions between them. By exploring deeply into GloBi, we can discover and study patterns in the networks among species."
   ]
  },
  {
   "cell_type": "markdown",
   "metadata": {},
   "source": [
    "## What is GloBi?\n",
    "\n",
    "GloBI does a fantastic job of explaining itself: \n",
    ">Global Biotic Interactions (GloBI) provides open access to species interaction data (e.g., predator-prey, pollinator-plant, pathogen-host, parasite-host) by combining existing open datasets using open source software. By providing an infrastructure to capture and share interaction data, individual biologists can focus on gathering new interaction data and analyzing existing datasets without having to spend resources on (re-) building a cyberinfrastructure to do so.\n",
    "\n",
    "><p>GloBI is made possible by a community of software engineers, bioinformaticists and biologists. Software engineers\n",
    "        such as <a href=\"http://linkedin.com/in/jhpoelen\">Jorrit Poelen</a>, <a href=\"https://github.com/coding46\">Göran\n",
    "            Bodenschatz</a>, and <a href=\"https://github.com/reiz\">Robert Reiz</a> collaborate with bioinformaticists\n",
    "        like <a href=\"http://www.mendeley.com/profiles/chris-mungall/\">Chris Mungall</a>, data managers like <a href=\"http://github.com/millerse\">Sarah E. Miller</a> and biologists like <a\n",
    "                href=\"http://ccs.tamucc.edu/people/dr-james-d-simons/\">Jim Simons</a>, <a\n",
    "                href=\"http://ronininstitute.org/research-scholars/anne-thessen/\">Anne Thessen</a>, <a href=\"https://orcid.org/0000-0002-9943-2342\">Jen Hammock</a> and <a\n",
    "                href=\"https://sites.google.com/site/haydenresearch/\">Brian Hayden</a> to capture, provide access to and use interaction data\n",
    "        that is provided by <a href=\"/references.html\">biologists and citizen scientists around the world</a>. <b>GloBI is sustained by an intricate network of  thriving open source, open data and open science communities</b> in addition to receiving donations, grants, awards or being written into grants, including, but not limited to, EOL's <a href=\"http://eol.org/info/485\">EOL Rubenstein Fellows Program</a> (CRDF EOL-33066-13/F33066, 2013) and the David M. Rubenstein Grant (FOCX-14-60988-1, 2014), and the Smithsonian Institution (SI) (T15CC10297-002, 2016).\n"
   ]
  },
  {
   "cell_type": "markdown",
   "metadata": {},
   "source": [
    "## How to access GloBi\n",
    "\n",
    "There is a package called [rglobi](https://cran.r-project.org/web/packages/rglobi/index.html) in R which allows us to access the database on Global Biotic Interactions (GloBI).  \n",
    "  \n",
    "Description from the documentation of package:  \n",
    "\n",
    "> A programmatic interface to the web service methods provided by Global Biotic Interactions (GloBI). GloBI provides access to spatial-temporal species interaction records from sources all over the world. rglobi provides methods to search species interactions by location, interaction type, and taxonomic name. In addition, it supports Cypher, a graph query language, to allow for executing custom queries on the GloBI aggregate species interaction data set.\"  \n",
    "\n",
    "To use its methods and functions, we need to install and library the package \"rglobi\" in R.\n",
    "\n",
    "```r\n",
    "install.packages(\"rglobi\")\n",
    "library(rglobi)\n",
    "```\n",
    "\n",
    "Users are able to search data on species interactions by location, interaction type, and taxonomic names and so on. Please check out the [rglobi vignette)(https://cran.r-project.org/web/packages/rglobi/vignettes/rglobi_vignette.html) to learn more about the use of this package.\n",
    "\n",
    "While the r package provides built in methods and functions, it has limitation on the maximum amount of data displayed. I messed around quite a bit with the package, but soon as I found out that the entire GloBi database is only ~6.5GB and could be easily download.  I decided to take that route for further exploration. \n"
   ]
  },
  {
   "cell_type": "markdown",
   "metadata": {},
   "source": [
    "\n",
    "### Accessing all the data"
   ]
  },
  {
   "cell_type": "markdown",
   "metadata": {},
   "source": [
    "#### Choice 1:\n",
    "Use Pagination: https://github.com/ropensci/rglobi/blob/master/vignettes/rglobi_vignette.Rmd#L410\n",
    "\n",
    "\"By default, the amount of results are limited. If you'd like to retrieve all results, you can used pagination. For instance, to retrieve parasitic interactions using pagination, you can use:\n",
    "\n",
    "\n",
    "```r\n",
    "otherkeys = list(\"limit\"=10, \"skip\"=0)\n",
    "first_page_of_ten <- get_interactions_by_type(interactiontype = c(\"hasParasite\"), otherkeys = otherkeys)\n",
    "otherkeys = list(\"limit\"=10, \"skip\"=10)\n",
    "second_page_of_ten <- get_interactions_by_type(interactiontype = c(\"hasParasite\"), otherkeys = otherkeys)\n",
    "```\n",
    "\n",
    "To exhaust all available interactions, you can keep paging results until the size of the page is less than the limit (e.g., ```nrows(interactions) < limit```).\"\n"
   ]
  },
  {
   "cell_type": "markdown",
   "metadata": {},
   "source": [
    "#### Choice 2:  \n",
    "Through API: https://github.com/jhpoelen/eol-globi-data/wiki/API  \n",
    "The link above contains API which provide access to interaction data for the purpose of integrating the data into wikis, custom webpages or other interaction exploration tools."
   ]
  },
  {
   "cell_type": "markdown",
   "metadata": {},
   "source": [
    "#### Choice 3:\n",
    "Download the whole dataset directly at https://www.globalbioticinteractions.org/data  \n",
    "Datasets are available to download in different formats including tsv, csv and N-Quads/RDF. I chose the `.tsv` version. "
   ]
  },
  {
   "cell_type": "markdown",
   "metadata": {},
   "source": [
    "## Basic data exploration and characteristics"
   ]
  },
  {
   "cell_type": "markdown",
   "metadata": {},
   "source": [
    "I ended up choosing Choice 3 and explored the dataset with Python in the Jupyter notebook enviroment. One of the reason is that I don't want to be limited by the built-in functions in `rglobi` package. Importing the whole dataset allows me to explore in whatever ways I want to. Also, by Choice 3, I have the same dataset everytime so the results can be reproducible."
   ]
  },
  {
   "cell_type": "code",
   "execution_count": 1,
   "metadata": {
    "collapsed": true
   },
   "outputs": [],
   "source": [
    "%matplotlib inline\n",
    "import pandas as pd"
   ]
  },
  {
   "cell_type": "code",
   "execution_count": 2,
   "metadata": {
    "collapsed": false
   },
   "outputs": [
    {
     "name": "stderr",
     "output_type": "stream",
     "text": [
      "//anaconda/envs/ipykernel_py3/lib/python3.6/site-packages/IPython/core/interactiveshell.py:2717: DtypeWarning: Columns (21,22,23,24,25,26,27,28,29,30,41,42,43,44,45,46,47,48,49,50,55,58,59,60,61,62,63,64,65,68,69,72,73,78) have mixed types. Specify dtype option on import or set low_memory=False.\n",
      "  interactivity=interactivity, compiler=compiler, result=result)\n"
     ]
    }
   ],
   "source": [
    "# Takes a few mintutes to load.\n",
    "data = pd.read_csv('~/Desktop/interactions.tsv', delimiter='\\t', encoding='utf-8')"
   ]
  },
  {
   "cell_type": "code",
   "execution_count": 3,
   "metadata": {
    "collapsed": false
   },
   "outputs": [
    {
     "data": {
      "text/html": [
       "<div>\n",
       "<table border=\"1\" class=\"dataframe\">\n",
       "  <thead>\n",
       "    <tr style=\"text-align: right;\">\n",
       "      <th></th>\n",
       "      <th>sourceTaxonId</th>\n",
       "      <th>sourceTaxonIds</th>\n",
       "      <th>sourceTaxonName</th>\n",
       "      <th>sourceTaxonRank</th>\n",
       "      <th>sourceTaxonPathNames</th>\n",
       "      <th>sourceTaxonPathIds</th>\n",
       "      <th>sourceTaxonPathRankNames</th>\n",
       "      <th>sourceTaxonSpeciesName</th>\n",
       "      <th>sourceTaxonSpeciesId</th>\n",
       "      <th>sourceTaxonGenusName</th>\n",
       "      <th>...</th>\n",
       "      <th>eventDateUnixEpoch</th>\n",
       "      <th>argumentTypeId</th>\n",
       "      <th>referenceCitation</th>\n",
       "      <th>referenceDoi</th>\n",
       "      <th>referenceUrl</th>\n",
       "      <th>sourceCitation</th>\n",
       "      <th>sourceNamespace</th>\n",
       "      <th>sourceArchiveURI</th>\n",
       "      <th>sourceDOI</th>\n",
       "      <th>sourceLastSeenAtUnixEpoch</th>\n",
       "    </tr>\n",
       "  </thead>\n",
       "  <tbody>\n",
       "    <tr>\n",
       "      <th>0</th>\n",
       "      <td>EOL:4472733</td>\n",
       "      <td>EOL:4472733 | EOL:4472733</td>\n",
       "      <td>Deinosuchus</td>\n",
       "      <td>genus</td>\n",
       "      <td>Deinosuchus</td>\n",
       "      <td>EOL:4472733</td>\n",
       "      <td>genus</td>\n",
       "      <td>NaN</td>\n",
       "      <td>NaN</td>\n",
       "      <td>Deinosuchus</td>\n",
       "      <td>...</td>\n",
       "      <td>NaN</td>\n",
       "      <td>https://en.wiktionary.org/wiki/support</td>\n",
       "      <td>Rivera-Sylva H.E., E. Frey and J.R. Guzmán-Gui...</td>\n",
       "      <td>10.4267/2042/28152</td>\n",
       "      <td>NaN</td>\n",
       "      <td>Katja Schulz. 2015. Information about dinosaur...</td>\n",
       "      <td>KatjaSchulz/dinosaur-biotic-interactions</td>\n",
       "      <td>https://github.com/KatjaSchulz/dinosaur-biotic...</td>\n",
       "      <td>NaN</td>\n",
       "      <td>2018-12-14T23:59:22.189Z</td>\n",
       "    </tr>\n",
       "    <tr>\n",
       "      <th>1</th>\n",
       "      <td>EOL:4433651</td>\n",
       "      <td>EOL:4433651 | EOL:4433651</td>\n",
       "      <td>Daspletosaurus</td>\n",
       "      <td>genus</td>\n",
       "      <td>Daspletosaurus</td>\n",
       "      <td>EOL:4433651</td>\n",
       "      <td>genus</td>\n",
       "      <td>NaN</td>\n",
       "      <td>NaN</td>\n",
       "      <td>Daspletosaurus</td>\n",
       "      <td>...</td>\n",
       "      <td>NaN</td>\n",
       "      <td>https://en.wiktionary.org/wiki/support</td>\n",
       "      <td>doi:10.1666/0022-3360(2001)075&lt;0401:GCFACT&gt;2.0...</td>\n",
       "      <td>10.1666/0022-3360(2001)075&lt;0401:GCFACT&gt;2.0.CO;2</td>\n",
       "      <td>NaN</td>\n",
       "      <td>Katja Schulz. 2015. Information about dinosaur...</td>\n",
       "      <td>KatjaSchulz/dinosaur-biotic-interactions</td>\n",
       "      <td>https://github.com/KatjaSchulz/dinosaur-biotic...</td>\n",
       "      <td>NaN</td>\n",
       "      <td>2018-12-14T23:59:22.189Z</td>\n",
       "    </tr>\n",
       "    <tr>\n",
       "      <th>2</th>\n",
       "      <td>EOL_V2:24210058</td>\n",
       "      <td>EOL_V2:24210058 | OTT:3617018 | GBIF:4975216 |...</td>\n",
       "      <td>Repenomamus robustus</td>\n",
       "      <td>species</td>\n",
       "      <td>Eucarya | Opisthokonta | Metazoa | Eumetazoa |...</td>\n",
       "      <td>EOL:5610326 | EOL:2910700 | EOL:42196910 | EOL...</td>\n",
       "      <td>|  | subkingdom |  |  |  |  |  |  |  |  | supe...</td>\n",
       "      <td>Repenomamus robustus</td>\n",
       "      <td>EOL_V2:24210058</td>\n",
       "      <td>Repenomamus</td>\n",
       "      <td>...</td>\n",
       "      <td>NaN</td>\n",
       "      <td>https://en.wiktionary.org/wiki/support</td>\n",
       "      <td>doi:10.1038/nature03102</td>\n",
       "      <td>10.1038/nature03102</td>\n",
       "      <td>NaN</td>\n",
       "      <td>Katja Schulz. 2015. Information about dinosaur...</td>\n",
       "      <td>KatjaSchulz/dinosaur-biotic-interactions</td>\n",
       "      <td>https://github.com/KatjaSchulz/dinosaur-biotic...</td>\n",
       "      <td>NaN</td>\n",
       "      <td>2018-12-14T23:59:22.189Z</td>\n",
       "    </tr>\n",
       "    <tr>\n",
       "      <th>3</th>\n",
       "      <td>EOL:4433892</td>\n",
       "      <td>EOL:4433892 | EOL:4433892</td>\n",
       "      <td>Sinocalliopteryx gigas</td>\n",
       "      <td>species</td>\n",
       "      <td>Sinocalliopteryx gigas</td>\n",
       "      <td>EOL:4433892</td>\n",
       "      <td>species</td>\n",
       "      <td>Sinocalliopteryx gigas</td>\n",
       "      <td>EOL:4433892</td>\n",
       "      <td>NaN</td>\n",
       "      <td>...</td>\n",
       "      <td>NaN</td>\n",
       "      <td>https://en.wiktionary.org/wiki/support</td>\n",
       "      <td>doi:10.1371/journal.pone.0044012</td>\n",
       "      <td>10.1371/journal.pone.0044012</td>\n",
       "      <td>NaN</td>\n",
       "      <td>Katja Schulz. 2015. Information about dinosaur...</td>\n",
       "      <td>KatjaSchulz/dinosaur-biotic-interactions</td>\n",
       "      <td>https://github.com/KatjaSchulz/dinosaur-biotic...</td>\n",
       "      <td>NaN</td>\n",
       "      <td>2018-12-14T23:59:22.189Z</td>\n",
       "    </tr>\n",
       "    <tr>\n",
       "      <th>4</th>\n",
       "      <td>EOL:4433892</td>\n",
       "      <td>EOL:4433892 | EOL:4433892</td>\n",
       "      <td>Sinocalliopteryx gigas</td>\n",
       "      <td>species</td>\n",
       "      <td>Sinocalliopteryx gigas</td>\n",
       "      <td>EOL:4433892</td>\n",
       "      <td>species</td>\n",
       "      <td>Sinocalliopteryx gigas</td>\n",
       "      <td>EOL:4433892</td>\n",
       "      <td>NaN</td>\n",
       "      <td>...</td>\n",
       "      <td>NaN</td>\n",
       "      <td>https://en.wiktionary.org/wiki/support</td>\n",
       "      <td>doi:10.1371/journal.pone.0044012</td>\n",
       "      <td>10.1371/journal.pone.0044012</td>\n",
       "      <td>NaN</td>\n",
       "      <td>Katja Schulz. 2015. Information about dinosaur...</td>\n",
       "      <td>KatjaSchulz/dinosaur-biotic-interactions</td>\n",
       "      <td>https://github.com/KatjaSchulz/dinosaur-biotic...</td>\n",
       "      <td>NaN</td>\n",
       "      <td>2018-12-14T23:59:22.189Z</td>\n",
       "    </tr>\n",
       "  </tbody>\n",
       "</table>\n",
       "<p>5 rows × 80 columns</p>\n",
       "</div>"
      ],
      "text/plain": [
       "     sourceTaxonId                                     sourceTaxonIds  \\\n",
       "0      EOL:4472733                          EOL:4472733 | EOL:4472733   \n",
       "1      EOL:4433651                          EOL:4433651 | EOL:4433651   \n",
       "2  EOL_V2:24210058  EOL_V2:24210058 | OTT:3617018 | GBIF:4975216 |...   \n",
       "3      EOL:4433892                          EOL:4433892 | EOL:4433892   \n",
       "4      EOL:4433892                          EOL:4433892 | EOL:4433892   \n",
       "\n",
       "          sourceTaxonName sourceTaxonRank  \\\n",
       "0             Deinosuchus           genus   \n",
       "1          Daspletosaurus           genus   \n",
       "2    Repenomamus robustus         species   \n",
       "3  Sinocalliopteryx gigas         species   \n",
       "4  Sinocalliopteryx gigas         species   \n",
       "\n",
       "                                sourceTaxonPathNames  \\\n",
       "0                                        Deinosuchus   \n",
       "1                                     Daspletosaurus   \n",
       "2  Eucarya | Opisthokonta | Metazoa | Eumetazoa |...   \n",
       "3                             Sinocalliopteryx gigas   \n",
       "4                             Sinocalliopteryx gigas   \n",
       "\n",
       "                                  sourceTaxonPathIds  \\\n",
       "0                                        EOL:4472733   \n",
       "1                                        EOL:4433651   \n",
       "2  EOL:5610326 | EOL:2910700 | EOL:42196910 | EOL...   \n",
       "3                                        EOL:4433892   \n",
       "4                                        EOL:4433892   \n",
       "\n",
       "                            sourceTaxonPathRankNames  sourceTaxonSpeciesName  \\\n",
       "0                                              genus                     NaN   \n",
       "1                                              genus                     NaN   \n",
       "2  |  | subkingdom |  |  |  |  |  |  |  |  | supe...    Repenomamus robustus   \n",
       "3                                            species  Sinocalliopteryx gigas   \n",
       "4                                            species  Sinocalliopteryx gigas   \n",
       "\n",
       "  sourceTaxonSpeciesId sourceTaxonGenusName            ...             \\\n",
       "0                  NaN          Deinosuchus            ...              \n",
       "1                  NaN       Daspletosaurus            ...              \n",
       "2      EOL_V2:24210058          Repenomamus            ...              \n",
       "3          EOL:4433892                  NaN            ...              \n",
       "4          EOL:4433892                  NaN            ...              \n",
       "\n",
       "  eventDateUnixEpoch                          argumentTypeId  \\\n",
       "0                NaN  https://en.wiktionary.org/wiki/support   \n",
       "1                NaN  https://en.wiktionary.org/wiki/support   \n",
       "2                NaN  https://en.wiktionary.org/wiki/support   \n",
       "3                NaN  https://en.wiktionary.org/wiki/support   \n",
       "4                NaN  https://en.wiktionary.org/wiki/support   \n",
       "\n",
       "                                   referenceCitation  \\\n",
       "0  Rivera-Sylva H.E., E. Frey and J.R. Guzmán-Gui...   \n",
       "1  doi:10.1666/0022-3360(2001)075<0401:GCFACT>2.0...   \n",
       "2                            doi:10.1038/nature03102   \n",
       "3                   doi:10.1371/journal.pone.0044012   \n",
       "4                   doi:10.1371/journal.pone.0044012   \n",
       "\n",
       "                                      referenceDoi referenceUrl  \\\n",
       "0                               10.4267/2042/28152          NaN   \n",
       "1  10.1666/0022-3360(2001)075<0401:GCFACT>2.0.CO;2          NaN   \n",
       "2                              10.1038/nature03102          NaN   \n",
       "3                     10.1371/journal.pone.0044012          NaN   \n",
       "4                     10.1371/journal.pone.0044012          NaN   \n",
       "\n",
       "                                      sourceCitation  \\\n",
       "0  Katja Schulz. 2015. Information about dinosaur...   \n",
       "1  Katja Schulz. 2015. Information about dinosaur...   \n",
       "2  Katja Schulz. 2015. Information about dinosaur...   \n",
       "3  Katja Schulz. 2015. Information about dinosaur...   \n",
       "4  Katja Schulz. 2015. Information about dinosaur...   \n",
       "\n",
       "                            sourceNamespace  \\\n",
       "0  KatjaSchulz/dinosaur-biotic-interactions   \n",
       "1  KatjaSchulz/dinosaur-biotic-interactions   \n",
       "2  KatjaSchulz/dinosaur-biotic-interactions   \n",
       "3  KatjaSchulz/dinosaur-biotic-interactions   \n",
       "4  KatjaSchulz/dinosaur-biotic-interactions   \n",
       "\n",
       "                                    sourceArchiveURI sourceDOI  \\\n",
       "0  https://github.com/KatjaSchulz/dinosaur-biotic...       NaN   \n",
       "1  https://github.com/KatjaSchulz/dinosaur-biotic...       NaN   \n",
       "2  https://github.com/KatjaSchulz/dinosaur-biotic...       NaN   \n",
       "3  https://github.com/KatjaSchulz/dinosaur-biotic...       NaN   \n",
       "4  https://github.com/KatjaSchulz/dinosaur-biotic...       NaN   \n",
       "\n",
       "  sourceLastSeenAtUnixEpoch  \n",
       "0  2018-12-14T23:59:22.189Z  \n",
       "1  2018-12-14T23:59:22.189Z  \n",
       "2  2018-12-14T23:59:22.189Z  \n",
       "3  2018-12-14T23:59:22.189Z  \n",
       "4  2018-12-14T23:59:22.189Z  \n",
       "\n",
       "[5 rows x 80 columns]"
      ]
     },
     "execution_count": 3,
     "metadata": {},
     "output_type": "execute_result"
    }
   ],
   "source": [
    "data.head()"
   ]
  },
  {
   "cell_type": "code",
   "execution_count": 9,
   "metadata": {
    "collapsed": false
   },
   "outputs": [
    {
     "data": {
      "text/plain": [
       "3445494"
      ]
     },
     "execution_count": 9,
     "metadata": {},
     "output_type": "execute_result"
    }
   ],
   "source": [
    "# check the number of rows\n",
    "len(data)"
   ]
  },
  {
   "cell_type": "code",
   "execution_count": 6,
   "metadata": {
    "collapsed": false
   },
   "outputs": [
    {
     "data": {
      "text/plain": [
       "80"
      ]
     },
     "execution_count": 6,
     "metadata": {},
     "output_type": "execute_result"
    }
   ],
   "source": [
    "# How many Columns\n",
    "len(data.columns)"
   ]
  },
  {
   "cell_type": "code",
   "execution_count": 5,
   "metadata": {
    "collapsed": false
   },
   "outputs": [
    {
     "data": {
      "text/plain": [
       "Index(['sourceTaxonId', 'sourceTaxonIds', 'sourceTaxonName', 'sourceTaxonRank',\n",
       "       'sourceTaxonPathNames', 'sourceTaxonPathIds',\n",
       "       'sourceTaxonPathRankNames', 'sourceTaxonSpeciesName',\n",
       "       'sourceTaxonSpeciesId', 'sourceTaxonGenusName', 'sourceTaxonGenusId',\n",
       "       'sourceTaxonFamilyName', 'sourceTaxonFamilyId', 'sourceTaxonOrderName',\n",
       "       'sourceTaxonOrderId', 'sourceTaxonClassName', 'sourceTaxonClassId',\n",
       "       'sourceTaxonPhylumName', 'sourceTaxonPhylumId',\n",
       "       'sourceTaxonKingdomName', 'sourceTaxonKingdomId', 'sourceId',\n",
       "       'sourceOccurrenceId', 'sourceCatalogNumber', 'sourceBasisOfRecordId',\n",
       "       'sourceBasisOfRecordName', 'sourceLifeStageId', 'sourceLifeStageName',\n",
       "       'sourceBodyPartId', 'sourceBodyPartName', 'sourcePhysiologicalStateId',\n",
       "       'sourcePhysiologicalStateName', 'interactionTypeName',\n",
       "       'interactionTypeId', 'targetTaxonId', 'targetTaxonIds',\n",
       "       'targetTaxonName', 'targetTaxonRank', 'targetTaxonPathNames',\n",
       "       'targetTaxonPathIds', 'targetTaxonPathRankNames',\n",
       "       'targetTaxonSpeciesName', 'targetTaxonSpeciesId',\n",
       "       'targetTaxonGenusName', 'targetTaxonGenusId', 'targetTaxonFamilyName',\n",
       "       'targetTaxonFamilyId', 'targetTaxonOrderName', 'targetTaxonOrderId',\n",
       "       'targetTaxonClassName', 'targetTaxonClassId', 'targetTaxonPhylumName',\n",
       "       'targetTaxonPhylumId', 'targetTaxonKingdomName', 'targetTaxonKingdomId',\n",
       "       'targetId', 'targetOccurrenceId', 'targetCatalogNumber',\n",
       "       'targetBasisOfRecordId', 'targetBasisOfRecordName', 'targetLifeStageId',\n",
       "       'targetLifeStageName', 'targetBodyPartId', 'targetBodyPartName',\n",
       "       'targetPhysiologicalStateId', 'targetPhysiologicalStateName',\n",
       "       'decimalLatitude', 'decimalLongitude', 'localityId', 'localityName',\n",
       "       'eventDateUnixEpoch', 'argumentTypeId', 'referenceCitation',\n",
       "       'referenceDoi', 'referenceUrl', 'sourceCitation', 'sourceNamespace',\n",
       "       'sourceArchiveURI', 'sourceDOI', 'sourceLastSeenAtUnixEpoch'],\n",
       "      dtype='object')"
      ]
     },
     "execution_count": 5,
     "metadata": {},
     "output_type": "execute_result"
    }
   ],
   "source": [
    "# What are the 80 columns of this dataset?\n",
    "data.columns"
   ]
  },
  {
   "cell_type": "markdown",
   "metadata": {},
   "source": [
    "#### How many different types of taxons as sources & target? "
   ]
  },
  {
   "cell_type": "code",
   "execution_count": 11,
   "metadata": {
    "collapsed": false
   },
   "outputs": [
    {
     "data": {
      "text/plain": [
       "147156"
      ]
     },
     "execution_count": 11,
     "metadata": {},
     "output_type": "execute_result"
    }
   ],
   "source": [
    "# Source taxon\n",
    "len(data['sourceTaxonId'].unique())"
   ]
  },
  {
   "cell_type": "code",
   "execution_count": 12,
   "metadata": {
    "collapsed": false
   },
   "outputs": [
    {
     "data": {
      "text/plain": [
       "105196"
      ]
     },
     "execution_count": 12,
     "metadata": {},
     "output_type": "execute_result"
    }
   ],
   "source": [
    "#Target taxon\n",
    "len(data['targetTaxonId'].unique())"
   ]
  },
  {
   "cell_type": "markdown",
   "metadata": {},
   "source": [
    "### What interaction types are there?\n",
    "\n",
    "The backbone of the GloBi database is that all all observations are interactions and must fit into 36 interaction types. "
   ]
  },
  {
   "cell_type": "code",
   "execution_count": 13,
   "metadata": {
    "collapsed": false
   },
   "outputs": [
    {
     "data": {
      "text/plain": [
       "array(['eats', 'preysOn', 'interactsWith', 'pollinates', 'parasiteOf',\n",
       "       'pathogenOf', 'visitsFlowersOf', 'adjacentTo', 'dispersalVectorOf',\n",
       "       'hasHost', 'endoparasitoidOf', 'symbiontOf', 'endoparasiteOf',\n",
       "       'hasVector', 'ectoParasiteOf', 'vectorOf', 'livesOn', 'livesNear',\n",
       "       'parasitoidOf', 'guestOf', 'livesInsideOf', 'farms',\n",
       "       'ectoParasitoid', 'inhabits', 'kills', 'hasDispersalVector',\n",
       "       'livesUnder', 'kleptoparasiteOf', 'hostOf', 'visits', 'eatenBy',\n",
       "       'flowersVisitedBy', 'preyedUponBy', 'hasParasite', 'pollinatedBy',\n",
       "       'hasPathogen'], dtype=object)"
      ]
     },
     "execution_count": 13,
     "metadata": {},
     "output_type": "execute_result"
    }
   ],
   "source": [
    "data['interactionTypeName'].unique()"
   ]
  },
  {
   "cell_type": "code",
   "execution_count": 14,
   "metadata": {
    "collapsed": false
   },
   "outputs": [
    {
     "data": {
      "text/plain": [
       "36"
      ]
     },
     "execution_count": 14,
     "metadata": {},
     "output_type": "execute_result"
    }
   ],
   "source": [
    "# number of different types of interaction\n",
    "len(data['interactionTypeName'].unique())"
   ]
  },
  {
   "cell_type": "markdown",
   "metadata": {},
   "source": [
    "### Unique Interaction types\n",
    "\n",
    "Each record in GloBi comes from a specific dataset. One of the great parts of GloBi is the transparency on *exactly* where that data is coming from.  GloBi has a system set up that continually gathers the information from its sources on a daily basis. Because of this, the database can fix a mistake on their end and without intervention GloBi will incorporate those changes into their data set.  You can tell where it came from by a few columns, but what is especially interesting is the `sourceNamespace` column which displays the exact place on Github in which the data is coming from."
   ]
  },
  {
   "cell_type": "code",
   "execution_count": 57,
   "metadata": {
    "collapsed": false
   },
   "outputs": [
    {
     "data": {
      "text/plain": [
       "globalbioticinteractions/fishbase                                            504260\n",
       "globalbioticinteractions/arthropodEasyCaptureAMNH                            350213\n",
       "millerse/Wardeh-et-al.-2015                                                  271904\n",
       "globalbioticinteractions/natural-history-museum-london-interactions-bank     242429\n",
       "millerse/Dapstrom-integrated-database-and-portal-for-fish-stomach-records    225564\n",
       "globalbioticinteractions/ices                                                183935\n",
       "EOL/pseudonitzchia                                                           183773\n",
       "globalbioticinteractions/noaa-reem                                           122328\n",
       "millerse/US-National-Parasite-Collection                                      99713\n",
       "globalbioticinteractions/roopnarine                                           96647\n",
       "Name: sourceNamespace, dtype: int64"
      ]
     },
     "execution_count": 57,
     "metadata": {},
     "output_type": "execute_result"
    }
   ],
   "source": [
    "# Top 10 data source with the most records contributed. \n",
    "data['sourceNamespace'].value_counts().head(10)"
   ]
  },
  {
   "cell_type": "markdown",
   "metadata": {},
   "source": [
    "To look at where GloBi is getting this data from simply add the first column to github.com. \n",
    "example: The largest contributer appears to be Fishbase [github.com/globalbioticinteractions/fishbase](github.com/globalbioticinteractions/fishbase). You can also get the status of GloBi's interaction with the data sources here: [https://www.globalbioticinteractions.org/status.html](https://www.globalbioticinteractions.org/status.html).\n",
    "\n",
    "I'm interested in how many unique interaction types records are found in GloBi. "
   ]
  },
  {
   "cell_type": "code",
   "execution_count": 15,
   "metadata": {
    "collapsed": true
   },
   "outputs": [],
   "source": [
    "data.drop_duplicates(['sourceTaxonId', 'interactionTypeName', 'targetTaxonId'], inplace = True)"
   ]
  },
  {
   "cell_type": "code",
   "execution_count": 58,
   "metadata": {
    "collapsed": false
   },
   "outputs": [
    {
     "data": {
      "text/plain": [
       "3456395"
      ]
     },
     "execution_count": 58,
     "metadata": {},
     "output_type": "execute_result"
    }
   ],
   "source": [
    "len(data)"
   ]
  }
 ],
 "metadata": {
  "kernelspec": {
   "display_name": "Python 3",
   "language": "python",
   "name": "python3"
  },
  "language_info": {
   "codemirror_mode": {
    "name": "ipython",
    "version": 3
   },
   "file_extension": ".py",
   "mimetype": "text/x-python",
   "name": "python",
   "nbconvert_exporter": "python",
   "pygments_lexer": "ipython3",
   "version": "3.6.2"
  }
 },
 "nbformat": 4,
 "nbformat_minor": 2
}
