{
 "cells": [
  {
   "cell_type": "code",
   "execution_count": 2,
   "metadata": {
    "collapsed": true
   },
   "outputs": [],
   "source": [
    "import pandas as pd\n",
    "import pytaxize\n",
    "import re\n",
    "import matplotlib.pyplot as plt"
   ]
  },
  {
   "cell_type": "code",
   "execution_count": 3,
   "metadata": {},
   "outputs": [
    {
     "name": "stderr",
     "output_type": "stream",
     "text": [
      "/Users/glance/anaconda3/lib/python3.6/site-packages/IPython/core/interactiveshell.py:3020: DtypeWarning: Columns (13,14,15,16,17,18,19,21,22,23,24,25,26,27,28,29,30,41,42,43,44,45,46,47,48,49,50,55,58,59,60,61,62,63,64,65,68,69,71,72,77) have mixed types. Specify dtype option on import or set low_memory=False.\n",
      "  interactivity=interactivity, compiler=compiler, result=result)\n"
     ]
    }
   ],
   "source": [
    "data =pd.read_csv('interactions.tsv', delimiter='\\t', encoding='utf-8')"
   ]
  },
  {
   "cell_type": "code",
   "execution_count": 4,
   "metadata": {},
   "outputs": [
    {
     "data": {
      "text/html": [
       "<div>\n",
       "<style scoped>\n",
       "    .dataframe tbody tr th:only-of-type {\n",
       "        vertical-align: middle;\n",
       "    }\n",
       "\n",
       "    .dataframe tbody tr th {\n",
       "        vertical-align: top;\n",
       "    }\n",
       "\n",
       "    .dataframe thead th {\n",
       "        text-align: right;\n",
       "    }\n",
       "</style>\n",
       "<table border=\"1\" class=\"dataframe\">\n",
       "  <thead>\n",
       "    <tr style=\"text-align: right;\">\n",
       "      <th></th>\n",
       "      <th>sourceTaxonId</th>\n",
       "      <th>sourceTaxonIds</th>\n",
       "      <th>sourceTaxonName</th>\n",
       "      <th>sourceTaxonRank</th>\n",
       "      <th>sourceTaxonPathNames</th>\n",
       "      <th>sourceTaxonPathIds</th>\n",
       "      <th>sourceTaxonPathRankNames</th>\n",
       "      <th>sourceTaxonSpeciesName</th>\n",
       "      <th>sourceTaxonSpeciesId</th>\n",
       "      <th>sourceTaxonGenusName</th>\n",
       "      <th>...</th>\n",
       "      <th>localityName</th>\n",
       "      <th>eventDateUnixEpoch</th>\n",
       "      <th>referenceCitation</th>\n",
       "      <th>referenceDoi</th>\n",
       "      <th>referenceUrl</th>\n",
       "      <th>sourceCitation</th>\n",
       "      <th>sourceNamespace</th>\n",
       "      <th>sourceArchiveURI</th>\n",
       "      <th>sourceDOI</th>\n",
       "      <th>sourceLastSeenAtUnixEpoch</th>\n",
       "    </tr>\n",
       "  </thead>\n",
       "  <tbody>\n",
       "    <tr>\n",
       "      <th>0</th>\n",
       "      <td>EOL:4472733</td>\n",
       "      <td>EOL:4472733 | EOL:4472733</td>\n",
       "      <td>Deinosuchus</td>\n",
       "      <td>genus</td>\n",
       "      <td>Deinosuchus</td>\n",
       "      <td>EOL:4472733</td>\n",
       "      <td>genus</td>\n",
       "      <td>NaN</td>\n",
       "      <td>NaN</td>\n",
       "      <td>Deinosuchus</td>\n",
       "      <td>...</td>\n",
       "      <td>NaN</td>\n",
       "      <td>NaN</td>\n",
       "      <td>Rivera-Sylva H.E., E. Frey and J.R. Guzmán-Gui...</td>\n",
       "      <td>10.4267/2042/28152</td>\n",
       "      <td>NaN</td>\n",
       "      <td>Katja Schulz. 2015. Information about dinosaur...</td>\n",
       "      <td>KatjaSchulz/dinosaur-biotic-interactions</td>\n",
       "      <td>https://github.com/KatjaSchulz/dinosaur-biotic...</td>\n",
       "      <td>NaN</td>\n",
       "      <td>2018-11-14T23:55:44.895Z</td>\n",
       "    </tr>\n",
       "    <tr>\n",
       "      <th>1</th>\n",
       "      <td>EOL:4433651</td>\n",
       "      <td>EOL:4433651 | EOL:4433651</td>\n",
       "      <td>Daspletosaurus</td>\n",
       "      <td>genus</td>\n",
       "      <td>Daspletosaurus</td>\n",
       "      <td>EOL:4433651</td>\n",
       "      <td>genus</td>\n",
       "      <td>NaN</td>\n",
       "      <td>NaN</td>\n",
       "      <td>Daspletosaurus</td>\n",
       "      <td>...</td>\n",
       "      <td>NaN</td>\n",
       "      <td>NaN</td>\n",
       "      <td>doi:10.1666/0022-3360(2001)075&lt;0401:GCFACT&gt;2.0...</td>\n",
       "      <td>10.1666/0022-3360(2001)075&lt;0401:GCFACT&gt;2.0.CO;2</td>\n",
       "      <td>NaN</td>\n",
       "      <td>Katja Schulz. 2015. Information about dinosaur...</td>\n",
       "      <td>KatjaSchulz/dinosaur-biotic-interactions</td>\n",
       "      <td>https://github.com/KatjaSchulz/dinosaur-biotic...</td>\n",
       "      <td>NaN</td>\n",
       "      <td>2018-11-14T23:55:44.895Z</td>\n",
       "    </tr>\n",
       "    <tr>\n",
       "      <th>2</th>\n",
       "      <td>EOL:24210058</td>\n",
       "      <td>EOL:24210058 | OTT:3617018 | GBIF:4975216 | EO...</td>\n",
       "      <td>Repenomamus robustus</td>\n",
       "      <td>species</td>\n",
       "      <td>Eucarya | Opisthokonta | Metazoa | Eumetazoa |...</td>\n",
       "      <td>EOL:5610326 | EOL:2910700 | EOL:42196910 | EOL...</td>\n",
       "      <td>|  | subkingdom |  |  |  |  |  |  |  |  | supe...</td>\n",
       "      <td>Repenomamus robustus</td>\n",
       "      <td>EOL:24210058</td>\n",
       "      <td>Repenomamus</td>\n",
       "      <td>...</td>\n",
       "      <td>NaN</td>\n",
       "      <td>NaN</td>\n",
       "      <td>doi:10.1038/nature03102</td>\n",
       "      <td>10.1038/nature03102</td>\n",
       "      <td>NaN</td>\n",
       "      <td>Katja Schulz. 2015. Information about dinosaur...</td>\n",
       "      <td>KatjaSchulz/dinosaur-biotic-interactions</td>\n",
       "      <td>https://github.com/KatjaSchulz/dinosaur-biotic...</td>\n",
       "      <td>NaN</td>\n",
       "      <td>2018-11-14T23:55:44.895Z</td>\n",
       "    </tr>\n",
       "    <tr>\n",
       "      <th>3</th>\n",
       "      <td>EOL:4433892</td>\n",
       "      <td>EOL:4433892 | EOL:4433892</td>\n",
       "      <td>Sinocalliopteryx gigas</td>\n",
       "      <td>species</td>\n",
       "      <td>Sinocalliopteryx gigas</td>\n",
       "      <td>EOL:4433892</td>\n",
       "      <td>species</td>\n",
       "      <td>Sinocalliopteryx gigas</td>\n",
       "      <td>EOL:4433892</td>\n",
       "      <td>NaN</td>\n",
       "      <td>...</td>\n",
       "      <td>NaN</td>\n",
       "      <td>NaN</td>\n",
       "      <td>doi:10.1371/journal.pone.0044012</td>\n",
       "      <td>10.1371/journal.pone.0044012</td>\n",
       "      <td>NaN</td>\n",
       "      <td>Katja Schulz. 2015. Information about dinosaur...</td>\n",
       "      <td>KatjaSchulz/dinosaur-biotic-interactions</td>\n",
       "      <td>https://github.com/KatjaSchulz/dinosaur-biotic...</td>\n",
       "      <td>NaN</td>\n",
       "      <td>2018-11-14T23:55:44.895Z</td>\n",
       "    </tr>\n",
       "    <tr>\n",
       "      <th>4</th>\n",
       "      <td>EOL:4433892</td>\n",
       "      <td>EOL:4433892 | EOL:4433892</td>\n",
       "      <td>Sinocalliopteryx gigas</td>\n",
       "      <td>species</td>\n",
       "      <td>Sinocalliopteryx gigas</td>\n",
       "      <td>EOL:4433892</td>\n",
       "      <td>species</td>\n",
       "      <td>Sinocalliopteryx gigas</td>\n",
       "      <td>EOL:4433892</td>\n",
       "      <td>NaN</td>\n",
       "      <td>...</td>\n",
       "      <td>NaN</td>\n",
       "      <td>NaN</td>\n",
       "      <td>doi:10.1371/journal.pone.0044012</td>\n",
       "      <td>10.1371/journal.pone.0044012</td>\n",
       "      <td>NaN</td>\n",
       "      <td>Katja Schulz. 2015. Information about dinosaur...</td>\n",
       "      <td>KatjaSchulz/dinosaur-biotic-interactions</td>\n",
       "      <td>https://github.com/KatjaSchulz/dinosaur-biotic...</td>\n",
       "      <td>NaN</td>\n",
       "      <td>2018-11-14T23:55:44.895Z</td>\n",
       "    </tr>\n",
       "  </tbody>\n",
       "</table>\n",
       "<p>5 rows × 79 columns</p>\n",
       "</div>"
      ],
      "text/plain": [
       "  sourceTaxonId                                     sourceTaxonIds  \\\n",
       "0   EOL:4472733                          EOL:4472733 | EOL:4472733   \n",
       "1   EOL:4433651                          EOL:4433651 | EOL:4433651   \n",
       "2  EOL:24210058  EOL:24210058 | OTT:3617018 | GBIF:4975216 | EO...   \n",
       "3   EOL:4433892                          EOL:4433892 | EOL:4433892   \n",
       "4   EOL:4433892                          EOL:4433892 | EOL:4433892   \n",
       "\n",
       "          sourceTaxonName sourceTaxonRank  \\\n",
       "0             Deinosuchus           genus   \n",
       "1          Daspletosaurus           genus   \n",
       "2    Repenomamus robustus         species   \n",
       "3  Sinocalliopteryx gigas         species   \n",
       "4  Sinocalliopteryx gigas         species   \n",
       "\n",
       "                                sourceTaxonPathNames  \\\n",
       "0                                        Deinosuchus   \n",
       "1                                     Daspletosaurus   \n",
       "2  Eucarya | Opisthokonta | Metazoa | Eumetazoa |...   \n",
       "3                             Sinocalliopteryx gigas   \n",
       "4                             Sinocalliopteryx gigas   \n",
       "\n",
       "                                  sourceTaxonPathIds  \\\n",
       "0                                        EOL:4472733   \n",
       "1                                        EOL:4433651   \n",
       "2  EOL:5610326 | EOL:2910700 | EOL:42196910 | EOL...   \n",
       "3                                        EOL:4433892   \n",
       "4                                        EOL:4433892   \n",
       "\n",
       "                            sourceTaxonPathRankNames  sourceTaxonSpeciesName  \\\n",
       "0                                              genus                     NaN   \n",
       "1                                              genus                     NaN   \n",
       "2  |  | subkingdom |  |  |  |  |  |  |  |  | supe...    Repenomamus robustus   \n",
       "3                                            species  Sinocalliopteryx gigas   \n",
       "4                                            species  Sinocalliopteryx gigas   \n",
       "\n",
       "  sourceTaxonSpeciesId sourceTaxonGenusName            ...             \\\n",
       "0                  NaN          Deinosuchus            ...              \n",
       "1                  NaN       Daspletosaurus            ...              \n",
       "2         EOL:24210058          Repenomamus            ...              \n",
       "3          EOL:4433892                  NaN            ...              \n",
       "4          EOL:4433892                  NaN            ...              \n",
       "\n",
       "  localityName eventDateUnixEpoch  \\\n",
       "0          NaN                NaN   \n",
       "1          NaN                NaN   \n",
       "2          NaN                NaN   \n",
       "3          NaN                NaN   \n",
       "4          NaN                NaN   \n",
       "\n",
       "                                   referenceCitation  \\\n",
       "0  Rivera-Sylva H.E., E. Frey and J.R. Guzmán-Gui...   \n",
       "1  doi:10.1666/0022-3360(2001)075<0401:GCFACT>2.0...   \n",
       "2                            doi:10.1038/nature03102   \n",
       "3                   doi:10.1371/journal.pone.0044012   \n",
       "4                   doi:10.1371/journal.pone.0044012   \n",
       "\n",
       "                                      referenceDoi referenceUrl  \\\n",
       "0                               10.4267/2042/28152          NaN   \n",
       "1  10.1666/0022-3360(2001)075<0401:GCFACT>2.0.CO;2          NaN   \n",
       "2                              10.1038/nature03102          NaN   \n",
       "3                     10.1371/journal.pone.0044012          NaN   \n",
       "4                     10.1371/journal.pone.0044012          NaN   \n",
       "\n",
       "                                      sourceCitation  \\\n",
       "0  Katja Schulz. 2015. Information about dinosaur...   \n",
       "1  Katja Schulz. 2015. Information about dinosaur...   \n",
       "2  Katja Schulz. 2015. Information about dinosaur...   \n",
       "3  Katja Schulz. 2015. Information about dinosaur...   \n",
       "4  Katja Schulz. 2015. Information about dinosaur...   \n",
       "\n",
       "                            sourceNamespace  \\\n",
       "0  KatjaSchulz/dinosaur-biotic-interactions   \n",
       "1  KatjaSchulz/dinosaur-biotic-interactions   \n",
       "2  KatjaSchulz/dinosaur-biotic-interactions   \n",
       "3  KatjaSchulz/dinosaur-biotic-interactions   \n",
       "4  KatjaSchulz/dinosaur-biotic-interactions   \n",
       "\n",
       "                                    sourceArchiveURI sourceDOI  \\\n",
       "0  https://github.com/KatjaSchulz/dinosaur-biotic...       NaN   \n",
       "1  https://github.com/KatjaSchulz/dinosaur-biotic...       NaN   \n",
       "2  https://github.com/KatjaSchulz/dinosaur-biotic...       NaN   \n",
       "3  https://github.com/KatjaSchulz/dinosaur-biotic...       NaN   \n",
       "4  https://github.com/KatjaSchulz/dinosaur-biotic...       NaN   \n",
       "\n",
       "  sourceLastSeenAtUnixEpoch  \n",
       "0  2018-11-14T23:55:44.895Z  \n",
       "1  2018-11-14T23:55:44.895Z  \n",
       "2  2018-11-14T23:55:44.895Z  \n",
       "3  2018-11-14T23:55:44.895Z  \n",
       "4  2018-11-14T23:55:44.895Z  \n",
       "\n",
       "[5 rows x 79 columns]"
      ]
     },
     "execution_count": 4,
     "metadata": {},
     "output_type": "execute_result"
    }
   ],
   "source": [
    "data.head()"
   ]
  },
  {
   "cell_type": "code",
   "execution_count": 5,
   "metadata": {},
   "outputs": [
    {
     "data": {
      "text/plain": [
       "array(['eats', 'preysOn', 'interactsWith', 'pollinates', 'parasiteOf',\n",
       "       'pathogenOf', 'visitsFlowersOf', 'adjacentTo', 'dispersalVectorOf',\n",
       "       'hasHost', 'endoparasitoidOf', 'symbiontOf', 'endoparasiteOf',\n",
       "       'hasVector', 'ectoParasiteOf', 'vectorOf', 'livesOn', 'livesNear',\n",
       "       'parasitoidOf', 'guestOf', 'livesInsideOf', 'farms',\n",
       "       'ectoParasitoid', 'inhabits', 'kills', 'hasDispersalVector',\n",
       "       'livesUnder', 'kleptoparasiteOf', 'hostOf', 'visits', 'eatenBy',\n",
       "       'flowersVisitedBy', 'preyedUponBy', 'hasParasite', 'pollinatedBy',\n",
       "       'hasPathogen'], dtype=object)"
      ]
     },
     "execution_count": 5,
     "metadata": {},
     "output_type": "execute_result"
    }
   ],
   "source": [
    "data['interactionTypeName'].unique()"
   ]
  },
  {
   "cell_type": "markdown",
   "metadata": {},
   "source": [
    "#### Drop duplicates:"
   ]
  },
  {
   "cell_type": "code",
   "execution_count": 6,
   "metadata": {
    "collapsed": true
   },
   "outputs": [],
   "source": [
    "data.drop_duplicates(['sourceTaxonId', 'interactionTypeName', 'targetTaxonId'], inplace = True)"
   ]
  },
  {
   "cell_type": "code",
   "execution_count": 7,
   "metadata": {},
   "outputs": [
    {
     "data": {
      "text/plain": [
       "956380"
      ]
     },
     "execution_count": 7,
     "metadata": {},
     "output_type": "execute_result"
    }
   ],
   "source": [
    "len(data)"
   ]
  },
  {
   "cell_type": "markdown",
   "metadata": {},
   "source": [
    "#### Let's look at certain taxon:"
   ]
  },
  {
   "cell_type": "markdown",
   "metadata": {},
   "source": [
    "For example, suppose we are interested in the interactions involving 'Homo sapiens'"
   ]
  },
  {
   "cell_type": "code",
   "execution_count": 8,
   "metadata": {},
   "outputs": [
    {
     "data": {
      "text/plain": [
       "array(['interactsWith', 'eats', 'hostOf'], dtype=object)"
      ]
     },
     "execution_count": 8,
     "metadata": {},
     "output_type": "execute_result"
    }
   ],
   "source": [
    "#Types of interactions involving Homo sapiens as sourceTaxon:\n",
    "data[data['sourceTaxonName'] == 'Homo sapiens']['interactionTypeName'].unique()"
   ]
  },
  {
   "cell_type": "code",
   "execution_count": 9,
   "metadata": {},
   "outputs": [
    {
     "data": {
      "text/plain": [
       "664"
      ]
     },
     "execution_count": 9,
     "metadata": {},
     "output_type": "execute_result"
    }
   ],
   "source": [
    "#Number of records of interactions involving Homo sapiens as sourceTaxon:\n",
    "len(data[data['sourceTaxonName'] == 'Homo sapiens'])"
   ]
  },
  {
   "cell_type": "markdown",
   "metadata": {},
   "source": [
    "#### Let's focus on certain type of interaction involving Homo_sapiens as sourceTaxon, for example \"eats\":"
   ]
  },
  {
   "cell_type": "code",
   "execution_count": 10,
   "metadata": {
    "collapsed": true
   },
   "outputs": [],
   "source": [
    "hs_eats_data = data[(data['sourceTaxonName'] == 'Homo sapiens') & (data['interactionTypeName'] == 'eats')]"
   ]
  },
  {
   "cell_type": "code",
   "execution_count": 11,
   "metadata": {},
   "outputs": [
    {
     "data": {
      "text/html": [
       "<div>\n",
       "<style scoped>\n",
       "    .dataframe tbody tr th:only-of-type {\n",
       "        vertical-align: middle;\n",
       "    }\n",
       "\n",
       "    .dataframe tbody tr th {\n",
       "        vertical-align: top;\n",
       "    }\n",
       "\n",
       "    .dataframe thead th {\n",
       "        text-align: right;\n",
       "    }\n",
       "</style>\n",
       "<table border=\"1\" class=\"dataframe\">\n",
       "  <thead>\n",
       "    <tr style=\"text-align: right;\">\n",
       "      <th></th>\n",
       "      <th>sourceTaxonId</th>\n",
       "      <th>sourceTaxonIds</th>\n",
       "      <th>sourceTaxonName</th>\n",
       "      <th>sourceTaxonRank</th>\n",
       "      <th>sourceTaxonPathNames</th>\n",
       "      <th>sourceTaxonPathIds</th>\n",
       "      <th>sourceTaxonPathRankNames</th>\n",
       "      <th>sourceTaxonSpeciesName</th>\n",
       "      <th>sourceTaxonSpeciesId</th>\n",
       "      <th>sourceTaxonGenusName</th>\n",
       "      <th>...</th>\n",
       "      <th>localityName</th>\n",
       "      <th>eventDateUnixEpoch</th>\n",
       "      <th>referenceCitation</th>\n",
       "      <th>referenceDoi</th>\n",
       "      <th>referenceUrl</th>\n",
       "      <th>sourceCitation</th>\n",
       "      <th>sourceNamespace</th>\n",
       "      <th>sourceArchiveURI</th>\n",
       "      <th>sourceDOI</th>\n",
       "      <th>sourceLastSeenAtUnixEpoch</th>\n",
       "    </tr>\n",
       "  </thead>\n",
       "  <tbody>\n",
       "    <tr>\n",
       "      <th>755562</th>\n",
       "      <td>EOL:327955</td>\n",
       "      <td>EOL:327955 | INAT_TAXON:43584 | NBN:NHMSYS0000...</td>\n",
       "      <td>Homo sapiens</td>\n",
       "      <td>species</td>\n",
       "      <td>Animalia | Chordata | Mammalia | Primates | Ho...</td>\n",
       "      <td>EOL:1 | EOL:694 | EOL:1642 | EOL:1645 | EOL:16...</td>\n",
       "      <td>kingdom | phylum | class | order | family | ge...</td>\n",
       "      <td>Homo sapiens</td>\n",
       "      <td>EOL:327955</td>\n",
       "      <td>Homo</td>\n",
       "      <td>...</td>\n",
       "      <td>Barro Colorado Island, Panama</td>\n",
       "      <td>NaN</td>\n",
       "      <td>Worthington, A. 1989. Adaptations for avian fr...</td>\n",
       "      <td>10.1007/BF00379040.</td>\n",
       "      <td>NaN</td>\n",
       "      <td>F. Gabriel. Muñoz. 2017. Palm-Animal frugivore...</td>\n",
       "      <td>fgabriel1891/Plant-Frugivore-Interactions-Sout...</td>\n",
       "      <td>https://github.com/fgabriel1891/Plant-Frugivor...</td>\n",
       "      <td>NaN</td>\n",
       "      <td>2018-11-14T23:08:24.277Z</td>\n",
       "    </tr>\n",
       "    <tr>\n",
       "      <th>756855</th>\n",
       "      <td>EOL:327955</td>\n",
       "      <td>EOL:327955 | INAT_TAXON:43584 | NBN:NHMSYS0000...</td>\n",
       "      <td>Homo sapiens</td>\n",
       "      <td>species</td>\n",
       "      <td>Animalia | Chordata | Mammalia | Primates | Ho...</td>\n",
       "      <td>EOL:1 | EOL:694 | EOL:1642 | EOL:1645 | EOL:16...</td>\n",
       "      <td>kingdom | phylum | class | order | family | ge...</td>\n",
       "      <td>Homo sapiens</td>\n",
       "      <td>EOL:327955</td>\n",
       "      <td>Homo</td>\n",
       "      <td>...</td>\n",
       "      <td>Mizoram, India</td>\n",
       "      <td>NaN</td>\n",
       "      <td>Hazarika, T.k. Lalramchuana. Nautiyal. B.P. 20...</td>\n",
       "      <td>10.1007/s10722-012-9799-5</td>\n",
       "      <td>NaN</td>\n",
       "      <td>F. Gabriel. Muñoz. 2017. Palm-Animal frugivore...</td>\n",
       "      <td>fgabriel1891/Plant-Frugivore-Interactions-Sout...</td>\n",
       "      <td>https://github.com/fgabriel1891/Plant-Frugivor...</td>\n",
       "      <td>NaN</td>\n",
       "      <td>2018-11-14T23:08:24.277Z</td>\n",
       "    </tr>\n",
       "    <tr>\n",
       "      <th>756856</th>\n",
       "      <td>EOL:327955</td>\n",
       "      <td>EOL:327955 | INAT_TAXON:43584 | NBN:NHMSYS0000...</td>\n",
       "      <td>Homo sapiens</td>\n",
       "      <td>species</td>\n",
       "      <td>Animalia | Chordata | Mammalia | Primates | Ho...</td>\n",
       "      <td>EOL:1 | EOL:694 | EOL:1642 | EOL:1645 | EOL:16...</td>\n",
       "      <td>kingdom | phylum | class | order | family | ge...</td>\n",
       "      <td>Homo sapiens</td>\n",
       "      <td>EOL:327955</td>\n",
       "      <td>Homo</td>\n",
       "      <td>...</td>\n",
       "      <td>Mizoram, India</td>\n",
       "      <td>NaN</td>\n",
       "      <td>Hazarika, T.k. Lalramchuana. Nautiyal. B.P. 20...</td>\n",
       "      <td>10.1007/s10722-012-9799-5</td>\n",
       "      <td>NaN</td>\n",
       "      <td>F. Gabriel. Muñoz. 2017. Palm-Animal frugivore...</td>\n",
       "      <td>fgabriel1891/Plant-Frugivore-Interactions-Sout...</td>\n",
       "      <td>https://github.com/fgabriel1891/Plant-Frugivor...</td>\n",
       "      <td>NaN</td>\n",
       "      <td>2018-11-14T23:08:24.277Z</td>\n",
       "    </tr>\n",
       "    <tr>\n",
       "      <th>756857</th>\n",
       "      <td>EOL:327955</td>\n",
       "      <td>EOL:327955 | INAT_TAXON:43584 | NBN:NHMSYS0000...</td>\n",
       "      <td>Homo sapiens</td>\n",
       "      <td>species</td>\n",
       "      <td>Animalia | Chordata | Mammalia | Primates | Ho...</td>\n",
       "      <td>EOL:1 | EOL:694 | EOL:1642 | EOL:1645 | EOL:16...</td>\n",
       "      <td>kingdom | phylum | class | order | family | ge...</td>\n",
       "      <td>Homo sapiens</td>\n",
       "      <td>EOL:327955</td>\n",
       "      <td>Homo</td>\n",
       "      <td>...</td>\n",
       "      <td>Mizoram, India</td>\n",
       "      <td>NaN</td>\n",
       "      <td>Hazarika, T.k. Lalramchuana. Nautiyal. B.P. 20...</td>\n",
       "      <td>10.1007/s10722-012-9799-5</td>\n",
       "      <td>NaN</td>\n",
       "      <td>F. Gabriel. Muñoz. 2017. Palm-Animal frugivore...</td>\n",
       "      <td>fgabriel1891/Plant-Frugivore-Interactions-Sout...</td>\n",
       "      <td>https://github.com/fgabriel1891/Plant-Frugivor...</td>\n",
       "      <td>NaN</td>\n",
       "      <td>2018-11-14T23:08:24.277Z</td>\n",
       "    </tr>\n",
       "    <tr>\n",
       "      <th>756858</th>\n",
       "      <td>EOL:327955</td>\n",
       "      <td>EOL:327955 | INAT_TAXON:43584 | NBN:NHMSYS0000...</td>\n",
       "      <td>Homo sapiens</td>\n",
       "      <td>species</td>\n",
       "      <td>Animalia | Chordata | Mammalia | Primates | Ho...</td>\n",
       "      <td>EOL:1 | EOL:694 | EOL:1642 | EOL:1645 | EOL:16...</td>\n",
       "      <td>kingdom | phylum | class | order | family | ge...</td>\n",
       "      <td>Homo sapiens</td>\n",
       "      <td>EOL:327955</td>\n",
       "      <td>Homo</td>\n",
       "      <td>...</td>\n",
       "      <td>Mizoram, India</td>\n",
       "      <td>NaN</td>\n",
       "      <td>Hazarika, T.k. Lalramchuana. Nautiyal. B.P. 20...</td>\n",
       "      <td>10.1007/s10722-012-9799-5</td>\n",
       "      <td>NaN</td>\n",
       "      <td>F. Gabriel. Muñoz. 2017. Palm-Animal frugivore...</td>\n",
       "      <td>fgabriel1891/Plant-Frugivore-Interactions-Sout...</td>\n",
       "      <td>https://github.com/fgabriel1891/Plant-Frugivor...</td>\n",
       "      <td>NaN</td>\n",
       "      <td>2018-11-14T23:08:24.277Z</td>\n",
       "    </tr>\n",
       "  </tbody>\n",
       "</table>\n",
       "<p>5 rows × 79 columns</p>\n",
       "</div>"
      ],
      "text/plain": [
       "       sourceTaxonId                                     sourceTaxonIds  \\\n",
       "755562    EOL:327955  EOL:327955 | INAT_TAXON:43584 | NBN:NHMSYS0000...   \n",
       "756855    EOL:327955  EOL:327955 | INAT_TAXON:43584 | NBN:NHMSYS0000...   \n",
       "756856    EOL:327955  EOL:327955 | INAT_TAXON:43584 | NBN:NHMSYS0000...   \n",
       "756857    EOL:327955  EOL:327955 | INAT_TAXON:43584 | NBN:NHMSYS0000...   \n",
       "756858    EOL:327955  EOL:327955 | INAT_TAXON:43584 | NBN:NHMSYS0000...   \n",
       "\n",
       "       sourceTaxonName sourceTaxonRank  \\\n",
       "755562    Homo sapiens         species   \n",
       "756855    Homo sapiens         species   \n",
       "756856    Homo sapiens         species   \n",
       "756857    Homo sapiens         species   \n",
       "756858    Homo sapiens         species   \n",
       "\n",
       "                                     sourceTaxonPathNames  \\\n",
       "755562  Animalia | Chordata | Mammalia | Primates | Ho...   \n",
       "756855  Animalia | Chordata | Mammalia | Primates | Ho...   \n",
       "756856  Animalia | Chordata | Mammalia | Primates | Ho...   \n",
       "756857  Animalia | Chordata | Mammalia | Primates | Ho...   \n",
       "756858  Animalia | Chordata | Mammalia | Primates | Ho...   \n",
       "\n",
       "                                       sourceTaxonPathIds  \\\n",
       "755562  EOL:1 | EOL:694 | EOL:1642 | EOL:1645 | EOL:16...   \n",
       "756855  EOL:1 | EOL:694 | EOL:1642 | EOL:1645 | EOL:16...   \n",
       "756856  EOL:1 | EOL:694 | EOL:1642 | EOL:1645 | EOL:16...   \n",
       "756857  EOL:1 | EOL:694 | EOL:1642 | EOL:1645 | EOL:16...   \n",
       "756858  EOL:1 | EOL:694 | EOL:1642 | EOL:1645 | EOL:16...   \n",
       "\n",
       "                                 sourceTaxonPathRankNames  \\\n",
       "755562  kingdom | phylum | class | order | family | ge...   \n",
       "756855  kingdom | phylum | class | order | family | ge...   \n",
       "756856  kingdom | phylum | class | order | family | ge...   \n",
       "756857  kingdom | phylum | class | order | family | ge...   \n",
       "756858  kingdom | phylum | class | order | family | ge...   \n",
       "\n",
       "       sourceTaxonSpeciesName sourceTaxonSpeciesId sourceTaxonGenusName  \\\n",
       "755562           Homo sapiens           EOL:327955                 Homo   \n",
       "756855           Homo sapiens           EOL:327955                 Homo   \n",
       "756856           Homo sapiens           EOL:327955                 Homo   \n",
       "756857           Homo sapiens           EOL:327955                 Homo   \n",
       "756858           Homo sapiens           EOL:327955                 Homo   \n",
       "\n",
       "                  ...                              localityName  \\\n",
       "755562            ...             Barro Colorado Island, Panama   \n",
       "756855            ...                            Mizoram, India   \n",
       "756856            ...                            Mizoram, India   \n",
       "756857            ...                            Mizoram, India   \n",
       "756858            ...                            Mizoram, India   \n",
       "\n",
       "       eventDateUnixEpoch                                  referenceCitation  \\\n",
       "755562                NaN  Worthington, A. 1989. Adaptations for avian fr...   \n",
       "756855                NaN  Hazarika, T.k. Lalramchuana. Nautiyal. B.P. 20...   \n",
       "756856                NaN  Hazarika, T.k. Lalramchuana. Nautiyal. B.P. 20...   \n",
       "756857                NaN  Hazarika, T.k. Lalramchuana. Nautiyal. B.P. 20...   \n",
       "756858                NaN  Hazarika, T.k. Lalramchuana. Nautiyal. B.P. 20...   \n",
       "\n",
       "                     referenceDoi referenceUrl  \\\n",
       "755562        10.1007/BF00379040.          NaN   \n",
       "756855  10.1007/s10722-012-9799-5          NaN   \n",
       "756856  10.1007/s10722-012-9799-5          NaN   \n",
       "756857  10.1007/s10722-012-9799-5          NaN   \n",
       "756858  10.1007/s10722-012-9799-5          NaN   \n",
       "\n",
       "                                           sourceCitation  \\\n",
       "755562  F. Gabriel. Muñoz. 2017. Palm-Animal frugivore...   \n",
       "756855  F. Gabriel. Muñoz. 2017. Palm-Animal frugivore...   \n",
       "756856  F. Gabriel. Muñoz. 2017. Palm-Animal frugivore...   \n",
       "756857  F. Gabriel. Muñoz. 2017. Palm-Animal frugivore...   \n",
       "756858  F. Gabriel. Muñoz. 2017. Palm-Animal frugivore...   \n",
       "\n",
       "                                          sourceNamespace  \\\n",
       "755562  fgabriel1891/Plant-Frugivore-Interactions-Sout...   \n",
       "756855  fgabriel1891/Plant-Frugivore-Interactions-Sout...   \n",
       "756856  fgabriel1891/Plant-Frugivore-Interactions-Sout...   \n",
       "756857  fgabriel1891/Plant-Frugivore-Interactions-Sout...   \n",
       "756858  fgabriel1891/Plant-Frugivore-Interactions-Sout...   \n",
       "\n",
       "                                         sourceArchiveURI sourceDOI  \\\n",
       "755562  https://github.com/fgabriel1891/Plant-Frugivor...       NaN   \n",
       "756855  https://github.com/fgabriel1891/Plant-Frugivor...       NaN   \n",
       "756856  https://github.com/fgabriel1891/Plant-Frugivor...       NaN   \n",
       "756857  https://github.com/fgabriel1891/Plant-Frugivor...       NaN   \n",
       "756858  https://github.com/fgabriel1891/Plant-Frugivor...       NaN   \n",
       "\n",
       "       sourceLastSeenAtUnixEpoch  \n",
       "755562  2018-11-14T23:08:24.277Z  \n",
       "756855  2018-11-14T23:08:24.277Z  \n",
       "756856  2018-11-14T23:08:24.277Z  \n",
       "756857  2018-11-14T23:08:24.277Z  \n",
       "756858  2018-11-14T23:08:24.277Z  \n",
       "\n",
       "[5 rows x 79 columns]"
      ]
     },
     "execution_count": 11,
     "metadata": {},
     "output_type": "execute_result"
    }
   ],
   "source": [
    "hs_eats_data.head()"
   ]
  },
  {
   "cell_type": "code",
   "execution_count": 12,
   "metadata": {},
   "outputs": [
    {
     "data": {
      "text/plain": [
       "379"
      ]
     },
     "execution_count": 12,
     "metadata": {},
     "output_type": "execute_result"
    }
   ],
   "source": [
    "len(hs_eats_data)"
   ]
  },
  {
   "cell_type": "code",
   "execution_count": 13,
   "metadata": {},
   "outputs": [
    {
     "data": {
      "text/html": [
       "<div>\n",
       "<style scoped>\n",
       "    .dataframe tbody tr th:only-of-type {\n",
       "        vertical-align: middle;\n",
       "    }\n",
       "\n",
       "    .dataframe tbody tr th {\n",
       "        vertical-align: top;\n",
       "    }\n",
       "\n",
       "    .dataframe thead th {\n",
       "        text-align: right;\n",
       "    }\n",
       "</style>\n",
       "<table border=\"1\" class=\"dataframe\">\n",
       "  <thead>\n",
       "    <tr style=\"text-align: right;\">\n",
       "      <th></th>\n",
       "      <th>targetTaxonId</th>\n",
       "      <th>targetTaxonName</th>\n",
       "      <th>targetTaxonPathNames</th>\n",
       "      <th>targetTaxonPathIds</th>\n",
       "      <th>targetTaxonPathRankNames</th>\n",
       "      <th>targetTaxonSpeciesName</th>\n",
       "      <th>targetTaxonSpeciesId</th>\n",
       "      <th>targetTaxonGenusName</th>\n",
       "      <th>targetTaxonGenusId</th>\n",
       "      <th>targetTaxonFamilyName</th>\n",
       "      <th>targetTaxonFamilyId</th>\n",
       "      <th>targetTaxonOrderName</th>\n",
       "      <th>targetTaxonOrderId</th>\n",
       "      <th>targetTaxonClassName</th>\n",
       "      <th>targetTaxonClassId</th>\n",
       "      <th>targetTaxonPhylumName</th>\n",
       "      <th>targetTaxonPhylumId</th>\n",
       "      <th>targetTaxonKingdomName</th>\n",
       "      <th>targetTaxonKingdomId</th>\n",
       "    </tr>\n",
       "  </thead>\n",
       "  <tbody>\n",
       "    <tr>\n",
       "      <th>755562</th>\n",
       "      <td>EOL:1142757</td>\n",
       "      <td>Hyphaene petersiana</td>\n",
       "      <td>Plantae | Tracheophyta | Liliopsida | Arecales...</td>\n",
       "      <td>EOL:281 | EOL:4077 | EOL:4074 | EOL:8192 | EOL...</td>\n",
       "      <td>kingdom | phylum | class | order | family | ge...</td>\n",
       "      <td>Hyphaene petersiana</td>\n",
       "      <td>EOL:1142757</td>\n",
       "      <td>Hyphaene</td>\n",
       "      <td>EOL:29186</td>\n",
       "      <td>Arecaceae</td>\n",
       "      <td>EOL:8193</td>\n",
       "      <td>Arecales</td>\n",
       "      <td>EOL:8192</td>\n",
       "      <td>Liliopsida</td>\n",
       "      <td>EOL:4074</td>\n",
       "      <td>Tracheophyta</td>\n",
       "      <td>EOL:4077</td>\n",
       "      <td>Plantae</td>\n",
       "      <td>EOL:281</td>\n",
       "    </tr>\n",
       "    <tr>\n",
       "      <th>756856</th>\n",
       "      <td>EOL:2508660</td>\n",
       "      <td>Syzygium cumini</td>\n",
       "      <td>Plantae | Tracheophyta | Magnoliopsida | Myrta...</td>\n",
       "      <td>EOL:281 | EOL:4077 | EOL:283 | EOL:4328 | EOL:...</td>\n",
       "      <td>kingdom | phylum | class | order | family | ge...</td>\n",
       "      <td>Syzygium cumini</td>\n",
       "      <td>EOL:2508660</td>\n",
       "      <td>Syzygium</td>\n",
       "      <td>EOL:2508658</td>\n",
       "      <td>Myrtaceae</td>\n",
       "      <td>EOL:8095</td>\n",
       "      <td>Myrtales</td>\n",
       "      <td>EOL:4328</td>\n",
       "      <td>Magnoliopsida</td>\n",
       "      <td>EOL:283</td>\n",
       "      <td>Tracheophyta</td>\n",
       "      <td>EOL:4077</td>\n",
       "      <td>Plantae</td>\n",
       "      <td>EOL:281</td>\n",
       "    </tr>\n",
       "    <tr>\n",
       "      <th>756857</th>\n",
       "      <td>EOL:4263</td>\n",
       "      <td>Styracaceae</td>\n",
       "      <td>Plantae | Tracheophyta | Magnoliopsida | Erica...</td>\n",
       "      <td>EOL:281 | EOL:4077 | EOL:283 | EOL:4186 | EOL:...</td>\n",
       "      <td>kingdom | phylum | class | order | family</td>\n",
       "      <td>NaN</td>\n",
       "      <td>NaN</td>\n",
       "      <td>NaN</td>\n",
       "      <td>NaN</td>\n",
       "      <td>Styracaceae</td>\n",
       "      <td>EOL:4263</td>\n",
       "      <td>Ericales</td>\n",
       "      <td>EOL:4186</td>\n",
       "      <td>Magnoliopsida</td>\n",
       "      <td>EOL:283</td>\n",
       "      <td>Tracheophyta</td>\n",
       "      <td>EOL:4077</td>\n",
       "      <td>Plantae</td>\n",
       "      <td>EOL:281</td>\n",
       "    </tr>\n",
       "    <tr>\n",
       "      <th>756858</th>\n",
       "      <td>EOL:2888768</td>\n",
       "      <td>Spondias pinnata</td>\n",
       "      <td>Plantae | Tracheophyta | Magnoliopsida | Sapin...</td>\n",
       "      <td>EOL:281 | EOL:4077 | EOL:283 | EOL:4311 | EOL:...</td>\n",
       "      <td>kingdom | phylum | class | order | family | ge...</td>\n",
       "      <td>Spondias pinnata</td>\n",
       "      <td>EOL:2888768</td>\n",
       "      <td>Spondias</td>\n",
       "      <td>EOL:61097</td>\n",
       "      <td>Anacardiaceae</td>\n",
       "      <td>EOL:4410</td>\n",
       "      <td>Sapindales</td>\n",
       "      <td>EOL:4311</td>\n",
       "      <td>Magnoliopsida</td>\n",
       "      <td>EOL:283</td>\n",
       "      <td>Tracheophyta</td>\n",
       "      <td>EOL:4077</td>\n",
       "      <td>Plantae</td>\n",
       "      <td>EOL:281</td>\n",
       "    </tr>\n",
       "    <tr>\n",
       "      <th>756859</th>\n",
       "      <td>EOL:1082661</td>\n",
       "      <td>Smilax ovalifolia</td>\n",
       "      <td>Plantae | Tracheophyta | Liliopsida | Liliales...</td>\n",
       "      <td>EOL:281 | EOL:4077 | EOL:4074 | EOL:4173 | EOL...</td>\n",
       "      <td>kingdom | phylum | class | order | family | ge...</td>\n",
       "      <td>Smilax ovalifolia</td>\n",
       "      <td>EOL:1082661</td>\n",
       "      <td>Smilax</td>\n",
       "      <td>EOL:107257</td>\n",
       "      <td>Smilacaceae</td>\n",
       "      <td>EOL:8171</td>\n",
       "      <td>Liliales</td>\n",
       "      <td>EOL:4173</td>\n",
       "      <td>Liliopsida</td>\n",
       "      <td>EOL:4074</td>\n",
       "      <td>Tracheophyta</td>\n",
       "      <td>EOL:4077</td>\n",
       "      <td>Plantae</td>\n",
       "      <td>EOL:281</td>\n",
       "    </tr>\n",
       "  </tbody>\n",
       "</table>\n",
       "</div>"
      ],
      "text/plain": [
       "       targetTaxonId      targetTaxonName  \\\n",
       "755562   EOL:1142757  Hyphaene petersiana   \n",
       "756856   EOL:2508660      Syzygium cumini   \n",
       "756857      EOL:4263          Styracaceae   \n",
       "756858   EOL:2888768     Spondias pinnata   \n",
       "756859   EOL:1082661    Smilax ovalifolia   \n",
       "\n",
       "                                     targetTaxonPathNames  \\\n",
       "755562  Plantae | Tracheophyta | Liliopsida | Arecales...   \n",
       "756856  Plantae | Tracheophyta | Magnoliopsida | Myrta...   \n",
       "756857  Plantae | Tracheophyta | Magnoliopsida | Erica...   \n",
       "756858  Plantae | Tracheophyta | Magnoliopsida | Sapin...   \n",
       "756859  Plantae | Tracheophyta | Liliopsida | Liliales...   \n",
       "\n",
       "                                       targetTaxonPathIds  \\\n",
       "755562  EOL:281 | EOL:4077 | EOL:4074 | EOL:8192 | EOL...   \n",
       "756856  EOL:281 | EOL:4077 | EOL:283 | EOL:4328 | EOL:...   \n",
       "756857  EOL:281 | EOL:4077 | EOL:283 | EOL:4186 | EOL:...   \n",
       "756858  EOL:281 | EOL:4077 | EOL:283 | EOL:4311 | EOL:...   \n",
       "756859  EOL:281 | EOL:4077 | EOL:4074 | EOL:4173 | EOL...   \n",
       "\n",
       "                                 targetTaxonPathRankNames  \\\n",
       "755562  kingdom | phylum | class | order | family | ge...   \n",
       "756856  kingdom | phylum | class | order | family | ge...   \n",
       "756857          kingdom | phylum | class | order | family   \n",
       "756858  kingdom | phylum | class | order | family | ge...   \n",
       "756859  kingdom | phylum | class | order | family | ge...   \n",
       "\n",
       "       targetTaxonSpeciesName targetTaxonSpeciesId targetTaxonGenusName  \\\n",
       "755562    Hyphaene petersiana          EOL:1142757             Hyphaene   \n",
       "756856        Syzygium cumini          EOL:2508660             Syzygium   \n",
       "756857                    NaN                  NaN                  NaN   \n",
       "756858       Spondias pinnata          EOL:2888768             Spondias   \n",
       "756859      Smilax ovalifolia          EOL:1082661               Smilax   \n",
       "\n",
       "       targetTaxonGenusId targetTaxonFamilyName targetTaxonFamilyId  \\\n",
       "755562          EOL:29186             Arecaceae            EOL:8193   \n",
       "756856        EOL:2508658             Myrtaceae            EOL:8095   \n",
       "756857                NaN           Styracaceae            EOL:4263   \n",
       "756858          EOL:61097         Anacardiaceae            EOL:4410   \n",
       "756859         EOL:107257           Smilacaceae            EOL:8171   \n",
       "\n",
       "       targetTaxonOrderName targetTaxonOrderId targetTaxonClassName  \\\n",
       "755562             Arecales           EOL:8192           Liliopsida   \n",
       "756856             Myrtales           EOL:4328        Magnoliopsida   \n",
       "756857             Ericales           EOL:4186        Magnoliopsida   \n",
       "756858           Sapindales           EOL:4311        Magnoliopsida   \n",
       "756859             Liliales           EOL:4173           Liliopsida   \n",
       "\n",
       "       targetTaxonClassId targetTaxonPhylumName targetTaxonPhylumId  \\\n",
       "755562           EOL:4074          Tracheophyta            EOL:4077   \n",
       "756856            EOL:283          Tracheophyta            EOL:4077   \n",
       "756857            EOL:283          Tracheophyta            EOL:4077   \n",
       "756858            EOL:283          Tracheophyta            EOL:4077   \n",
       "756859           EOL:4074          Tracheophyta            EOL:4077   \n",
       "\n",
       "       targetTaxonKingdomName targetTaxonKingdomId  \n",
       "755562                Plantae              EOL:281  \n",
       "756856                Plantae              EOL:281  \n",
       "756857                Plantae              EOL:281  \n",
       "756858                Plantae              EOL:281  \n",
       "756859                Plantae              EOL:281  "
      ]
     },
     "execution_count": 13,
     "metadata": {},
     "output_type": "execute_result"
    }
   ],
   "source": [
    "#Drop missing values\n",
    "target_hs_eats = hs_eats_data[['targetTaxonId',\n",
    "       'targetTaxonName','targetTaxonPathNames',\n",
    "       'targetTaxonPathIds', 'targetTaxonPathRankNames',\n",
    "       'targetTaxonSpeciesName', 'targetTaxonSpeciesId',\n",
    "       'targetTaxonGenusName', 'targetTaxonGenusId', 'targetTaxonFamilyName',\n",
    "       'targetTaxonFamilyId', 'targetTaxonOrderName', 'targetTaxonOrderId',\n",
    "       'targetTaxonClassName', 'targetTaxonClassId', 'targetTaxonPhylumName',\n",
    "       'targetTaxonPhylumId', 'targetTaxonKingdomName', 'targetTaxonKingdomId']].dropna(subset=['targetTaxonId',\n",
    "       'targetTaxonName','targetTaxonPathNames','targetTaxonPathIds'])\n",
    "target_hs_eats.head()"
   ]
  },
  {
   "cell_type": "code",
   "execution_count": 14,
   "metadata": {},
   "outputs": [
    {
     "data": {
      "text/plain": [
       "304"
      ]
     },
     "execution_count": 14,
     "metadata": {},
     "output_type": "execute_result"
    }
   ],
   "source": [
    "len(target_hs_eats)"
   ]
  },
  {
   "cell_type": "code",
   "execution_count": 15,
   "metadata": {},
   "outputs": [
    {
     "data": {
      "text/plain": [
       "targetTaxonClassName\n",
       "Mammalia           102\n",
       "Magnoliopsida       52\n",
       "Actinopterygii      49\n",
       "Aves                26\n",
       "Bivalvia            19\n",
       "Liliopsida           8\n",
       "Malacostraca         7\n",
       "Gastropoda           5\n",
       "Reptilia             4\n",
       "Elasmobranchii       3\n",
       "Ascidiacea           3\n",
       "Insecta              3\n",
       "Anthozoa             2\n",
       "Holothuroidea        2\n",
       "Cephalopoda          2\n",
       "Anopla               1\n",
       "Bangiophyceae        1\n",
       "Ulvophyceae          1\n",
       "Chondrichthyes       1\n",
       "Chrysophyceae        1\n",
       "Dothideomycetes      1\n",
       "Teleostei            1\n",
       "Phaeophyceae         1\n",
       "Echinoidea           1\n",
       "dtype: int64"
      ]
     },
     "execution_count": 15,
     "metadata": {},
     "output_type": "execute_result"
    }
   ],
   "source": [
    "target_hs_eats.groupby(target_hs_eats['targetTaxonClassName']).size().sort_values(ascending = False)"
   ]
  },
  {
   "cell_type": "markdown",
   "metadata": {},
   "source": [
    "Above all, we have found a list of top target classes of 'Homo sapiens' for interactiontype 'eats'.   \n",
    "Similarly, we could get a list of any rank for any source taxon and any interactiontype by the following function 'find_top_target':  "
   ]
  },
  {
   "cell_type": "code",
   "execution_count": 16,
   "metadata": {
    "collapsed": true
   },
   "outputs": [],
   "source": [
    "def find_top_target(source, interaction_type, rank):\n",
    "    \"\"\" Function that takes inputs of interests and finds corresponding top targets.\n",
    "    Args:\n",
    "        source: the source taxon that we are interested in, can be in any level.\n",
    "        interaction_type: the interaction type that we are interested in, \n",
    "                          should be consistent with the names of interaction types from tsv.file.\n",
    "        rank: the level of target taxon that we are interested in, \n",
    "              should be consistent with the column names of tsv.file, such as 'targetTaxonFamilyName', 'targetTaxonOrderName', \n",
    "              'targetTaxonClassName'...\n",
    "    Returns:\n",
    "        The top target taxons in certain rank for certain source taxon and certain interaction type, \n",
    "        in descending order of number of records.\n",
    "    \"\"\"\n",
    "    d = data[data['sourceTaxonName'] == source]\n",
    "    interacts_d = d[d['interactionTypeName'] == interaction_type]\n",
    "    interacts_d_cleaned = interacts_d[['targetTaxonId',\n",
    "       'targetTaxonName','targetTaxonPathNames',\n",
    "       'targetTaxonPathIds', 'targetTaxonPathRankNames',\n",
    "       'targetTaxonSpeciesName', 'targetTaxonSpeciesId',\n",
    "       'targetTaxonGenusName', 'targetTaxonGenusId', 'targetTaxonFamilyName',\n",
    "       'targetTaxonFamilyId', 'targetTaxonOrderName', 'targetTaxonOrderId',\n",
    "       'targetTaxonClassName', 'targetTaxonClassId', 'targetTaxonPhylumName',\n",
    "       'targetTaxonPhylumId', 'targetTaxonKingdomName', 'targetTaxonKingdomId']].dropna(subset=['targetTaxonId',\n",
    "       'targetTaxonName','targetTaxonPathNames','targetTaxonPathIds'])\n",
    "    return interacts_d_cleaned.groupby(interacts_d_cleaned[rank]).size().sort_values(ascending = False)"
   ]
  },
  {
   "cell_type": "markdown",
   "metadata": {},
   "source": [
    "Examples:"
   ]
  },
  {
   "cell_type": "code",
   "execution_count": 17,
   "metadata": {
    "scrolled": true
   },
   "outputs": [
    {
     "data": {
      "text/plain": [
       "targetTaxonClassName\n",
       "Mammalia           102\n",
       "Magnoliopsida       52\n",
       "Actinopterygii      49\n",
       "Aves                26\n",
       "Bivalvia            19\n",
       "Liliopsida           8\n",
       "Malacostraca         7\n",
       "Gastropoda           5\n",
       "Reptilia             4\n",
       "Elasmobranchii       3\n",
       "Ascidiacea           3\n",
       "Insecta              3\n",
       "Anthozoa             2\n",
       "Holothuroidea        2\n",
       "Cephalopoda          2\n",
       "Anopla               1\n",
       "Bangiophyceae        1\n",
       "Ulvophyceae          1\n",
       "Chondrichthyes       1\n",
       "Chrysophyceae        1\n",
       "Dothideomycetes      1\n",
       "Teleostei            1\n",
       "Phaeophyceae         1\n",
       "Echinoidea           1\n",
       "dtype: int64"
      ]
     },
     "execution_count": 17,
     "metadata": {},
     "output_type": "execute_result"
    }
   ],
   "source": [
    "#Find top target taxons in Class for homo sapiens with interaction type 'eats'\n",
    "find_top_target('Homo sapiens', 'eats', 'targetTaxonClassName')"
   ]
  },
  {
   "cell_type": "code",
   "execution_count": 18,
   "metadata": {},
   "outputs": [
    {
     "data": {
      "text/plain": [
       "targetTaxonFamilyName\n",
       "Ixodidae              11\n",
       "Diphyllobothriidae     4\n",
       "Rhopalopsyllidae       3\n",
       "Pulicidae              3\n",
       "Trombiculidae          1\n",
       "Taeniidae              1\n",
       "Pediculidae            1\n",
       "Oxyuridae              1\n",
       "Echinorhynchidae       1\n",
       "dtype: int64"
      ]
     },
     "execution_count": 18,
     "metadata": {},
     "output_type": "execute_result"
    }
   ],
   "source": [
    "#Find top target taxons in Family for homo sapiens with interaction type 'hostOf'\n",
    "find_top_target('Homo sapiens', 'hostOf', 'targetTaxonFamilyName')"
   ]
  },
  {
   "cell_type": "markdown",
   "metadata": {},
   "source": [
    "#### Instead of inputting a source species, what if we input a source in other levels like class or family?"
   ]
  },
  {
   "cell_type": "code",
   "execution_count": 20,
   "metadata": {},
   "outputs": [
    {
     "data": {
      "text/plain": [
       "targetTaxonClassName\n",
       "Actinopterygii    7\n",
       "Cephalopoda       1\n",
       "dtype: int64"
      ]
     },
     "execution_count": 20,
     "metadata": {},
     "output_type": "execute_result"
    }
   ],
   "source": [
    "#Find top target taxons in Class for Actinopterygii with interaction type 'preysOn'\n",
    "find_top_target('Actinopterygii', 'preysOn', 'targetTaxonClassName')"
   ]
  },
  {
   "cell_type": "markdown",
   "metadata": {},
   "source": [
    "Here, the source 'Actinopterygii' itself is in Class level.   \n",
    "And we can see that the top target Class of 'Actinopterygii' preys on is also 'Actinopterygii', which means the species under 'Actinopterygii' always preys on species under same Class."
   ]
  },
  {
   "cell_type": "markdown",
   "metadata": {
    "collapsed": true
   },
   "source": [
    "### linked our results with wikipedia pages:"
   ]
  },
  {
   "cell_type": "markdown",
   "metadata": {},
   "source": [
    "If we want to know more about our result taxons, we can also link them with their wikipedia pages:  "
   ]
  },
  {
   "cell_type": "code",
   "execution_count": 97,
   "metadata": {
    "collapsed": true
   },
   "outputs": [],
   "source": [
    "def make_clickable_both(val): \n",
    "    name, url = val.split('#')\n",
    "    return f'<a href=\"{url}\">{name}</a>'"
   ]
  },
  {
   "cell_type": "code",
   "execution_count": 107,
   "metadata": {
    "collapsed": true
   },
   "outputs": [],
   "source": [
    "def wiki(source, interaction_type, rank):\n",
    "    \"\"\" Function that takes inputs of interests and finds corresponding top targets linked to their wikipedia pages.\n",
    "    Args:\n",
    "        source: the source taxon that we are interested in, can be in any level.\n",
    "        interaction_type: the interaction type that we are interested in, \n",
    "                          should be consistent with the names of interaction types from tsv.file.\n",
    "        rank: the level of target taxon that we are interested in, \n",
    "              should be consistent with the column names of tsv.file, such as 'targetTaxonFamilyName', 'targetTaxonOrderName', \n",
    "              'targetTaxonClassName'...\n",
    "    Returns:\n",
    "        The top target taxons in certain rank with clickable wikipedia links for certain source taxon and certain interaction type, \n",
    "        in descending order of number of records.\n",
    "    \"\"\"\n",
    "    top_targets = find_top_target(source, interaction_type, rank)\n",
    "    target_df = pd.DataFrame(top_targets)\n",
    "    target_df.columns = ['count']\n",
    "\n",
    "    urls = dict(name= list(target_df.index), \n",
    "    url= ['https://en.wikipedia.org/wiki/' + str(i) for i in list(target_df.index)])\n",
    "    target_df.index = [i + '#' + j for i,j in zip(urls['name'], urls['url'])]\n",
    "    index_list = list(target_df.index)\n",
    "    target_df.index =[make_clickable_both(i) for i in index_list]\n",
    "    df = target_df.style.format({'wiki': make_clickable_both})\n",
    "    \n",
    "    return df"
   ]
  },
  {
   "cell_type": "markdown",
   "metadata": {},
   "source": [
    "Examples:"
   ]
  },
  {
   "cell_type": "code",
   "execution_count": 109,
   "metadata": {},
   "outputs": [
    {
     "data": {
      "text/html": [
       "<style  type=\"text/css\" >\n",
       "</style>  \n",
       "<table id=\"T_08d5a9ca_f36b_11e8_bfa8_784f43a64dff\" > \n",
       "<thead>    <tr> \n",
       "        <th class=\"blank level0\" ></th> \n",
       "        <th class=\"col_heading level0 col0\" >count</th> \n",
       "    </tr></thead> \n",
       "<tbody>    <tr> \n",
       "        <th id=\"T_08d5a9ca_f36b_11e8_bfa8_784f43a64dfflevel0_row0\" class=\"row_heading level0 row0\" ><a href=\"https://en.wikipedia.org/wiki/Mammalia\">Mammalia</a></th> \n",
       "        <td id=\"T_08d5a9ca_f36b_11e8_bfa8_784f43a64dffrow0_col0\" class=\"data row0 col0\" >102</td> \n",
       "    </tr>    <tr> \n",
       "        <th id=\"T_08d5a9ca_f36b_11e8_bfa8_784f43a64dfflevel0_row1\" class=\"row_heading level0 row1\" ><a href=\"https://en.wikipedia.org/wiki/Magnoliopsida\">Magnoliopsida</a></th> \n",
       "        <td id=\"T_08d5a9ca_f36b_11e8_bfa8_784f43a64dffrow1_col0\" class=\"data row1 col0\" >52</td> \n",
       "    </tr>    <tr> \n",
       "        <th id=\"T_08d5a9ca_f36b_11e8_bfa8_784f43a64dfflevel0_row2\" class=\"row_heading level0 row2\" ><a href=\"https://en.wikipedia.org/wiki/Actinopterygii\">Actinopterygii</a></th> \n",
       "        <td id=\"T_08d5a9ca_f36b_11e8_bfa8_784f43a64dffrow2_col0\" class=\"data row2 col0\" >49</td> \n",
       "    </tr>    <tr> \n",
       "        <th id=\"T_08d5a9ca_f36b_11e8_bfa8_784f43a64dfflevel0_row3\" class=\"row_heading level0 row3\" ><a href=\"https://en.wikipedia.org/wiki/Aves\">Aves</a></th> \n",
       "        <td id=\"T_08d5a9ca_f36b_11e8_bfa8_784f43a64dffrow3_col0\" class=\"data row3 col0\" >26</td> \n",
       "    </tr>    <tr> \n",
       "        <th id=\"T_08d5a9ca_f36b_11e8_bfa8_784f43a64dfflevel0_row4\" class=\"row_heading level0 row4\" ><a href=\"https://en.wikipedia.org/wiki/Bivalvia\">Bivalvia</a></th> \n",
       "        <td id=\"T_08d5a9ca_f36b_11e8_bfa8_784f43a64dffrow4_col0\" class=\"data row4 col0\" >19</td> \n",
       "    </tr>    <tr> \n",
       "        <th id=\"T_08d5a9ca_f36b_11e8_bfa8_784f43a64dfflevel0_row5\" class=\"row_heading level0 row5\" ><a href=\"https://en.wikipedia.org/wiki/Liliopsida\">Liliopsida</a></th> \n",
       "        <td id=\"T_08d5a9ca_f36b_11e8_bfa8_784f43a64dffrow5_col0\" class=\"data row5 col0\" >8</td> \n",
       "    </tr>    <tr> \n",
       "        <th id=\"T_08d5a9ca_f36b_11e8_bfa8_784f43a64dfflevel0_row6\" class=\"row_heading level0 row6\" ><a href=\"https://en.wikipedia.org/wiki/Malacostraca\">Malacostraca</a></th> \n",
       "        <td id=\"T_08d5a9ca_f36b_11e8_bfa8_784f43a64dffrow6_col0\" class=\"data row6 col0\" >7</td> \n",
       "    </tr>    <tr> \n",
       "        <th id=\"T_08d5a9ca_f36b_11e8_bfa8_784f43a64dfflevel0_row7\" class=\"row_heading level0 row7\" ><a href=\"https://en.wikipedia.org/wiki/Gastropoda\">Gastropoda</a></th> \n",
       "        <td id=\"T_08d5a9ca_f36b_11e8_bfa8_784f43a64dffrow7_col0\" class=\"data row7 col0\" >5</td> \n",
       "    </tr>    <tr> \n",
       "        <th id=\"T_08d5a9ca_f36b_11e8_bfa8_784f43a64dfflevel0_row8\" class=\"row_heading level0 row8\" ><a href=\"https://en.wikipedia.org/wiki/Reptilia\">Reptilia</a></th> \n",
       "        <td id=\"T_08d5a9ca_f36b_11e8_bfa8_784f43a64dffrow8_col0\" class=\"data row8 col0\" >4</td> \n",
       "    </tr>    <tr> \n",
       "        <th id=\"T_08d5a9ca_f36b_11e8_bfa8_784f43a64dfflevel0_row9\" class=\"row_heading level0 row9\" ><a href=\"https://en.wikipedia.org/wiki/Elasmobranchii\">Elasmobranchii</a></th> \n",
       "        <td id=\"T_08d5a9ca_f36b_11e8_bfa8_784f43a64dffrow9_col0\" class=\"data row9 col0\" >3</td> \n",
       "    </tr>    <tr> \n",
       "        <th id=\"T_08d5a9ca_f36b_11e8_bfa8_784f43a64dfflevel0_row10\" class=\"row_heading level0 row10\" ><a href=\"https://en.wikipedia.org/wiki/Ascidiacea\">Ascidiacea</a></th> \n",
       "        <td id=\"T_08d5a9ca_f36b_11e8_bfa8_784f43a64dffrow10_col0\" class=\"data row10 col0\" >3</td> \n",
       "    </tr>    <tr> \n",
       "        <th id=\"T_08d5a9ca_f36b_11e8_bfa8_784f43a64dfflevel0_row11\" class=\"row_heading level0 row11\" ><a href=\"https://en.wikipedia.org/wiki/Insecta\">Insecta</a></th> \n",
       "        <td id=\"T_08d5a9ca_f36b_11e8_bfa8_784f43a64dffrow11_col0\" class=\"data row11 col0\" >3</td> \n",
       "    </tr>    <tr> \n",
       "        <th id=\"T_08d5a9ca_f36b_11e8_bfa8_784f43a64dfflevel0_row12\" class=\"row_heading level0 row12\" ><a href=\"https://en.wikipedia.org/wiki/Anthozoa\">Anthozoa</a></th> \n",
       "        <td id=\"T_08d5a9ca_f36b_11e8_bfa8_784f43a64dffrow12_col0\" class=\"data row12 col0\" >2</td> \n",
       "    </tr>    <tr> \n",
       "        <th id=\"T_08d5a9ca_f36b_11e8_bfa8_784f43a64dfflevel0_row13\" class=\"row_heading level0 row13\" ><a href=\"https://en.wikipedia.org/wiki/Holothuroidea\">Holothuroidea</a></th> \n",
       "        <td id=\"T_08d5a9ca_f36b_11e8_bfa8_784f43a64dffrow13_col0\" class=\"data row13 col0\" >2</td> \n",
       "    </tr>    <tr> \n",
       "        <th id=\"T_08d5a9ca_f36b_11e8_bfa8_784f43a64dfflevel0_row14\" class=\"row_heading level0 row14\" ><a href=\"https://en.wikipedia.org/wiki/Cephalopoda\">Cephalopoda</a></th> \n",
       "        <td id=\"T_08d5a9ca_f36b_11e8_bfa8_784f43a64dffrow14_col0\" class=\"data row14 col0\" >2</td> \n",
       "    </tr>    <tr> \n",
       "        <th id=\"T_08d5a9ca_f36b_11e8_bfa8_784f43a64dfflevel0_row15\" class=\"row_heading level0 row15\" ><a href=\"https://en.wikipedia.org/wiki/Anopla\">Anopla</a></th> \n",
       "        <td id=\"T_08d5a9ca_f36b_11e8_bfa8_784f43a64dffrow15_col0\" class=\"data row15 col0\" >1</td> \n",
       "    </tr>    <tr> \n",
       "        <th id=\"T_08d5a9ca_f36b_11e8_bfa8_784f43a64dfflevel0_row16\" class=\"row_heading level0 row16\" ><a href=\"https://en.wikipedia.org/wiki/Bangiophyceae\">Bangiophyceae</a></th> \n",
       "        <td id=\"T_08d5a9ca_f36b_11e8_bfa8_784f43a64dffrow16_col0\" class=\"data row16 col0\" >1</td> \n",
       "    </tr>    <tr> \n",
       "        <th id=\"T_08d5a9ca_f36b_11e8_bfa8_784f43a64dfflevel0_row17\" class=\"row_heading level0 row17\" ><a href=\"https://en.wikipedia.org/wiki/Ulvophyceae\">Ulvophyceae</a></th> \n",
       "        <td id=\"T_08d5a9ca_f36b_11e8_bfa8_784f43a64dffrow17_col0\" class=\"data row17 col0\" >1</td> \n",
       "    </tr>    <tr> \n",
       "        <th id=\"T_08d5a9ca_f36b_11e8_bfa8_784f43a64dfflevel0_row18\" class=\"row_heading level0 row18\" ><a href=\"https://en.wikipedia.org/wiki/Chondrichthyes\">Chondrichthyes</a></th> \n",
       "        <td id=\"T_08d5a9ca_f36b_11e8_bfa8_784f43a64dffrow18_col0\" class=\"data row18 col0\" >1</td> \n",
       "    </tr>    <tr> \n",
       "        <th id=\"T_08d5a9ca_f36b_11e8_bfa8_784f43a64dfflevel0_row19\" class=\"row_heading level0 row19\" ><a href=\"https://en.wikipedia.org/wiki/Chrysophyceae\">Chrysophyceae</a></th> \n",
       "        <td id=\"T_08d5a9ca_f36b_11e8_bfa8_784f43a64dffrow19_col0\" class=\"data row19 col0\" >1</td> \n",
       "    </tr>    <tr> \n",
       "        <th id=\"T_08d5a9ca_f36b_11e8_bfa8_784f43a64dfflevel0_row20\" class=\"row_heading level0 row20\" ><a href=\"https://en.wikipedia.org/wiki/Dothideomycetes\">Dothideomycetes</a></th> \n",
       "        <td id=\"T_08d5a9ca_f36b_11e8_bfa8_784f43a64dffrow20_col0\" class=\"data row20 col0\" >1</td> \n",
       "    </tr>    <tr> \n",
       "        <th id=\"T_08d5a9ca_f36b_11e8_bfa8_784f43a64dfflevel0_row21\" class=\"row_heading level0 row21\" ><a href=\"https://en.wikipedia.org/wiki/Teleostei\">Teleostei</a></th> \n",
       "        <td id=\"T_08d5a9ca_f36b_11e8_bfa8_784f43a64dffrow21_col0\" class=\"data row21 col0\" >1</td> \n",
       "    </tr>    <tr> \n",
       "        <th id=\"T_08d5a9ca_f36b_11e8_bfa8_784f43a64dfflevel0_row22\" class=\"row_heading level0 row22\" ><a href=\"https://en.wikipedia.org/wiki/Phaeophyceae\">Phaeophyceae</a></th> \n",
       "        <td id=\"T_08d5a9ca_f36b_11e8_bfa8_784f43a64dffrow22_col0\" class=\"data row22 col0\" >1</td> \n",
       "    </tr>    <tr> \n",
       "        <th id=\"T_08d5a9ca_f36b_11e8_bfa8_784f43a64dfflevel0_row23\" class=\"row_heading level0 row23\" ><a href=\"https://en.wikipedia.org/wiki/Echinoidea\">Echinoidea</a></th> \n",
       "        <td id=\"T_08d5a9ca_f36b_11e8_bfa8_784f43a64dffrow23_col0\" class=\"data row23 col0\" >1</td> \n",
       "    </tr></tbody> \n",
       "</table> "
      ],
      "text/plain": [
       "<pandas.io.formats.style.Styler at 0x10e9f67b8>"
      ]
     },
     "execution_count": 109,
     "metadata": {},
     "output_type": "execute_result"
    }
   ],
   "source": [
    "wiki('Homo sapiens', 'eats', 'targetTaxonClassName')"
   ]
  },
  {
   "cell_type": "code",
   "execution_count": 111,
   "metadata": {},
   "outputs": [
    {
     "data": {
      "text/html": [
       "<style  type=\"text/css\" >\n",
       "</style>  \n",
       "<table id=\"T_1ba26e46_f36b_11e8_ab1b_784f43a64dff\" > \n",
       "<thead>    <tr> \n",
       "        <th class=\"blank level0\" ></th> \n",
       "        <th class=\"col_heading level0 col0\" >count</th> \n",
       "    </tr></thead> \n",
       "<tbody>    <tr> \n",
       "        <th id=\"T_1ba26e46_f36b_11e8_ab1b_784f43a64dfflevel0_row0\" class=\"row_heading level0 row0\" ><a href=\"https://en.wikipedia.org/wiki/Ixodidae\">Ixodidae</a></th> \n",
       "        <td id=\"T_1ba26e46_f36b_11e8_ab1b_784f43a64dffrow0_col0\" class=\"data row0 col0\" >11</td> \n",
       "    </tr>    <tr> \n",
       "        <th id=\"T_1ba26e46_f36b_11e8_ab1b_784f43a64dfflevel0_row1\" class=\"row_heading level0 row1\" ><a href=\"https://en.wikipedia.org/wiki/Diphyllobothriidae\">Diphyllobothriidae</a></th> \n",
       "        <td id=\"T_1ba26e46_f36b_11e8_ab1b_784f43a64dffrow1_col0\" class=\"data row1 col0\" >4</td> \n",
       "    </tr>    <tr> \n",
       "        <th id=\"T_1ba26e46_f36b_11e8_ab1b_784f43a64dfflevel0_row2\" class=\"row_heading level0 row2\" ><a href=\"https://en.wikipedia.org/wiki/Rhopalopsyllidae\">Rhopalopsyllidae</a></th> \n",
       "        <td id=\"T_1ba26e46_f36b_11e8_ab1b_784f43a64dffrow2_col0\" class=\"data row2 col0\" >3</td> \n",
       "    </tr>    <tr> \n",
       "        <th id=\"T_1ba26e46_f36b_11e8_ab1b_784f43a64dfflevel0_row3\" class=\"row_heading level0 row3\" ><a href=\"https://en.wikipedia.org/wiki/Pulicidae\">Pulicidae</a></th> \n",
       "        <td id=\"T_1ba26e46_f36b_11e8_ab1b_784f43a64dffrow3_col0\" class=\"data row3 col0\" >3</td> \n",
       "    </tr>    <tr> \n",
       "        <th id=\"T_1ba26e46_f36b_11e8_ab1b_784f43a64dfflevel0_row4\" class=\"row_heading level0 row4\" ><a href=\"https://en.wikipedia.org/wiki/Trombiculidae\">Trombiculidae</a></th> \n",
       "        <td id=\"T_1ba26e46_f36b_11e8_ab1b_784f43a64dffrow4_col0\" class=\"data row4 col0\" >1</td> \n",
       "    </tr>    <tr> \n",
       "        <th id=\"T_1ba26e46_f36b_11e8_ab1b_784f43a64dfflevel0_row5\" class=\"row_heading level0 row5\" ><a href=\"https://en.wikipedia.org/wiki/Taeniidae\">Taeniidae</a></th> \n",
       "        <td id=\"T_1ba26e46_f36b_11e8_ab1b_784f43a64dffrow5_col0\" class=\"data row5 col0\" >1</td> \n",
       "    </tr>    <tr> \n",
       "        <th id=\"T_1ba26e46_f36b_11e8_ab1b_784f43a64dfflevel0_row6\" class=\"row_heading level0 row6\" ><a href=\"https://en.wikipedia.org/wiki/Pediculidae\">Pediculidae</a></th> \n",
       "        <td id=\"T_1ba26e46_f36b_11e8_ab1b_784f43a64dffrow6_col0\" class=\"data row6 col0\" >1</td> \n",
       "    </tr>    <tr> \n",
       "        <th id=\"T_1ba26e46_f36b_11e8_ab1b_784f43a64dfflevel0_row7\" class=\"row_heading level0 row7\" ><a href=\"https://en.wikipedia.org/wiki/Oxyuridae\">Oxyuridae</a></th> \n",
       "        <td id=\"T_1ba26e46_f36b_11e8_ab1b_784f43a64dffrow7_col0\" class=\"data row7 col0\" >1</td> \n",
       "    </tr>    <tr> \n",
       "        <th id=\"T_1ba26e46_f36b_11e8_ab1b_784f43a64dfflevel0_row8\" class=\"row_heading level0 row8\" ><a href=\"https://en.wikipedia.org/wiki/Echinorhynchidae\">Echinorhynchidae</a></th> \n",
       "        <td id=\"T_1ba26e46_f36b_11e8_ab1b_784f43a64dffrow8_col0\" class=\"data row8 col0\" >1</td> \n",
       "    </tr></tbody> \n",
       "</table> "
      ],
      "text/plain": [
       "<pandas.io.formats.style.Styler at 0x10ea65438>"
      ]
     },
     "execution_count": 111,
     "metadata": {},
     "output_type": "execute_result"
    }
   ],
   "source": [
    "wiki('Homo sapiens', 'hostOf', 'targetTaxonFamilyName')"
   ]
  },
  {
   "cell_type": "code",
   "execution_count": 110,
   "metadata": {
    "scrolled": true
   },
   "outputs": [
    {
     "data": {
      "text/html": [
       "<style  type=\"text/css\" >\n",
       "</style>  \n",
       "<table id=\"T_0a5feee8_f36b_11e8_b91d_784f43a64dff\" > \n",
       "<thead>    <tr> \n",
       "        <th class=\"blank level0\" ></th> \n",
       "        <th class=\"col_heading level0 col0\" >count</th> \n",
       "    </tr></thead> \n",
       "<tbody>    <tr> \n",
       "        <th id=\"T_0a5feee8_f36b_11e8_b91d_784f43a64dfflevel0_row0\" class=\"row_heading level0 row0\" ><a href=\"https://en.wikipedia.org/wiki/Actinopterygii\">Actinopterygii</a></th> \n",
       "        <td id=\"T_0a5feee8_f36b_11e8_b91d_784f43a64dffrow0_col0\" class=\"data row0 col0\" >7</td> \n",
       "    </tr>    <tr> \n",
       "        <th id=\"T_0a5feee8_f36b_11e8_b91d_784f43a64dfflevel0_row1\" class=\"row_heading level0 row1\" ><a href=\"https://en.wikipedia.org/wiki/Cephalopoda\">Cephalopoda</a></th> \n",
       "        <td id=\"T_0a5feee8_f36b_11e8_b91d_784f43a64dffrow1_col0\" class=\"data row1 col0\" >1</td> \n",
       "    </tr></tbody> \n",
       "</table> "
      ],
      "text/plain": [
       "<pandas.io.formats.style.Styler at 0x10ea65208>"
      ]
     },
     "execution_count": 110,
     "metadata": {},
     "output_type": "execute_result"
    }
   ],
   "source": [
    "wiki('Actinopterygii', 'preysOn', 'targetTaxonClassName')"
   ]
  }
 ],
 "metadata": {
  "kernelspec": {
   "display_name": "Python 3",
   "language": "python",
   "name": "python3"
  },
  "language_info": {
   "codemirror_mode": {
    "name": "ipython",
    "version": 3
   },
   "file_extension": ".py",
   "mimetype": "text/x-python",
   "name": "python",
   "nbconvert_exporter": "python",
   "pygments_lexer": "ipython3",
   "version": "3.6.3"
  }
 },
 "nbformat": 4,
 "nbformat_minor": 2
}
